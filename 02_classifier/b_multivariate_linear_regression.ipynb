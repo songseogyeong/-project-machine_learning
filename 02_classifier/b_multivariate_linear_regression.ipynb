{
 "cells": [
  {
   "cell_type": "markdown",
   "id": "98897e10-349a-41ab-b549-7066b9da48a7",
   "metadata": {},
   "source": [
    "#### Multivariate Linear Regression (다변량 선형 회귀)\n",
    "- 하나의 종속변수와 여러 독립변수 사이의 관계를 분석하는 기법이다."
   ]
  },
  {
   "cell_type": "code",
   "execution_count": 1,
   "id": "5e0509a6-6487-43c9-a56e-f689f273fd47",
   "metadata": {},
   "outputs": [],
   "source": [
    "import pandas as pd"
   ]
  },
  {
   "cell_type": "code",
   "execution_count": null,
   "id": "fc9f8b09-75ca-452a-b40d-8b2fd9347c07",
   "metadata": {},
   "outputs": [],
   "source": [
    "# \n",
    "a_df = pd.read_csv('./datasets/advertising.csv')\n",
    "a_df"
   ]
  },
  {
   "cell_type": "code",
   "execution_count": null,
   "id": "99a36b0e-2f00-4539-b05d-596fae9d9df8",
   "metadata": {},
   "outputs": [],
   "source": []
  },
  {
   "cell_type": "code",
   "execution_count": null,
   "id": "f20a91b7-1385-43e8-9605-2c8a3f87f8f8",
   "metadata": {},
   "outputs": [],
   "source": []
  },
  {
   "cell_type": "code",
   "execution_count": null,
   "id": "3607b723-b544-47b2-b977-c8b22e069c55",
   "metadata": {},
   "outputs": [],
   "source": []
  },
  {
   "cell_type": "code",
   "execution_count": null,
   "id": "ccf0f3d8-b910-4ae4-9d15-67cdc3bada99",
   "metadata": {},
   "outputs": [],
   "source": []
  },
  {
   "cell_type": "code",
   "execution_count": null,
   "id": "9d3b8155-094d-4852-8fcf-2f7ce21aca49",
   "metadata": {},
   "outputs": [],
   "source": []
  },
  {
   "cell_type": "code",
   "execution_count": null,
   "id": "8e42c2bc-b90d-41a9-8b96-a6cfaae0085b",
   "metadata": {},
   "outputs": [],
   "source": []
  },
  {
   "cell_type": "code",
   "execution_count": null,
   "id": "93f7c9b6-5f7b-4f5a-8a61-a6aa9b33cb6b",
   "metadata": {},
   "outputs": [],
   "source": []
  }
 ],
 "metadata": {
  "kernelspec": {
   "display_name": "Python 3 (ipykernel)",
   "language": "python",
   "name": "python3"
  },
  "language_info": {
   "codemirror_mode": {
    "name": "ipython",
    "version": 3
   },
   "file_extension": ".py",
   "mimetype": "text/x-python",
   "name": "python",
   "nbconvert_exporter": "python",
   "pygments_lexer": "ipython3",
   "version": "3.11.8"
  }
 },
 "nbformat": 4,
 "nbformat_minor": 5
}
