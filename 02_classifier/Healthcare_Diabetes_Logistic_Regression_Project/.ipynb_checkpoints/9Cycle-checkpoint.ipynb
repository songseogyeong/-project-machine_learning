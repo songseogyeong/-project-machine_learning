{
 "cells": [
  {
   "cell_type": "markdown",
   "id": "6357e302-5921-4ec1-ac72-b0591dae77d0",
   "metadata": {},
   "source": [
    "# Healthcare Diabetes Classifier Project (Logistic_Regression)\n",
    "## 당뇨병 진단 예측\n",
    "- 당뇨병이 양성인지 음성인지 예측\n",
    "\n",
    "#### feature (22개)\n",
    "- Id: 각 데이터 항목의 고유 식별자\n",
    "- Pregnancies: 임신 횟수\n",
    "- Glucose: 경구 포도당 내성 테스트에서 2시간 동안의 혈장 포도당 농도\n",
    "- BloodPressure: 확장기 혈압(mmHg)\n",
    "- SkinThickness: 삼두근 피부주름 두께(mm)\n",
    "- Insulin: 2시간 혈청 인슐린(mu U/ml)\n",
    "- BMI: 체질량 지수(체중(kg) / 키(m^2))\n",
    "- DiabetesPedigreeFunction: 당뇨병의 유전적 점수인 당뇨병 혈통 기능\n",
    "- Age: 나이(년)\n",
    "\n",
    "\n",
    "#### target\n",
    "- Outcome: 당뇨병의 존재(1) 또는 부재(0)를 나타내는 이진 분류"
   ]
  },
  {
   "cell_type": "code",
   "execution_count": 1,
   "id": "dcd29f3a-66c1-4da8-952a-ebf333e53c9f",
   "metadata": {},
   "outputs": [
    {
     "data": {
      "text/html": [
       "<div>\n",
       "<style scoped>\n",
       "    .dataframe tbody tr th:only-of-type {\n",
       "        vertical-align: middle;\n",
       "    }\n",
       "\n",
       "    .dataframe tbody tr th {\n",
       "        vertical-align: top;\n",
       "    }\n",
       "\n",
       "    .dataframe thead th {\n",
       "        text-align: right;\n",
       "    }\n",
       "</style>\n",
       "<table border=\"1\" class=\"dataframe\">\n",
       "  <thead>\n",
       "    <tr style=\"text-align: right;\">\n",
       "      <th></th>\n",
       "      <th>Id</th>\n",
       "      <th>Pregnancies</th>\n",
       "      <th>Glucose</th>\n",
       "      <th>BloodPressure</th>\n",
       "      <th>SkinThickness</th>\n",
       "      <th>Insulin</th>\n",
       "      <th>BMI</th>\n",
       "      <th>DiabetesPedigreeFunction</th>\n",
       "      <th>Age</th>\n",
       "      <th>Outcome</th>\n",
       "    </tr>\n",
       "  </thead>\n",
       "  <tbody>\n",
       "    <tr>\n",
       "      <th>0</th>\n",
       "      <td>1</td>\n",
       "      <td>6</td>\n",
       "      <td>148</td>\n",
       "      <td>72</td>\n",
       "      <td>35</td>\n",
       "      <td>0</td>\n",
       "      <td>33.6</td>\n",
       "      <td>0.627</td>\n",
       "      <td>50</td>\n",
       "      <td>1</td>\n",
       "    </tr>\n",
       "    <tr>\n",
       "      <th>1</th>\n",
       "      <td>2</td>\n",
       "      <td>1</td>\n",
       "      <td>85</td>\n",
       "      <td>66</td>\n",
       "      <td>29</td>\n",
       "      <td>0</td>\n",
       "      <td>26.6</td>\n",
       "      <td>0.351</td>\n",
       "      <td>31</td>\n",
       "      <td>0</td>\n",
       "    </tr>\n",
       "    <tr>\n",
       "      <th>2</th>\n",
       "      <td>3</td>\n",
       "      <td>8</td>\n",
       "      <td>183</td>\n",
       "      <td>64</td>\n",
       "      <td>0</td>\n",
       "      <td>0</td>\n",
       "      <td>23.3</td>\n",
       "      <td>0.672</td>\n",
       "      <td>32</td>\n",
       "      <td>1</td>\n",
       "    </tr>\n",
       "    <tr>\n",
       "      <th>3</th>\n",
       "      <td>4</td>\n",
       "      <td>1</td>\n",
       "      <td>89</td>\n",
       "      <td>66</td>\n",
       "      <td>23</td>\n",
       "      <td>94</td>\n",
       "      <td>28.1</td>\n",
       "      <td>0.167</td>\n",
       "      <td>21</td>\n",
       "      <td>0</td>\n",
       "    </tr>\n",
       "    <tr>\n",
       "      <th>4</th>\n",
       "      <td>5</td>\n",
       "      <td>0</td>\n",
       "      <td>137</td>\n",
       "      <td>40</td>\n",
       "      <td>35</td>\n",
       "      <td>168</td>\n",
       "      <td>43.1</td>\n",
       "      <td>2.288</td>\n",
       "      <td>33</td>\n",
       "      <td>1</td>\n",
       "    </tr>\n",
       "    <tr>\n",
       "      <th>...</th>\n",
       "      <td>...</td>\n",
       "      <td>...</td>\n",
       "      <td>...</td>\n",
       "      <td>...</td>\n",
       "      <td>...</td>\n",
       "      <td>...</td>\n",
       "      <td>...</td>\n",
       "      <td>...</td>\n",
       "      <td>...</td>\n",
       "      <td>...</td>\n",
       "    </tr>\n",
       "    <tr>\n",
       "      <th>2763</th>\n",
       "      <td>2764</td>\n",
       "      <td>2</td>\n",
       "      <td>75</td>\n",
       "      <td>64</td>\n",
       "      <td>24</td>\n",
       "      <td>55</td>\n",
       "      <td>29.7</td>\n",
       "      <td>0.370</td>\n",
       "      <td>33</td>\n",
       "      <td>0</td>\n",
       "    </tr>\n",
       "    <tr>\n",
       "      <th>2764</th>\n",
       "      <td>2765</td>\n",
       "      <td>8</td>\n",
       "      <td>179</td>\n",
       "      <td>72</td>\n",
       "      <td>42</td>\n",
       "      <td>130</td>\n",
       "      <td>32.7</td>\n",
       "      <td>0.719</td>\n",
       "      <td>36</td>\n",
       "      <td>1</td>\n",
       "    </tr>\n",
       "    <tr>\n",
       "      <th>2765</th>\n",
       "      <td>2766</td>\n",
       "      <td>6</td>\n",
       "      <td>85</td>\n",
       "      <td>78</td>\n",
       "      <td>0</td>\n",
       "      <td>0</td>\n",
       "      <td>31.2</td>\n",
       "      <td>0.382</td>\n",
       "      <td>42</td>\n",
       "      <td>0</td>\n",
       "    </tr>\n",
       "    <tr>\n",
       "      <th>2766</th>\n",
       "      <td>2767</td>\n",
       "      <td>0</td>\n",
       "      <td>129</td>\n",
       "      <td>110</td>\n",
       "      <td>46</td>\n",
       "      <td>130</td>\n",
       "      <td>67.1</td>\n",
       "      <td>0.319</td>\n",
       "      <td>26</td>\n",
       "      <td>1</td>\n",
       "    </tr>\n",
       "    <tr>\n",
       "      <th>2767</th>\n",
       "      <td>2768</td>\n",
       "      <td>2</td>\n",
       "      <td>81</td>\n",
       "      <td>72</td>\n",
       "      <td>15</td>\n",
       "      <td>76</td>\n",
       "      <td>30.1</td>\n",
       "      <td>0.547</td>\n",
       "      <td>25</td>\n",
       "      <td>0</td>\n",
       "    </tr>\n",
       "  </tbody>\n",
       "</table>\n",
       "<p>2768 rows × 10 columns</p>\n",
       "</div>"
      ],
      "text/plain": [
       "        Id  Pregnancies  Glucose  BloodPressure  SkinThickness  Insulin   BMI  \\\n",
       "0        1            6      148             72             35        0  33.6   \n",
       "1        2            1       85             66             29        0  26.6   \n",
       "2        3            8      183             64              0        0  23.3   \n",
       "3        4            1       89             66             23       94  28.1   \n",
       "4        5            0      137             40             35      168  43.1   \n",
       "...    ...          ...      ...            ...            ...      ...   ...   \n",
       "2763  2764            2       75             64             24       55  29.7   \n",
       "2764  2765            8      179             72             42      130  32.7   \n",
       "2765  2766            6       85             78              0        0  31.2   \n",
       "2766  2767            0      129            110             46      130  67.1   \n",
       "2767  2768            2       81             72             15       76  30.1   \n",
       "\n",
       "      DiabetesPedigreeFunction  Age  Outcome  \n",
       "0                        0.627   50        1  \n",
       "1                        0.351   31        0  \n",
       "2                        0.672   32        1  \n",
       "3                        0.167   21        0  \n",
       "4                        2.288   33        1  \n",
       "...                        ...  ...      ...  \n",
       "2763                     0.370   33        0  \n",
       "2764                     0.719   36        1  \n",
       "2765                     0.382   42        0  \n",
       "2766                     0.319   26        1  \n",
       "2767                     0.547   25        0  \n",
       "\n",
       "[2768 rows x 10 columns]"
      ]
     },
     "execution_count": 1,
     "metadata": {},
     "output_type": "execute_result"
    }
   ],
   "source": [
    "import pandas as pd\n",
    "\n",
    "# 데이터 세트 호출\n",
    "h_df = pd.read_csv('./datasets/Healthcare_Diabetes.csv', low_memory=False)\n",
    "h_df"
   ]
  },
  {
   "cell_type": "markdown",
   "id": "e08475a1-308c-4548-adac-92029f1f4eae",
   "metadata": {},
   "source": [
    "#### 📊 데이터 탐색"
   ]
  },
  {
   "cell_type": "code",
   "execution_count": 2,
   "id": "89bd0896-f4f7-493d-a5e7-8af62a65baa2",
   "metadata": {},
   "outputs": [],
   "source": [
    "import matplotlib.pyplot as plt\n",
    "import numpy as np\n",
    "\n",
    "# 한글 폰트 경로 설정\n",
    "plt.rcParams['font.family'] ='Malgun Gothic'\n",
    "plt.rcParams['axes.unicode_minus'] =False\n",
    "\n",
    "# 컬러맵 가져오기\n",
    "cmap = plt.get_cmap('Pastel1')\n",
    "# 컬러맵의 색상 선택\n",
    "outer_colors = cmap(np.array([0, 1, 2, 3, 4, 5, 6]))"
   ]
  },
  {
   "cell_type": "markdown",
   "id": "389e228c-d00d-4fa1-88bd-cb59359c0c2d",
   "metadata": {},
   "source": [
    "### 🌟 1Cycle"
   ]
  },
  {
   "cell_type": "markdown",
   "id": "be0c9345-a735-4a68-ab4f-e098730cec5a",
   "metadata": {},
   "source": [
    "#### 📊 전처리"
   ]
  },
  {
   "cell_type": "code",
   "execution_count": 3,
   "id": "526cd502-b68b-47f3-94c7-b4403b86c8c6",
   "metadata": {},
   "outputs": [],
   "source": [
    "# 불필요한 데이터 세트 제거 (id 컬럼)\n",
    "pre_h_df = h_df.drop(labels='Id', axis=1)"
   ]
  },
  {
   "cell_type": "code",
   "execution_count": 4,
   "id": "88d4be1a-57fd-4286-9542-77e743f8f748",
   "metadata": {},
   "outputs": [],
   "source": [
    "# 언더 샘플링\n",
    "Outcome0 = pre_h_df[pre_h_df.Outcome == 0].sample(952, random_state=124)\n",
    "Outcome1 = pre_h_df[pre_h_df.Outcome == 1]\n",
    "pre_h_df = pd.concat([Outcome0, Outcome1]).reset_index(drop=True)"
   ]
  },
  {
   "cell_type": "markdown",
   "id": "40fce915-1e4b-497e-ad82-c1180f34d4a2",
   "metadata": {},
   "source": [
    "#### 🚩 1Cycle 결과\n",
    "- Logistic Regression  \n",
    "**정확도: 0.7349, 정밀도: 0.7380, 재현율: 0.7263, F1:0.7321, AUC:0.7349**"
   ]
  },
  {
   "cell_type": "markdown",
   "id": "72226df3-436a-4364-856d-3235d4b34b36",
   "metadata": {},
   "source": [
    "---"
   ]
  },
  {
   "cell_type": "markdown",
   "id": "c46a4c41-74f7-43a1-935d-00d0056ad072",
   "metadata": {},
   "source": [
    "### 🌟 2Cycle"
   ]
  },
  {
   "cell_type": "code",
   "execution_count": 5,
   "id": "b193a9a1-aa74-4341-a5e4-ca83572810f6",
   "metadata": {},
   "outputs": [],
   "source": [
    "# 수치형 데이터 이상치 제거\n",
    "from sklearn.preprocessing import StandardScaler\n",
    "\n",
    "std_pre_h_df = pre_h_df.copy()\n",
    "columns = ['Glucose', 'BloodPressure', 'SkinThickness', 'BMI', 'DiabetesPedigreeFunction']\n",
    "\n",
    "for column in columns:\n",
    "    # 표준화 객체 생성\n",
    "    std = StandardScaler()\n",
    "    # 데이터 표준화 변환\n",
    "    result = std.fit_transform(pre_h_df[[column]])\n",
    "    # 표준화 데이터 프레임 생성\n",
    "    std_pre_h_df[column] = result\n",
    "\n",
    "for column in columns:\n",
    "    # 타겟 데이터 이상치 제거\n",
    "    std_pre_h_df = std_pre_h_df[std_pre_h_df[column].between(-1.96, 1.96)]\n",
    "\n",
    "# 이상치 제거 후 유지되는 인덱스를 대조하여 원본 데이터 이상치 제거\n",
    "pre_h_df = pre_h_df.iloc[std_pre_h_df.index].reset_index(drop=True)"
   ]
  },
  {
   "cell_type": "markdown",
   "id": "4c1b78f8-c28d-4570-9c06-5724b038b7e5",
   "metadata": {},
   "source": [
    "#### 🚩 1Cycle 결과\n",
    "- Logistic Regression  \n",
    "**정확도: 0.7349, 정밀도: 0.7380, 재현율: 0.7263, F1:0.7321, AUC:0.7349**\n",
    "\n",
    "#### 🚩 2Cycle 결과\n",
    "- 전처리 후 Logistic Regression  \n",
    "**정확도: 0.7911, 정밀도: 0.7817, 재현율: 0.7603, F1:0.7708, AUC:0.7890**\n",
    "\n",
    "#### 💡 분석\n",
    "- 이상치 제거 후 성능이 향상된 것을 확인함.\n",
    "- 최소-최대 스케일링(min-max scaling)을 통해 값을 정규화하여 성능 차이를 비교하기로 함."
   ]
  },
  {
   "cell_type": "markdown",
   "id": "275c46db-fb9e-43ae-8190-282e3f6b4c5c",
   "metadata": {},
   "source": [
    "---"
   ]
  },
  {
   "cell_type": "markdown",
   "id": "4b55ed8c-88ea-4d85-a2f6-f6b02284a495",
   "metadata": {},
   "source": [
    "### 🌟 3Cycle"
   ]
  },
  {
   "cell_type": "markdown",
   "id": "eb84bb5c-eb49-42a4-8a46-46972f8e6f31",
   "metadata": {},
   "source": [
    "#### 🚩 2Cycle 결과\n",
    "- Logistic Regression  \n",
    "**정확도: 0.7911, 정밀도: 0.7817, 재현율: 0.7603, F1:0.7708, AUC:0.7890**\n",
    "\n",
    "#### 🚩 3Cycle 결과\n",
    "- Min-Max Scaling  \n",
    "**정확도: 0.7722, 정밀도: 0.7569, 재현율: 0.7466, F1:0.7517, AUC:0.7703**\n",
    "\n",
    "#### 💡 분석\n",
    "- Min-Max Scaling 시 이전 보다 성능이 저하됨에 따라 해당 전처리를 진행하지 않기로 함.\n",
    "- 피처 이상치 제거 후 성능 평가를 진행하기로 함."
   ]
  },
  {
   "cell_type": "markdown",
   "id": "b083d7ae-8fd0-4548-ad57-d37d5b8acfe6",
   "metadata": {},
   "source": [
    "---"
   ]
  },
  {
   "cell_type": "markdown",
   "id": "295f5538-74ea-457b-a699-35c7f929bd5f",
   "metadata": {},
   "source": [
    "### 🌟 4Cycle"
   ]
  },
  {
   "cell_type": "markdown",
   "id": "856452e0-db9c-4b2a-a5c5-503dec23c0cd",
   "metadata": {},
   "source": [
    "#### 🚩 2Cycle 결과\n",
    "- Logistic Regression  \n",
    "**정확도: 0.7911, 정밀도: 0.7817, 재현율: 0.7603, F1:0.7708, AUC:0.7890**\n",
    "\n",
    "#### 🚩 4Cycle 결과\n",
    "- 피처 이상치 제거  \n",
    "**정확도: 0.7716, 정밀도: 0.7474, 재현율: 0.7100, F1:0.7282, AUC:0.7641**\n",
    "\n",
    "#### 💡 분석\n",
    "- 피처 이상치 제거 시 이전 보다 성능이 저하됨에 따라 해당 전처리를 진행하지 않기로 함.\n",
    "- 0과 같은 특정 데이터가 높게 나타나는 SkinThickness, lnsulin의 일부 데이터의 전처리를 진행하고자 함."
   ]
  },
  {
   "cell_type": "markdown",
   "id": "f1873b44-5857-4371-9a6f-c712863b40df",
   "metadata": {},
   "source": [
    "---"
   ]
  },
  {
   "cell_type": "markdown",
   "id": "8dcef1c3-3752-4dcc-b8af-84c99177befb",
   "metadata": {},
   "source": [
    "### 🌟 5Cycle"
   ]
  },
  {
   "cell_type": "markdown",
   "id": "ab2b0209-7292-404b-959e-7da9d7a8f397",
   "metadata": {},
   "source": [
    "#### 🚩 2Cycle 결과\n",
    "- Logistic Regression  \n",
    "**정확도: 0.7911, 정밀도: 0.7817, 재현율: 0.7603, F1:0.7708, AUC:0.7890**\n",
    "\n",
    "#### 🚩 4Cycle 결과\n",
    "- 피처 이상치 제거  \n",
    "**정확도: 0.7716, 정밀도: 0.7474, 재현율: 0.7100, F1:0.7282, AUC:0.7641**\n",
    "\n",
    "#### 🚩 5Cycle 결과\n",
    "- 특정 피처 이상치 제거  \n",
    "**정확도: 0.7917, 정밀도: 0.8000, 재현율: 0.6087, F1:0.6914, AUC:0.7571**\n",
    "\n",
    "#### 💡 분석\n",
    "- 특정 피처 이상치 제거 시 오히려 성능이 저하되는 것을 확인함.\n",
    "- 해당 전처리는 진행하지 않는 것으로 하며, 분포 변환을 별도로 진행하기로 함."
   ]
  },
  {
   "cell_type": "markdown",
   "id": "f087598b-3478-4c50-8dfe-3919edecae9b",
   "metadata": {},
   "source": [
    "---"
   ]
  },
  {
   "cell_type": "markdown",
   "id": "20e2f46b-7f45-4aed-a88d-58d035e24fef",
   "metadata": {},
   "source": [
    "### 🌟 6Cycle"
   ]
  },
  {
   "cell_type": "markdown",
   "id": "09ba86a5-6deb-47a5-9cd0-2cb94c49385d",
   "metadata": {},
   "source": [
    "#### 🚩 2Cycle 결과\n",
    "- Logistic Regression  \n",
    "**정확도: 0.7911, 정밀도: 0.7817, 재현율: 0.7603, F1:0.7708, AUC:0.7890**\n",
    "\n",
    "#### 🚩 6Cycle 결과\n",
    "- 분포 변환 \n",
    "**정확도: 0.7880, 정밀도: 0.7801, 재현율: 0.7534, F1:0.7666, AUC:0.7855**\n",
    "\n",
    "#### 💡 분석\n",
    "- 분포 변환 후 성능이 근소하게 하락함에 따라 해당 전처리를 진행하지 않는 것으로 함.\n",
    "- 차원축소를 진행하여 성능으"
   ]
  },
  {
   "cell_type": "markdown",
   "id": "25b4c792-5629-4ae4-98ee-79671158bec7",
   "metadata": {},
   "source": [
    "---"
   ]
  },
  {
   "cell_type": "markdown",
   "id": "4887f17a-426b-4b93-83d2-c2656ef7495d",
   "metadata": {},
   "source": [
    "### 🌟 7~8Cycle"
   ]
  },
  {
   "cell_type": "markdown",
   "id": "4006e132-a6ef-44c6-8da4-f82f46b9de64",
   "metadata": {},
   "source": [
    "#### 🚩 2Cycle 결과\n",
    "- Logistic Regression  \n",
    "**정확도: 0.7911, 정밀도: 0.7817, 재현율: 0.7603, F1:0.7708, AUC:0.7890**\n",
    "\n",
    "#### 🚩 7Cycle 결과\n",
    "- PCA\n",
    "**정확도: 0.7405, 정밀도: 0.7462, 재현율: 0.6644, F1:0.7029, AUC:0.7351**\n",
    "\n",
    "#### 🚩 8Cycle 결과\n",
    "- LDA\n",
    "**정확도: 0.2184, 정밀도: 0.1656, 재현율: 0.1712, F1:0.1684, AUC:0.2150**\n",
    "\n",
    "#### 💡 분석\n",
    "- 차원축소 진행 후 성능이 많이 하락한 것을 확인할 수 있음.\n",
    "- 상관관계, 다중 공산성 등을 확인하여 전처리 진행 후 성능 평가를 진행하고자 함."
   ]
  },
  {
   "cell_type": "markdown",
   "id": "06b8a06d-8201-426a-9972-cd06d462e67b",
   "metadata": {},
   "source": [
    "---"
   ]
  },
  {
   "cell_type": "markdown",
   "id": "71cfab0b-2fdb-46a9-8ce5-74411a2ca0d8",
   "metadata": {},
   "source": [
    "### 🌟 9Cycle"
   ]
  },
  {
   "cell_type": "code",
   "execution_count": 6,
   "id": "1675ee38-a0a9-453e-85fc-3845ed49e245",
   "metadata": {},
   "outputs": [],
   "source": [
    "from sklearn.metrics import accuracy_score, precision_score , recall_score , confusion_matrix, ConfusionMatrixDisplay, f1_score, roc_auc_score\n",
    "import matplotlib.pyplot as plt\n",
    "\n",
    "def get_evaluation(y_test, prediction, classifier=None, X_test=None):\n",
    "    confusion = confusion_matrix(y_test, prediction)\n",
    "    accuracy = accuracy_score(y_test , prediction)\n",
    "    precision = precision_score(y_test , prediction)\n",
    "    recall = recall_score(y_test , prediction)\n",
    "    f1 = f1_score(y_test, prediction)\n",
    "    roc_auc = roc_auc_score(y_test, prediction)\n",
    "\n",
    "    print('오차 행렬')\n",
    "    print(confusion)\n",
    "    print('정확도: {0:.4f}, 정밀도: {1:.4f}, 재현율: {2:.4f}, F1:{3:.4f}, AUC:{4:.4f}'.format(accuracy , precision ,recall, f1, roc_auc))\n",
    "    print(\"#\" * 75)\n",
    "    \n",
    "    if classifier is not None and  X_test is not None:\n",
    "        fig, axes = plt.subplots(nrows=1, ncols=2, figsize=(8,4))\n",
    "        titles_options = [(\"Confusion matrix\", None), (\"Normalized confusion matrix\", \"true\")]\n",
    "\n",
    "        for (title, normalize), ax in zip(titles_options, axes.flatten()):\n",
    "            disp = ConfusionMatrixDisplay.from_estimator(classifier, X_test, y_test, ax=ax, cmap=plt.cm.Blues, normalize=normalize)\n",
    "            disp.ax_.set_title(title)\n",
    "        plt.show()"
   ]
  },
  {
   "cell_type": "code",
   "execution_count": 7,
   "id": "f114bcc9-c3ee-455c-b8b2-b6dc2c5a852e",
   "metadata": {},
   "outputs": [
    {
     "name": "stdout",
     "output_type": "stream",
     "text": [
      "                                 OLS Regression Results                                \n",
      "=======================================================================================\n",
      "Dep. Variable:                Outcome   R-squared (uncentered):                   0.601\n",
      "Model:                            OLS   Adj. R-squared (uncentered):              0.599\n",
      "Method:                 Least Squares   F-statistic:                              295.9\n",
      "Date:                Mon, 13 May 2024   Prob (F-statistic):                   5.88e-307\n",
      "Time:                        15:43:45   Log-Likelihood:                         -908.08\n",
      "No. Observations:                1579   AIC:                                      1832.\n",
      "Df Residuals:                    1571   BIC:                                      1875.\n",
      "Df Model:                           8                                                  \n",
      "Covariance Type:            nonrobust                                                  \n",
      "============================================================================================\n",
      "                               coef    std err          t      P>|t|      [0.025      0.975]\n",
      "--------------------------------------------------------------------------------------------\n",
      "Pregnancies                  0.0244      0.004      6.538      0.000       0.017       0.032\n",
      "Glucose                      0.0055      0.000     13.278      0.000       0.005       0.006\n",
      "BloodPressure               -0.0082      0.001     -8.974      0.000      -0.010      -0.006\n",
      "SkinThickness               -0.0011      0.001     -1.303      0.193      -0.003       0.001\n",
      "Insulin                   9.625e-05      0.000      0.847      0.397      -0.000       0.000\n",
      "BMI                          0.0040      0.002      2.130      0.033       0.000       0.008\n",
      "DiabetesPedigreeFunction     0.1638      0.044      3.693      0.000       0.077       0.251\n",
      "Age                          0.0032      0.001      2.659      0.008       0.001       0.006\n",
      "==============================================================================\n",
      "Omnibus:                     2706.314   Durbin-Watson:                   0.331\n",
      "Prob(Omnibus):                  0.000   Jarque-Bera (JB):              113.202\n",
      "Skew:                           0.155   Prob(JB):                     2.62e-25\n",
      "Kurtosis:                       1.726   Cond. No.                         791.\n",
      "==============================================================================\n",
      "\n",
      "Notes:\n",
      "[1] R² is computed without centering (uncentered) since the model does not contain a constant.\n",
      "[2] Standard Errors assume that the covariance matrix of the errors is correctly specified.\n"
     ]
    }
   ],
   "source": [
    "from statsmodels.api import OLS\n",
    "\n",
    "# 데이터 세트 분리\n",
    "# 피처, 타겟 데이터 분리\n",
    "features, targets = pre_h_df.iloc[:, :-1], pre_h_df.iloc[:, -1]\n",
    "\n",
    "# 객체 생성\n",
    "model = OLS(targets, features)\n",
    "# 훈련 및 정보 출력\n",
    "print(model.fit().summary())"
   ]
  },
  {
   "cell_type": "code",
   "execution_count": 8,
   "id": "e304fd45-d86e-41d7-bb08-36de2db85193",
   "metadata": {},
   "outputs": [],
   "source": [
    "from statsmodels.stats.outliers_influence import variance_inflation_factor\n",
    "\n",
    "def get_vif(features):\n",
    "    vif = pd.DataFrame()\n",
    "    vif['vif_score'] = [variance_inflation_factor(features.values, i) for i in range(features.shape[1])]\n",
    "    vif['features'] = features.columns\n",
    "    return vif"
   ]
  },
  {
   "cell_type": "code",
   "execution_count": 9,
   "id": "5faf4044-2e72-4c28-a12c-859487fa6707",
   "metadata": {},
   "outputs": [
    {
     "data": {
      "text/html": [
       "<div>\n",
       "<style scoped>\n",
       "    .dataframe tbody tr th:only-of-type {\n",
       "        vertical-align: middle;\n",
       "    }\n",
       "\n",
       "    .dataframe tbody tr th {\n",
       "        vertical-align: top;\n",
       "    }\n",
       "\n",
       "    .dataframe thead th {\n",
       "        text-align: right;\n",
       "    }\n",
       "</style>\n",
       "<table border=\"1\" class=\"dataframe\">\n",
       "  <thead>\n",
       "    <tr style=\"text-align: right;\">\n",
       "      <th></th>\n",
       "      <th>vif_score</th>\n",
       "      <th>features</th>\n",
       "    </tr>\n",
       "  </thead>\n",
       "  <tbody>\n",
       "    <tr>\n",
       "      <th>0</th>\n",
       "      <td>3.298600</td>\n",
       "      <td>Pregnancies</td>\n",
       "    </tr>\n",
       "    <tr>\n",
       "      <th>1</th>\n",
       "      <td>23.676345</td>\n",
       "      <td>Glucose</td>\n",
       "    </tr>\n",
       "    <tr>\n",
       "      <th>2</th>\n",
       "      <td>37.887663</td>\n",
       "      <td>BloodPressure</td>\n",
       "    </tr>\n",
       "    <tr>\n",
       "      <th>3</th>\n",
       "      <td>4.412035</td>\n",
       "      <td>SkinThickness</td>\n",
       "    </tr>\n",
       "    <tr>\n",
       "      <th>4</th>\n",
       "      <td>2.372232</td>\n",
       "      <td>Insulin</td>\n",
       "    </tr>\n",
       "    <tr>\n",
       "      <th>5</th>\n",
       "      <td>32.986982</td>\n",
       "      <td>BMI</td>\n",
       "    </tr>\n",
       "    <tr>\n",
       "      <th>6</th>\n",
       "      <td>4.202315</td>\n",
       "      <td>DiabetesPedigreeFunction</td>\n",
       "    </tr>\n",
       "    <tr>\n",
       "      <th>7</th>\n",
       "      <td>15.639765</td>\n",
       "      <td>Age</td>\n",
       "    </tr>\n",
       "  </tbody>\n",
       "</table>\n",
       "</div>"
      ],
      "text/plain": [
       "   vif_score                  features\n",
       "0   3.298600               Pregnancies\n",
       "1  23.676345                   Glucose\n",
       "2  37.887663             BloodPressure\n",
       "3   4.412035             SkinThickness\n",
       "4   2.372232                   Insulin\n",
       "5  32.986982                       BMI\n",
       "6   4.202315  DiabetesPedigreeFunction\n",
       "7  15.639765                       Age"
      ]
     },
     "execution_count": 9,
     "metadata": {},
     "output_type": "execute_result"
    }
   ],
   "source": [
    "# 다중 공산성 확인\n",
    "get_vif(features)"
   ]
  },
  {
   "cell_type": "code",
   "execution_count": 10,
   "id": "fb6832e6-fde0-4450-881b-a6f28af4809e",
   "metadata": {},
   "outputs": [
    {
     "data": {
      "text/plain": [
       "Glucose                     0.502442\n",
       "Age                         0.298462\n",
       "BMI                         0.291449\n",
       "Pregnancies                 0.266905\n",
       "BloodPressure               0.190834\n",
       "DiabetesPedigreeFunction    0.167986\n",
       "Insulin                     0.161790\n",
       "SkinThickness               0.060222\n",
       "Name: Outcome, dtype: float64"
      ]
     },
     "execution_count": 10,
     "metadata": {},
     "output_type": "execute_result"
    }
   ],
   "source": [
    "# 상관관계 확인\n",
    "pre_h_df.corr()['Outcome'].sort_values(ascending=False)[1:]"
   ]
  },
  {
   "cell_type": "code",
   "execution_count": 11,
   "id": "6bf9b48b-9fb8-4f0f-9652-0d5cef2a89d1",
   "metadata": {},
   "outputs": [
    {
     "data": {
      "image/png": "[encoded data removed]",
      "text/plain": [
       "<Figure size 640x480 with 2 Axes>"
      ]
     },
     "metadata": {},
     "output_type": "display_data"
    }
   ],
   "source": [
    "import seaborn as sns\n",
    "\n",
    "sns.heatmap(features.corr())\n",
    "plt.show()"
   ]
  },
  {
   "cell_type": "code",
   "execution_count": 12,
   "id": "8a060bad-dc2f-4330-9d2b-f27054b3e561",
   "metadata": {},
   "outputs": [],
   "source": [
    "# 상관 관계가 낮은 피처 제거\n",
    "pre_h_df = pre_h_df.drop(labels=['SkinThickness'], axis=1)"
   ]
  },
  {
   "cell_type": "code",
   "execution_count": 13,
   "id": "7c0b375d-f9ee-4be8-8189-80ea8d5aa030",
   "metadata": {},
   "outputs": [
    {
     "name": "stdout",
     "output_type": "stream",
     "text": [
      "                                 OLS Regression Results                                \n",
      "=======================================================================================\n",
      "Dep. Variable:                Outcome   R-squared (uncentered):                   0.601\n",
      "Model:                            OLS   Adj. R-squared (uncentered):              0.599\n",
      "Method:                 Least Squares   F-statistic:                              337.7\n",
      "Date:                Mon, 13 May 2024   Prob (F-statistic):                   7.19e-308\n",
      "Time:                        15:43:45   Log-Likelihood:                         -908.93\n",
      "No. Observations:                1579   AIC:                                      1832.\n",
      "Df Residuals:                    1572   BIC:                                      1869.\n",
      "Df Model:                           7                                                  \n",
      "Covariance Type:            nonrobust                                                  \n",
      "============================================================================================\n",
      "                               coef    std err          t      P>|t|      [0.025      0.975]\n",
      "--------------------------------------------------------------------------------------------\n",
      "Pregnancies                  0.0242      0.004      6.500      0.000       0.017       0.032\n",
      "Glucose                      0.0056      0.000     13.624      0.000       0.005       0.006\n",
      "BloodPressure               -0.0082      0.001     -9.018      0.000      -0.010      -0.006\n",
      "Insulin                   3.143e-05      0.000      0.308      0.758      -0.000       0.000\n",
      "BMI                          0.0031      0.002      1.782      0.075      -0.000       0.007\n",
      "DiabetesPedigreeFunction     0.1588      0.044      3.594      0.000       0.072       0.246\n",
      "Age                          0.0034      0.001      2.810      0.005       0.001       0.006\n",
      "==============================================================================\n",
      "Omnibus:                     2918.234   Durbin-Watson:                   0.331\n",
      "Prob(Omnibus):                  0.000   Jarque-Bera (JB):              114.134\n",
      "Skew:                           0.156   Prob(JB):                     1.64e-25\n",
      "Kurtosis:                       1.720   Cond. No.                         783.\n",
      "==============================================================================\n",
      "\n",
      "Notes:\n",
      "[1] R² is computed without centering (uncentered) since the model does not contain a constant.\n",
      "[2] Standard Errors assume that the covariance matrix of the errors is correctly specified.\n"
     ]
    }
   ],
   "source": [
    "from statsmodels.api import OLS\n",
    "\n",
    "# 데이터 세트 분리\n",
    "# 피처, 타겟 데이터 분리\n",
    "features, targets = pre_h_df.iloc[:, :-1], pre_h_df.iloc[:, -1]\n",
    "\n",
    "# 객체 생성\n",
    "model = OLS(targets, features)\n",
    "# 훈련 및 정보 출력\n",
    "print(model.fit().summary())"
   ]
  },
  {
   "cell_type": "code",
   "execution_count": 14,
   "id": "6077256a-b7c7-42b4-a241-26bf5d0d58c2",
   "metadata": {},
   "outputs": [
    {
     "data": {
      "text/html": [
       "<div>\n",
       "<style scoped>\n",
       "    .dataframe tbody tr th:only-of-type {\n",
       "        vertical-align: middle;\n",
       "    }\n",
       "\n",
       "    .dataframe tbody tr th {\n",
       "        vertical-align: top;\n",
       "    }\n",
       "\n",
       "    .dataframe thead th {\n",
       "        text-align: right;\n",
       "    }\n",
       "</style>\n",
       "<table border=\"1\" class=\"dataframe\">\n",
       "  <thead>\n",
       "    <tr style=\"text-align: right;\">\n",
       "      <th></th>\n",
       "      <th>vif_score</th>\n",
       "      <th>features</th>\n",
       "    </tr>\n",
       "  </thead>\n",
       "  <tbody>\n",
       "    <tr>\n",
       "      <th>0</th>\n",
       "      <td>3.295610</td>\n",
       "      <td>Pregnancies</td>\n",
       "    </tr>\n",
       "    <tr>\n",
       "      <th>1</th>\n",
       "      <td>23.144536</td>\n",
       "      <td>Glucose</td>\n",
       "    </tr>\n",
       "    <tr>\n",
       "      <th>2</th>\n",
       "      <td>37.850309</td>\n",
       "      <td>BloodPressure</td>\n",
       "    </tr>\n",
       "    <tr>\n",
       "      <th>3</th>\n",
       "      <td>1.917147</td>\n",
       "      <td>Insulin</td>\n",
       "    </tr>\n",
       "    <tr>\n",
       "      <th>4</th>\n",
       "      <td>28.790821</td>\n",
       "      <td>BMI</td>\n",
       "    </tr>\n",
       "    <tr>\n",
       "      <th>5</th>\n",
       "      <td>4.171992</td>\n",
       "      <td>DiabetesPedigreeFunction</td>\n",
       "    </tr>\n",
       "    <tr>\n",
       "      <th>6</th>\n",
       "      <td>15.468801</td>\n",
       "      <td>Age</td>\n",
       "    </tr>\n",
       "  </tbody>\n",
       "</table>\n",
       "</div>"
      ],
      "text/plain": [
       "   vif_score                  features\n",
       "0   3.295610               Pregnancies\n",
       "1  23.144536                   Glucose\n",
       "2  37.850309             BloodPressure\n",
       "3   1.917147                   Insulin\n",
       "4  28.790821                       BMI\n",
       "5   4.171992  DiabetesPedigreeFunction\n",
       "6  15.468801                       Age"
      ]
     },
     "execution_count": 14,
     "metadata": {},
     "output_type": "execute_result"
    }
   ],
   "source": [
    "# 다중 공산성 확인\n",
    "get_vif(features)"
   ]
  },
  {
   "cell_type": "code",
   "execution_count": 15,
   "id": "10c5eb08-bf67-4e0a-8164-b79115236b4c",
   "metadata": {},
   "outputs": [
    {
     "data": {
      "text/plain": [
       "Glucose                     0.502442\n",
       "Age                         0.298462\n",
       "BMI                         0.291449\n",
       "Pregnancies                 0.266905\n",
       "BloodPressure               0.190834\n",
       "DiabetesPedigreeFunction    0.167986\n",
       "Insulin                     0.161790\n",
       "Name: Outcome, dtype: float64"
      ]
     },
     "execution_count": 15,
     "metadata": {},
     "output_type": "execute_result"
    }
   ],
   "source": [
    "# 상관관계 확인\n",
    "pre_h_df.corr()['Outcome'].sort_values(ascending=False)[1:]"
   ]
  },
  {
   "cell_type": "code",
   "execution_count": 16,
   "id": "f90a8ec5-2e4b-47f3-87fd-3146cf43e726",
   "metadata": {},
   "outputs": [
    {
     "data": {
      "image/png": "[encoded data removed]",
      "text/plain": [
       "<Figure size 640x480 with 2 Axes>"
      ]
     },
     "metadata": {},
     "output_type": "display_data"
    }
   ],
   "source": [
    "import seaborn as sns\n",
    "\n",
    "sns.heatmap(features.corr())\n",
    "plt.show()"
   ]
  },
  {
   "cell_type": "code",
   "execution_count": 17,
   "id": "c2aa3524-1978-4340-9c29-5c0eb3d086fc",
   "metadata": {},
   "outputs": [],
   "source": [
    "from sklearn.model_selection import train_test_split\n",
    "from sklearn.linear_model import LogisticRegression\n",
    "from imblearn.over_sampling import SMOTE\n",
    "\n",
    "# 데이터 세트 분리\n",
    "# 피처, 타겟 데이터 분리\n",
    "features, targets = pre_h_df.iloc[:, :-1], pre_h_df.iloc[:, -1]\n",
    "\n",
    "# 문제/정답 및 훈련/테스트 데이터 분리 \n",
    "X_train, X_test, y_train, y_test = \\\n",
    "train_test_split(features, targets, test_size=0.2, stratify=targets, random_state=124)\n",
    "\n",
    "# 객체 생성\n",
    "# solver: 최적화에 사용되는 알고리즘 (liblinear: 작은 데이터 세트 사용)\n",
    "# penalty: 규제 유형 (l2 = L2 규제)\n",
    "lg = LogisticRegression(solver='liblinear', penalty='l2', random_state=124)\n",
    "\n",
    "# 훈련\n",
    "lg.fit(X_train, y_train)\n",
    "\n",
    "# 예측\n",
    "prediction = lg.predict(X_test)"
   ]
  },
  {
   "cell_type": "code",
   "execution_count": 18,
   "id": "6cffd77c-f8af-4bad-94da-b7b24afeb2f1",
   "metadata": {},
   "outputs": [
    {
     "name": "stdout",
     "output_type": "stream",
     "text": [
      "오차 행렬\n",
      "[[140  30]\n",
      " [ 35 111]]\n",
      "정확도: 0.7943, 정밀도: 0.7872, 재현율: 0.7603, F1:0.7735, AUC:0.7919\n",
      "###########################################################################\n"
     ]
    },
    {
     "data": {
      "image/png": "[encoded data removed]",
      "text/plain": [
       "<Figure size 800x400 with 4 Axes>"
      ]
     },
     "metadata": {},
     "output_type": "display_data"
    }
   ],
   "source": [
    "get_evaluation(y_test, prediction, lg, X_test)"
   ]
  },
  {
   "cell_type": "code",
   "execution_count": 19,
   "id": "0b8ac40e-653c-4da1-8256-f9f717fc44da",
   "metadata": {},
   "outputs": [],
   "source": [
    "data = {\n",
    "    'model': ['2Cycle', '9Cycle'],\n",
    "    '정확도': [0.7911, 0.7943],\n",
    "    '정밀도': [0.7817, 0.7872],\n",
    "    '재현율': [0.7603, 0.7603],\n",
    "    'F1': [0.7708, 0.7735],\n",
    "    'AUC': [0.7890, 0.7919]\n",
    "}\n",
    "\n",
    "Cycle9 = pd.DataFrame(data)"
   ]
  },
  {
   "cell_type": "code",
   "execution_count": 20,
   "id": "9efdf124-5a4d-443c-99ab-27a25edb4d10",
   "metadata": {},
   "outputs": [
    {
     "data": {
      "image/png": "[encoded data removed]",
      "text/plain": [
       "<Figure size 1200x600 with 1 Axes>"
      ]
     },
     "metadata": {},
     "output_type": "display_data"
    },
    {
     "data": {
      "text/html": [
       "<div>\n",
       "<style scoped>\n",
       "    .dataframe tbody tr th:only-of-type {\n",
       "        vertical-align: middle;\n",
       "    }\n",
       "\n",
       "    .dataframe tbody tr th {\n",
       "        vertical-align: top;\n",
       "    }\n",
       "\n",
       "    .dataframe thead th {\n",
       "        text-align: right;\n",
       "    }\n",
       "</style>\n",
       "<table border=\"1\" class=\"dataframe\">\n",
       "  <thead>\n",
       "    <tr style=\"text-align: right;\">\n",
       "      <th></th>\n",
       "      <th>model</th>\n",
       "      <th>정확도</th>\n",
       "      <th>정밀도</th>\n",
       "      <th>재현율</th>\n",
       "      <th>F1</th>\n",
       "      <th>AUC</th>\n",
       "    </tr>\n",
       "  </thead>\n",
       "  <tbody>\n",
       "    <tr>\n",
       "      <th>0</th>\n",
       "      <td>2Cycle</td>\n",
       "      <td>0.7911</td>\n",
       "      <td>0.7817</td>\n",
       "      <td>0.7603</td>\n",
       "      <td>0.7708</td>\n",
       "      <td>0.7890</td>\n",
       "    </tr>\n",
       "    <tr>\n",
       "      <th>1</th>\n",
       "      <td>9Cycle</td>\n",
       "      <td>0.7943</td>\n",
       "      <td>0.7872</td>\n",
       "      <td>0.7603</td>\n",
       "      <td>0.7735</td>\n",
       "      <td>0.7919</td>\n",
       "    </tr>\n",
       "  </tbody>\n",
       "</table>\n",
       "</div>"
      ],
      "text/plain": [
       "    model     정확도     정밀도     재현율      F1     AUC\n",
       "0  2Cycle  0.7911  0.7817  0.7603  0.7708  0.7890\n",
       "1  9Cycle  0.7943  0.7872  0.7603  0.7735  0.7919"
      ]
     },
     "metadata": {},
     "output_type": "display_data"
    }
   ],
   "source": [
    "import matplotlib.pyplot as plt\n",
    "import numpy as np\n",
    "\n",
    "# 데이터 프레임에서 각 모델명과 해당 지표들을 추출합니다.\n",
    "models = Cycle9['model']\n",
    "accuracy = Cycle9['정확도']\n",
    "precision = Cycle9['정밀도']\n",
    "recall = Cycle9['재현율']\n",
    "f1 = Cycle9['F1']\n",
    "AUC = Cycle9['AUC']\n",
    "\n",
    "# 그래프를 그립니다.\n",
    "bar_width = 0.2\n",
    "index = np.arange(len(models))\n",
    "\n",
    "# 컬러맵 가져오기\n",
    "cmap = plt.get_cmap('Pastel1')\n",
    "\n",
    "plt.figure(figsize=(12, 6))\n",
    "\n",
    "plt.bar(index, accuracy, color=cmap(np.array([0])), width=bar_width, label='정확도', edgecolor='black')\n",
    "plt.bar(index + bar_width, precision, color=cmap(np.array([1])), width=bar_width, label='정밀도', edgecolor='black')\n",
    "plt.bar(index + 2*bar_width, recall, color=cmap(np.array([2])), width=bar_width, label='재현율', edgecolor='black')\n",
    "plt.bar(index + 3*bar_width, f1, color=cmap(np.array([3])), width=bar_width, label='F1', edgecolor='black')\n",
    "# plt.bar(index + 4*bar_width, AUC, color=cmap(np.array([4])), width=bar_width, label='AUC', edgecolor='black')\n",
    "\n",
    "plt.title('각 모델의 성능 비교', fontsize=16)\n",
    "plt.xlabel('모델', fontsize=14)\n",
    "plt.ylabel('성능', fontsize=14)\n",
    "plt.xticks(index + bar_width, models, rotation=45, ha='right')\n",
    "plt.legend()\n",
    "plt.grid(True)\n",
    "\n",
    "# y축의 범위 지정\n",
    "plt.ylim(0.75, 0.8)\n",
    "\n",
    "plt.tight_layout()\n",
    "plt.show()\n",
    "\n",
    "display(Cycle9)"
   ]
  },
  {
   "cell_type": "markdown",
   "id": "17e05f36-4221-4251-a47a-8eb362910b7e",
   "metadata": {},
   "source": [
    "#### 🚩 2Cycle 결과\n",
    "- Logistic Regression  \n",
    "**정확도: 0.7911, 정밀도: 0.7817, 재현율: 0.7603, F1:0.7708, AUC:0.7890**\n",
    "\n",
    "#### 🚩 9Cycle 결과\n",
    "- 상관관계\n",
    "**정확도: 0.7943, 정밀도: 0.7872, 재현율: 0.7603, F1:0.7735, AUC:0.7919**\n",
    "\n",
    "#### 💡 분석\n",
    "- 상관관계 등 다양한 지표 확인 후 관계가 낮은 피처를 제거한 결과 성능이 향상된 것을 확인함.\n",
    "- 전처리된 데이터를 토대로 임계값을 조정하려 함."
   ]
  }
 ],
 "metadata": {
  "kernelspec": {
   "display_name": "Python 3 (ipykernel)",
   "language": "python",
   "name": "python3"
  },
  "language_info": {
   "codemirror_mode": {
    "name": "ipython",
    "version": 3
   },
   "file_extension": ".py",
   "mimetype": "text/x-python",
   "name": "python",
   "nbconvert_exporter": "python",
   "pygments_lexer": "ipython3",
   "version": "3.11.8"
  }
 },
 "nbformat": 4,
 "nbformat_minor": 5
}
