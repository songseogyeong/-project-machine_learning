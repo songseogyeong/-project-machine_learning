{
 "cells": [
  {
   "cell_type": "code",
   "execution_count": 1,
   "id": "b6dff4ee-e04d-442b-b7c1-4f6ec932b608",
   "metadata": {},
   "outputs": [
    {
     "name": "stdout",
     "output_type": "stream",
     "text": [
      "1.4.2\n"
     ]
    }
   ],
   "source": [
    "import sklearn\n",
    "print(sklearn.__version__)"
   ]
  },
  {
   "cell_type": "code",
   "execution_count": 2,
   "id": "9429de1e-6484-41a1-8eab-c7369f13f4f2",
   "metadata": {},
   "outputs": [],
   "source": [
    "# pip install --upgrade scikit-learn==1.4.2"
   ]
  },
  {
   "cell_type": "code",
   "execution_count": 3,
   "id": "84ae8bce-f346-4780-b9df-0651f207b400",
   "metadata": {},
   "outputs": [
    {
     "data": {
      "text/html": [
       "<div>\n",
       "<style scoped>\n",
       "    .dataframe tbody tr th:only-of-type {\n",
       "        vertical-align: middle;\n",
       "    }\n",
       "\n",
       "    .dataframe tbody tr th {\n",
       "        vertical-align: top;\n",
       "    }\n",
       "\n",
       "    .dataframe thead th {\n",
       "        text-align: right;\n",
       "    }\n",
       "</style>\n",
       "<table border=\"1\" class=\"dataframe\">\n",
       "  <thead>\n",
       "    <tr style=\"text-align: right;\">\n",
       "      <th></th>\n",
       "      <th>id</th>\n",
       "      <th>region</th>\n",
       "      <th>club_name</th>\n",
       "      <th>club_intro</th>\n",
       "      <th>club_info</th>\n",
       "      <th>category_name</th>\n",
       "      <th>club_main_category_id</th>\n",
       "    </tr>\n",
       "  </thead>\n",
       "  <tbody>\n",
       "    <tr>\n",
       "      <th>0</th>\n",
       "      <td>1</td>\n",
       "      <td>부산</td>\n",
       "      <td>NCT 좋아요~</td>\n",
       "      <td>NCT를 좋아하는 모임</td>\n",
       "      <td>문화·예술을(를) 좋아하는 사람들이 모인 NCT 좋아요~에 오신 것을 환영합니다.</td>\n",
       "      <td>문화·예술</td>\n",
       "      <td>2</td>\n",
       "    </tr>\n",
       "    <tr>\n",
       "      <th>1</th>\n",
       "      <td>2</td>\n",
       "      <td>경기</td>\n",
       "      <td>여행 모임</td>\n",
       "      <td>내가 다닌 여행을 보여줘요</td>\n",
       "      <td>여행 모임은(는) 여행·동행에 관한 다양한 주제로 활동을 합니다.</td>\n",
       "      <td>여행·동행</td>\n",
       "      <td>5</td>\n",
       "    </tr>\n",
       "    <tr>\n",
       "      <th>2</th>\n",
       "      <td>3</td>\n",
       "      <td>경북</td>\n",
       "      <td>르세라핌 짱~!</td>\n",
       "      <td>르세라핌, 아이즈원, 트와이스 짱이에요</td>\n",
       "      <td>문화·예술을(를) 좋아하는 사람들이 모인 르세라핌 짱~!에 오신 것을 환영합니다.</td>\n",
       "      <td>문화·예술</td>\n",
       "      <td>2</td>\n",
       "    </tr>\n",
       "    <tr>\n",
       "      <th>3</th>\n",
       "      <td>4</td>\n",
       "      <td>서울</td>\n",
       "      <td>로드 자전거 한</td>\n",
       "      <td>자전거 타면서 운동하실 분</td>\n",
       "      <td>오직 자전거를 좋아하는 성인자전거모임!!\\n\\n같이 자전거 타고싶어서 직접만듭니다\\...</td>\n",
       "      <td>운동·액티비티</td>\n",
       "      <td>3</td>\n",
       "    </tr>\n",
       "    <tr>\n",
       "      <th>4</th>\n",
       "      <td>5</td>\n",
       "      <td>서울</td>\n",
       "      <td>인천.부천.서울.경기(94~02년생)</td>\n",
       "      <td>인천.부천.서울.경기도(94~02년생)~~ 모임입니다.</td>\n",
       "      <td>저희 모임을 소개합니당~!!\\n인천.부천.서울.경기도(94~02년생)~~ 모임입니다...</td>\n",
       "      <td>동네·또래</td>\n",
       "      <td>7</td>\n",
       "    </tr>\n",
       "    <tr>\n",
       "      <th>...</th>\n",
       "      <td>...</td>\n",
       "      <td>...</td>\n",
       "      <td>...</td>\n",
       "      <td>...</td>\n",
       "      <td>...</td>\n",
       "      <td>...</td>\n",
       "      <td>...</td>\n",
       "    </tr>\n",
       "    <tr>\n",
       "      <th>2263</th>\n",
       "      <td>2267</td>\n",
       "      <td>서울</td>\n",
       "      <td>교육법 학습 클럽</td>\n",
       "      <td>교육법 학습 클럽에서는 스터디에 관한 다양한 주제로 활동을 합니다.</td>\n",
       "      <td>교육법 학습 클럽에서는 스터디에 관한 다양한 주제로 활동을 합니다.</td>\n",
       "      <td>스터디</td>\n",
       "      <td>11</td>\n",
       "    </tr>\n",
       "    <tr>\n",
       "      <th>2264</th>\n",
       "      <td>2268</td>\n",
       "      <td>대구</td>\n",
       "      <td>외교 정책 연구 모임</td>\n",
       "      <td>외교 정책 연구 모임에서는 스터디에 관한 다양한 주제로 활동을 합니다.</td>\n",
       "      <td>외교 정책 연구 모임에서는 스터디에 관한 다양한 주제로 활동을 합니다.</td>\n",
       "      <td>스터디</td>\n",
       "      <td>11</td>\n",
       "    </tr>\n",
       "    <tr>\n",
       "      <th>2265</th>\n",
       "      <td>2269</td>\n",
       "      <td>제주</td>\n",
       "      <td>사회 정책 연구 모임</td>\n",
       "      <td>사회 정책 연구 모임에서는 스터디에 관한 다양한 주제로 활동을 합니다.</td>\n",
       "      <td>사회 정책 연구 모임에서는 스터디에 관한 다양한 주제로 활동을 합니다.</td>\n",
       "      <td>스터디</td>\n",
       "      <td>11</td>\n",
       "    </tr>\n",
       "    <tr>\n",
       "      <th>2266</th>\n",
       "      <td>2270</td>\n",
       "      <td>세종</td>\n",
       "      <td>과학 정치 스터디</td>\n",
       "      <td>과학 정치 스터디에서는 스터디에 관한 다양한 주제로 활동을 합니다.</td>\n",
       "      <td>과학 정치 스터디에서는 스터디에 관한 다양한 주제로 활동을 합니다.</td>\n",
       "      <td>스터디</td>\n",
       "      <td>11</td>\n",
       "    </tr>\n",
       "    <tr>\n",
       "      <th>2267</th>\n",
       "      <td>2271</td>\n",
       "      <td>경기</td>\n",
       "      <td>국제 개발 스터디</td>\n",
       "      <td>국제 개발 스터디에서는 스터디에 관한 다양한 주제로 활동을 합니다.</td>\n",
       "      <td>국제 개발 스터디에서는 스터디에 관한 다양한 주제로 활동을 합니다.</td>\n",
       "      <td>스터디</td>\n",
       "      <td>11</td>\n",
       "    </tr>\n",
       "  </tbody>\n",
       "</table>\n",
       "<p>2268 rows × 7 columns</p>\n",
       "</div>"
      ],
      "text/plain": [
       "        id region             club_name  \\\n",
       "0        1     부산              NCT 좋아요~   \n",
       "1        2     경기                 여행 모임   \n",
       "2        3     경북              르세라핌 짱~!   \n",
       "3        4     서울              로드 자전거 한   \n",
       "4        5     서울  인천.부천.서울.경기(94~02년생)   \n",
       "...    ...    ...                   ...   \n",
       "2263  2267     서울             교육법 학습 클럽   \n",
       "2264  2268     대구           외교 정책 연구 모임   \n",
       "2265  2269     제주           사회 정책 연구 모임   \n",
       "2266  2270     세종             과학 정치 스터디   \n",
       "2267  2271     경기             국제 개발 스터디   \n",
       "\n",
       "                                   club_intro  \\\n",
       "0                                NCT를 좋아하는 모임   \n",
       "1                              내가 다닌 여행을 보여줘요   \n",
       "2                       르세라핌, 아이즈원, 트와이스 짱이에요   \n",
       "3                              자전거 타면서 운동하실 분   \n",
       "4              인천.부천.서울.경기도(94~02년생)~~ 모임입니다.   \n",
       "...                                       ...   \n",
       "2263    교육법 학습 클럽에서는 스터디에 관한 다양한 주제로 활동을 합니다.   \n",
       "2264  외교 정책 연구 모임에서는 스터디에 관한 다양한 주제로 활동을 합니다.   \n",
       "2265  사회 정책 연구 모임에서는 스터디에 관한 다양한 주제로 활동을 합니다.   \n",
       "2266    과학 정치 스터디에서는 스터디에 관한 다양한 주제로 활동을 합니다.   \n",
       "2267    국제 개발 스터디에서는 스터디에 관한 다양한 주제로 활동을 합니다.   \n",
       "\n",
       "                                              club_info category_name  \\\n",
       "0         문화·예술을(를) 좋아하는 사람들이 모인 NCT 좋아요~에 오신 것을 환영합니다.         문화·예술   \n",
       "1                  여행 모임은(는) 여행·동행에 관한 다양한 주제로 활동을 합니다.         여행·동행   \n",
       "2         문화·예술을(를) 좋아하는 사람들이 모인 르세라핌 짱~!에 오신 것을 환영합니다.         문화·예술   \n",
       "3     오직 자전거를 좋아하는 성인자전거모임!!\\n\\n같이 자전거 타고싶어서 직접만듭니다\\...       운동·액티비티   \n",
       "4     저희 모임을 소개합니당~!!\\n인천.부천.서울.경기도(94~02년생)~~ 모임입니다...         동네·또래   \n",
       "...                                                 ...           ...   \n",
       "2263              교육법 학습 클럽에서는 스터디에 관한 다양한 주제로 활동을 합니다.           스터디   \n",
       "2264            외교 정책 연구 모임에서는 스터디에 관한 다양한 주제로 활동을 합니다.           스터디   \n",
       "2265            사회 정책 연구 모임에서는 스터디에 관한 다양한 주제로 활동을 합니다.           스터디   \n",
       "2266              과학 정치 스터디에서는 스터디에 관한 다양한 주제로 활동을 합니다.           스터디   \n",
       "2267              국제 개발 스터디에서는 스터디에 관한 다양한 주제로 활동을 합니다.           스터디   \n",
       "\n",
       "      club_main_category_id  \n",
       "0                         2  \n",
       "1                         5  \n",
       "2                         2  \n",
       "3                         3  \n",
       "4                         7  \n",
       "...                     ...  \n",
       "2263                     11  \n",
       "2264                     11  \n",
       "2265                     11  \n",
       "2266                     11  \n",
       "2267                     11  \n",
       "\n",
       "[2268 rows x 7 columns]"
      ]
     },
     "execution_count": 3,
     "metadata": {},
     "output_type": "execute_result"
    }
   ],
   "source": [
    "import pandas as pd\n",
    "\n",
    "# 데이터 세트 호출\n",
    "c_df = pd.read_csv('./datasets/V2_club_region_view.csv', low_memory=False)\n",
    "c_df"
   ]
  },
  {
   "cell_type": "markdown",
   "id": "73cc7671-a7cb-4ad1-97f6-57a09f8b478a",
   "metadata": {},
   "source": [
    "---"
   ]
  },
  {
   "cell_type": "markdown",
   "id": "8ea2716f-b997-4aac-ad49-f1445611ec6f",
   "metadata": {},
   "source": [
    "### 🌟 1Cycle"
   ]
  },
  {
   "cell_type": "code",
   "execution_count": 4,
   "id": "b47b9079-faeb-4ce2-9612-9001baa79054",
   "metadata": {},
   "outputs": [],
   "source": [
    "# 데이터 프레임 복제\n",
    "pre_c_df = c_df.copy()"
   ]
  },
  {
   "cell_type": "code",
   "execution_count": 5,
   "id": "d4a3e81b-2221-4751-a34f-317ef02a3cc2",
   "metadata": {},
   "outputs": [],
   "source": [
    "# 불필요한 컬럼 추출\n",
    "columns = ['id', 'category_name']\n",
    "\n",
    "# 컬럼 제거\n",
    "pre_c_df = pre_c_df.drop(labels=columns, axis=1)"
   ]
  },
  {
   "cell_type": "code",
   "execution_count": 6,
   "id": "26abefdd-e703-4953-89c2-11f0d68a46c8",
   "metadata": {},
   "outputs": [],
   "source": [
    "# re: 정규 표현식(regular expressions), 문자열 검색 및 조작, 패턴 매칭, 검색 및 치환 등의 작업을 수행\n",
    "import re\n",
    "\n",
    "# 피처 컬럼 추출\n",
    "features_columns = ['region', 'club_name', 'club_intro', 'club_info']\n",
    "\n",
    "# 특수 문자 제거 후 피처 하나로 연결하는 함수:\n",
    "def create_features(row):\n",
    "    # 피처 컬럼이 있다면 str 타입으로 형변환하고 없다면 빈문자열로 변환하여 모든 피처의 값을 묶기\n",
    "    join_features = ' '.join(str(row[col]) if not pd.isna(row[col]) else '' for col in features_columns)\n",
    "    # 특수 기호 제거\n",
    "    clear = re.sub(r'[^\\w\\s]', ' ', join_features)\n",
    "    return clear\n",
    "\n",
    "# 새로운 컬럼 features 생성\n",
    "pre_c_df['features'] = pre_c_df.apply(create_features, axis=1)"
   ]
  },
  {
   "cell_type": "code",
   "execution_count": 7,
   "id": "0e9e664c-4bbf-4b6b-8961-2d01147e3803",
   "metadata": {},
   "outputs": [],
   "source": [
    "# features와 targets 컬럼 추출\n",
    "columns = ['features', 'club_main_category_id']\n",
    "\n",
    "# features, targets 컬럼으로 새로운 데이터 프레임 생성\n",
    "club_df = pre_c_df[columns]"
   ]
  },
  {
   "cell_type": "code",
   "execution_count": 8,
   "id": "0a9db5ad-5b8c-4a93-bed3-6da1ca15e69c",
   "metadata": {},
   "outputs": [],
   "source": [
    "# 타겟 컬럼명 변경\n",
    "club_df = club_df.rename(columns={'club_main_category_id': 'targets'})"
   ]
  },
  {
   "cell_type": "code",
   "execution_count": 9,
   "id": "c5e1449d-c6b6-457a-8e9e-944d0fa6c171",
   "metadata": {},
   "outputs": [],
   "source": [
    "# 개수가 적은 데이터 제거\n",
    "pre_club_df = club_df[~((club_df.targets == 12) | (club_df.targets == 13))]"
   ]
  },
  {
   "cell_type": "markdown",
   "id": "361cd9e2-741d-47f5-990e-516c99b674fc",
   "metadata": {},
   "source": [
    "---"
   ]
  },
  {
   "cell_type": "markdown",
   "id": "7b29c40f-245d-4060-aa5d-b4c6382838d8",
   "metadata": {},
   "source": [
    "### 🌟 2Cycle"
   ]
  },
  {
   "cell_type": "markdown",
   "id": "cc066aaf-8473-4e8f-8c23-a06d7951c777",
   "metadata": {},
   "source": [
    "#### 🚩 2Cycle 결과\n",
    "정확도: 0.9912, 정밀도: 0.9912, 재현율: 0.9912, F1: 0.9912\n",
    "\n",
    "- 전체적인 수치가 거의 1에 가깝게 나타남으로 과적합이 의심됨\n",
    "- 테스트 결과 모든 확률이 거의 동일하게 나타남에 따라 키워드에 따른 카테고리 분류를 제대로 찾지 못한다는 것을 확인함.\n",
    "- 따라서, 가장 점수가 낮았던 {'count_vectorizer__ngram_range': (2, 3), 'multinomial_NB__alpha': 5} 파라미터 값을 사용하여 과적합을 해소하고자 함"
   ]
  },
  {
   "cell_type": "markdown",
   "id": "a5eceab1-f6c4-470b-a676-d51e086cd5bd",
   "metadata": {},
   "source": [
    "---"
   ]
  },
  {
   "cell_type": "markdown",
   "id": "f7f9f8e9-acd4-40c5-8fa7-f6e28898f62d",
   "metadata": {},
   "source": [
    "### 🌟 3Cycle"
   ]
  },
  {
   "cell_type": "code",
   "execution_count": 10,
   "id": "3c5da499-9856-41db-a469-56f090a1cfc9",
   "metadata": {},
   "outputs": [],
   "source": [
    "import matplotlib.pyplot as plt\n",
    "from sklearn.metrics import accuracy_score, precision_score, recall_score, f1_score, roc_auc_score, confusion_matrix, ConfusionMatrixDisplay\n",
    "\n",
    "# 정밀도, 재현율, F1 score는 다중 분류에서 각각의 확률값의 평균을 구해서 나타내야 한다.\n",
    "# 이 때, macro 방식과, micro 방식이 대표적이다.\n",
    "# macro: 평균을 낸 뒤, 그 평균의 다시 평균을 구하는 방식(샘플 수는 신경쓰지 않는다).\n",
    "# micro: 샘플 수를 전체 합하고 전체 개수도 전체 합해서 나눠주는 방식(샘플 수를 신경쓴다).\n",
    "# 타겟 데이터의 비중이 많이 차이난다면, micro방식을 사용하는 것이 바람직하다.\n",
    "def get_evaluation(y_test, prediction, classifier=None, X_test=None):\n",
    "#     오차 행렬\n",
    "    confusion = confusion_matrix(y_test, prediction)\n",
    "#     정확도\n",
    "    accuracy = accuracy_score(y_test , prediction)\n",
    "#     정밀도\n",
    "    precision = precision_score(y_test , prediction, average='micro')\n",
    "#     재현율\n",
    "    recall = recall_score(y_test , prediction, average='micro')\n",
    "#     F1 score\n",
    "    f1 = f1_score(y_test, prediction, average='micro')\n",
    "    \n",
    "    print('오차 행렬')\n",
    "    print(confusion)\n",
    "    print('정확도: {0:.4f}, 정밀도: {1:.4f}, 재현율: {2:.4f}, F1: {3:.4f}'.format(accuracy, precision, recall, f1))\n",
    "    print(\"#\" * 80)\n",
    "    \n",
    "    if classifier is not None and  X_test is not None:\n",
    "        fig, axes = plt.subplots(nrows=1, ncols=2, figsize=(12,4))\n",
    "        titles_options = [(\"Confusion matrix\", None), (\"Normalized confusion matrix\", \"true\")]\n",
    "\n",
    "        for (title, normalize), ax in zip(titles_options, axes.flatten()):\n",
    "            disp = ConfusionMatrixDisplay.from_estimator(classifier, X_test, y_test, ax=ax, cmap=plt.cm.Blues, normalize=normalize)\n",
    "            disp.ax_.set_title(title)\n",
    "        plt.show()"
   ]
  },
  {
   "cell_type": "code",
   "execution_count": 11,
   "id": "cb6f85c3-fdde-4125-860d-ebb6a19dbdca",
   "metadata": {},
   "outputs": [],
   "source": [
    "from sklearn.model_selection import train_test_split\n",
    "\n",
    "# 데이터 세트 분리\n",
    "# 피처, 타겟 데이터 분리\n",
    "features, targets = pre_club_df.features, pre_club_df.targets\n",
    "\n",
    "X_train, X_test, y_train, y_test = \\\n",
    "train_test_split(features, targets, stratify=targets, random_state=124)\n",
    "\n",
    "# 검증용 데이터 세트 분리\n",
    "X_val_train, X_val_test, y_val_train, y_val_test = \\\n",
    "train_test_split(X_train, y_train, stratify=y_train, test_size=0.2, random_state=124)"
   ]
  },
  {
   "cell_type": "code",
   "execution_count": 12,
   "id": "1163d564-c5e3-46e0-9870-2ed29b423491",
   "metadata": {},
   "outputs": [
    {
     "data": {
      "text/plain": [
       "318     강원 인간의 사유 스터디을 를  좋아하는 사람들이 모인 인간의 사유에 오신 것을 환...\n",
       "1223    대전 맛있는 이벤트 맛있는 이벤트은 는  푸드 드링크에 대한 열정을 가진 사람들이 ...\n",
       "1670    경남 로맨틱 트레저 모임 로맨틱 트레저 모임은 는  연애 소개팅에 관한 다양한 주제...\n",
       "698     울산 조이콕 조이콕는 운동 액티비티 관련 다양한 활동을 함께하는 모임입니다  조이콕...\n",
       "964     경기 홀스홀릭 홀스홀릭는 운동 액티비티을 를  함께 즐기고 배우는 모임입니다  운동...\n",
       "                              ...                        \n",
       "2172    경기 학습 혁신 모임 학습 혁신 모임에서는 스터디에 관한 다양한 주제로 활동을 합니...\n",
       "1804    부산 역동적인 재해석 그룹 역동적인 재해석 그룹은 는  재테크에 대한 열정을 가진 ...\n",
       "1997    서울 언어 문화 교류회 언어 문화 교류회은 는  외국어에 대한 열정을 가진 사람들이...\n",
       "560     부산 S T S T는 성장 자기개발을 를  함께 즐기고 배우는 모임입니다  S T ...\n",
       "2039    강원 언어 교류 커뮤니티 언어 교류 커뮤니티은 는  외국어에 대한 열정을 가진 사람...\n",
       "Name: features, Length: 1699, dtype: object"
      ]
     },
     "execution_count": 12,
     "metadata": {},
     "output_type": "execute_result"
    }
   ],
   "source": [
    "X_train"
   ]
  },
  {
   "cell_type": "code",
   "execution_count": 13,
   "id": "50857e96-9410-419a-a31f-a8ae50c545ab",
   "metadata": {},
   "outputs": [
    {
     "data": {
      "text/plain": [
       "318     11\n",
       "1223     4\n",
       "1670     8\n",
       "698      3\n",
       "964      3\n",
       "        ..\n",
       "2172    11\n",
       "1804     9\n",
       "1997    10\n",
       "560      6\n",
       "2039    10\n",
       "Name: targets, Length: 1699, dtype: int64"
      ]
     },
     "execution_count": 13,
     "metadata": {},
     "output_type": "execute_result"
    }
   ],
   "source": [
    "y_train"
   ]
  }
 ],
 "metadata": {
  "kernelspec": {
   "display_name": "Python 3 (ipykernel)",
   "language": "python",
   "name": "python3"
  },
  "language_info": {
   "codemirror_mode": {
    "name": "ipython",
    "version": 3
   },
   "file_extension": ".py",
   "mimetype": "text/x-python",
   "name": "python",
   "nbconvert_exporter": "python",
   "pygments_lexer": "ipython3",
   "version": "3.11.8"
  }
 },
 "nbformat": 4,
 "nbformat_minor": 5
}
