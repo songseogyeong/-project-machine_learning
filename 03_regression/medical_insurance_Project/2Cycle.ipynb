{
 "cells": [
  {
   "cell_type": "code",
   "execution_count": 1,
   "id": "5783d1df-da25-4ab6-ae64-c7482aae88a3",
   "metadata": {},
   "outputs": [
    {
     "data": {
      "text/html": [
       "<div>\n",
       "<style scoped>\n",
       "    .dataframe tbody tr th:only-of-type {\n",
       "        vertical-align: middle;\n",
       "    }\n",
       "\n",
       "    .dataframe tbody tr th {\n",
       "        vertical-align: top;\n",
       "    }\n",
       "\n",
       "    .dataframe thead th {\n",
       "        text-align: right;\n",
       "    }\n",
       "</style>\n",
       "<table border=\"1\" class=\"dataframe\">\n",
       "  <thead>\n",
       "    <tr style=\"text-align: right;\">\n",
       "      <th></th>\n",
       "      <th>age</th>\n",
       "      <th>sex</th>\n",
       "      <th>bmi</th>\n",
       "      <th>children</th>\n",
       "      <th>smoker</th>\n",
       "      <th>region</th>\n",
       "      <th>charges</th>\n",
       "    </tr>\n",
       "  </thead>\n",
       "  <tbody>\n",
       "    <tr>\n",
       "      <th>0</th>\n",
       "      <td>19</td>\n",
       "      <td>female</td>\n",
       "      <td>27.900</td>\n",
       "      <td>0</td>\n",
       "      <td>yes</td>\n",
       "      <td>southwest</td>\n",
       "      <td>16884.92400</td>\n",
       "    </tr>\n",
       "    <tr>\n",
       "      <th>1</th>\n",
       "      <td>18</td>\n",
       "      <td>male</td>\n",
       "      <td>33.770</td>\n",
       "      <td>1</td>\n",
       "      <td>no</td>\n",
       "      <td>southeast</td>\n",
       "      <td>1725.55230</td>\n",
       "    </tr>\n",
       "    <tr>\n",
       "      <th>2</th>\n",
       "      <td>28</td>\n",
       "      <td>male</td>\n",
       "      <td>33.000</td>\n",
       "      <td>3</td>\n",
       "      <td>no</td>\n",
       "      <td>southeast</td>\n",
       "      <td>4449.46200</td>\n",
       "    </tr>\n",
       "    <tr>\n",
       "      <th>3</th>\n",
       "      <td>33</td>\n",
       "      <td>male</td>\n",
       "      <td>22.705</td>\n",
       "      <td>0</td>\n",
       "      <td>no</td>\n",
       "      <td>northwest</td>\n",
       "      <td>21984.47061</td>\n",
       "    </tr>\n",
       "    <tr>\n",
       "      <th>4</th>\n",
       "      <td>32</td>\n",
       "      <td>male</td>\n",
       "      <td>28.880</td>\n",
       "      <td>0</td>\n",
       "      <td>no</td>\n",
       "      <td>northwest</td>\n",
       "      <td>3866.85520</td>\n",
       "    </tr>\n",
       "    <tr>\n",
       "      <th>...</th>\n",
       "      <td>...</td>\n",
       "      <td>...</td>\n",
       "      <td>...</td>\n",
       "      <td>...</td>\n",
       "      <td>...</td>\n",
       "      <td>...</td>\n",
       "      <td>...</td>\n",
       "    </tr>\n",
       "    <tr>\n",
       "      <th>2767</th>\n",
       "      <td>47</td>\n",
       "      <td>female</td>\n",
       "      <td>45.320</td>\n",
       "      <td>1</td>\n",
       "      <td>no</td>\n",
       "      <td>southeast</td>\n",
       "      <td>8569.86180</td>\n",
       "    </tr>\n",
       "    <tr>\n",
       "      <th>2768</th>\n",
       "      <td>21</td>\n",
       "      <td>female</td>\n",
       "      <td>34.600</td>\n",
       "      <td>0</td>\n",
       "      <td>no</td>\n",
       "      <td>southwest</td>\n",
       "      <td>2020.17700</td>\n",
       "    </tr>\n",
       "    <tr>\n",
       "      <th>2769</th>\n",
       "      <td>19</td>\n",
       "      <td>male</td>\n",
       "      <td>26.030</td>\n",
       "      <td>1</td>\n",
       "      <td>yes</td>\n",
       "      <td>northwest</td>\n",
       "      <td>16450.89470</td>\n",
       "    </tr>\n",
       "    <tr>\n",
       "      <th>2770</th>\n",
       "      <td>23</td>\n",
       "      <td>male</td>\n",
       "      <td>18.715</td>\n",
       "      <td>0</td>\n",
       "      <td>no</td>\n",
       "      <td>northwest</td>\n",
       "      <td>21595.38229</td>\n",
       "    </tr>\n",
       "    <tr>\n",
       "      <th>2771</th>\n",
       "      <td>54</td>\n",
       "      <td>male</td>\n",
       "      <td>31.600</td>\n",
       "      <td>0</td>\n",
       "      <td>no</td>\n",
       "      <td>southwest</td>\n",
       "      <td>9850.43200</td>\n",
       "    </tr>\n",
       "  </tbody>\n",
       "</table>\n",
       "<p>2772 rows × 7 columns</p>\n",
       "</div>"
      ],
      "text/plain": [
       "      age     sex     bmi  children smoker     region      charges\n",
       "0      19  female  27.900         0    yes  southwest  16884.92400\n",
       "1      18    male  33.770         1     no  southeast   1725.55230\n",
       "2      28    male  33.000         3     no  southeast   4449.46200\n",
       "3      33    male  22.705         0     no  northwest  21984.47061\n",
       "4      32    male  28.880         0     no  northwest   3866.85520\n",
       "...   ...     ...     ...       ...    ...        ...          ...\n",
       "2767   47  female  45.320         1     no  southeast   8569.86180\n",
       "2768   21  female  34.600         0     no  southwest   2020.17700\n",
       "2769   19    male  26.030         1    yes  northwest  16450.89470\n",
       "2770   23    male  18.715         0     no  northwest  21595.38229\n",
       "2771   54    male  31.600         0     no  southwest   9850.43200\n",
       "\n",
       "[2772 rows x 7 columns]"
      ]
     },
     "execution_count": 1,
     "metadata": {},
     "output_type": "execute_result"
    }
   ],
   "source": [
    "import pandas as pd\n",
    "\n",
    "# 데이터 세트 호출\n",
    "m_df = pd.read_csv('./datasets/medical_insurance.csv', low_memory=False)\n",
    "m_df"
   ]
  },
  {
   "cell_type": "markdown",
   "id": "12a4a4c3-d7ea-4823-bf83-ee5b17f8a9ed",
   "metadata": {},
   "source": [
    "#### 📊 데이터 전처리"
   ]
  },
  {
   "cell_type": "code",
   "execution_count": 2,
   "id": "8339f9f1-97d0-4f96-b57c-e8775638ff80",
   "metadata": {},
   "outputs": [],
   "source": [
    "# 중복행 제거\n",
    "pre_m_df = m_df.drop_duplicates().reset_index(drop=True)"
   ]
  },
  {
   "cell_type": "code",
   "execution_count": 3,
   "id": "ac7d1528-a21a-42a7-96ff-e1b2655b76e7",
   "metadata": {},
   "outputs": [],
   "source": [
    "# 타겟 데이터 이상치 제거\n",
    "from sklearn.preprocessing import StandardScaler\n",
    "\n",
    "# 표준화 객체 생성\n",
    "std = StandardScaler()\n",
    "# 데이터 표준화 변환\n",
    "result = std.fit_transform(pre_m_df[['charges']])\n",
    "# 표준화 데이터 프레임 생성\n",
    "std_pre_m_df = pd.DataFrame(result, columns=['charges'])\n",
    "\n",
    "# 타겟 데이터 이상치 제거\n",
    "std_pre_m_df = std_pre_m_df[std_pre_m_df.charges.between(-1.96, 1.96)]\n",
    "\n",
    "# 이상치 제거후 유지되는 인덱스를 대조하여 원본 데이터 이상치 제거\n",
    "pre_m_df = pre_m_df.iloc[std_pre_m_df.index].reset_index(drop=True)"
   ]
  },
  {
   "cell_type": "code",
   "execution_count": 4,
   "id": "84783e60-e946-4888-9ea2-bd83160ce249",
   "metadata": {},
   "outputs": [],
   "source": [
    "# 타겟 컬럼 분포 변환\n",
    "from sklearn.preprocessing import PowerTransformer\n",
    "\n",
    "ptf = PowerTransformer(standardize=False)\n",
    "pre_m_df['charges'] = ptf.fit_transform(pre_m_df[['charges']])"
   ]
  },
  {
   "cell_type": "code",
   "execution_count": 5,
   "id": "04395286-256e-41b3-8eb5-0699f8d5a460",
   "metadata": {},
   "outputs": [],
   "source": [
    "from sklearn.preprocessing import LabelEncoder\n",
    "\n",
    "# 데이터 프레임 복제\n",
    "enc_m_df = pre_m_df.copy()\n",
    "encoders = {}\n",
    "\n",
    "# 문자열 컬럼 추출\n",
    "columns = ['sex', 'smoker']\n",
    "\n",
    "# 반복하여 컬럼 인코딩 처리:\n",
    "for column in columns:\n",
    "    # 레이블인코더 객체 생성\n",
    "    encoder = LabelEncoder()\n",
    "    # 문자열 데이터 정수로 형변환\n",
    "    result = encoder.fit_transform(enc_m_df[column])\n",
    "    # 형변환 값으로 대체\n",
    "    enc_m_df[column] = result\n",
    "    # 원본 데이터 담기\n",
    "    encoders[column] = encoder.classes_"
   ]
  },
  {
   "cell_type": "code",
   "execution_count": 6,
   "id": "54fb7789-029b-4943-acef-56d3aa4e4157",
   "metadata": {},
   "outputs": [],
   "source": [
    "import numpy as np\n",
    "from sklearn.preprocessing import OneHotEncoder\n",
    "\n",
    "# 원 핫 인코더 객체 생성\n",
    "# sparse_output: False = 밀집행렬(실제 값으로 채워진 행렬) 반환\n",
    "one_hot_encoder = OneHotEncoder(sparse_output=False)\n",
    "# 지역 피처 인코딩 처리\n",
    "result = one_hot_encoder.fit_transform(enc_m_df[['region']])\n",
    "\n",
    "# 인코딩 값 데이터 프레임으로 생성하고 정수로 형변환한 뒤, 기존 데이터 프레임과 병합\n",
    "enc_m_df = pd.concat([enc_m_df, pd.DataFrame(result, columns=one_hot_encoder.categories_).astype(np.int8)], axis=1)\n",
    "\n",
    "# 사용이 끝난 데이터 제거\n",
    "enc_m_df = enc_m_df.drop(labels='region', axis=1)\n",
    "\n",
    "# 원 핫 인코딩 컬럼명 변경\n",
    "enc_m_df.rename(columns={\n",
    "    ('northeast',): 'northeast',\n",
    "    ('northwest',): 'northwest',\n",
    "    ('southeast',): 'southeast',\n",
    "    ('southwest',): 'southwest',\n",
    "}, inplace=True)"
   ]
  },
  {
   "cell_type": "code",
   "execution_count": 7,
   "id": "dfcf0451-f818-4e88-bb10-1e5051eb3aa4",
   "metadata": {},
   "outputs": [],
   "source": [
    "# 타겟 컬럼 위치 변경을 위해 새로운 컬럼에 데이터 담기\n",
    "enc_m_df['target'] = enc_m_df.charges\n",
    "# 기존 컬럼은 제거\n",
    "enc_m_df = enc_m_df.drop(labels='charges', axis=1)"
   ]
  },
  {
   "cell_type": "markdown",
   "id": "df502426-56a0-4bb6-955c-1b98cf723f92",
   "metadata": {},
   "source": [
    "### 🌟 1Cycle"
   ]
  },
  {
   "cell_type": "markdown",
   "id": "fb0c75aa-67c0-4045-b793-7cf717f3eb86",
   "metadata": {},
   "source": [
    "#### 🚩 1Cycle 결과\n",
    "- 회귀  \n",
    "**MSE: 2.0043, RMSE: 1.4158, MSLE: 0.0052, RMSLE: 0.0720, R2: 0.7340**\n",
    "\n",
    "- 다중 회귀  \n",
    "**MSE: 2.2306, RMSE: 1.4935, MSLE: 0.0060, RMSLE: 0.0774, R2: 0.7040**\n",
    "\n",
    "- 회귀 모델(GradientBoostingRegressor)  \n",
    "**MSE: 1.9586, RMSE: 1.3995, MSLE: 0.0053, RMSLE: 0.0727, R2: 0.7401**\n",
    "\n",
    "#### 💡 분석\n",
    "- 회귀 분석 결과 R2 점수가 약 0.76이 나옴에 따라 선형 패턴을 지니고 있다고 보여졌으나,  \n",
    "  다중 회귀로 곡선을 부여하였을 때 약 R2 점수가 0.82로 상승함에 따라 완전한 선형은 아니고 비선형의 패턴도 띄고 있음을 확인함.\n",
    "- 회귀 모델 중 GradientBoostingRegressor을 사용하였을 때, 가장 좋은 성능을 보임에 따라 해당 모델을 선택하는 것이 적합하다고 판단됨."
   ]
  },
  {
   "cell_type": "markdown",
   "id": "13579aea-8d69-46b0-9167-bd13396c1ab5",
   "metadata": {},
   "source": [
    "### 🌟 2Cycle"
   ]
  },
  {
   "cell_type": "markdown",
   "id": "e09e2536-a884-43a5-8f38-8c1d0334bcea",
   "metadata": {},
   "source": [
    "#### 📊 회귀"
   ]
  },
  {
   "cell_type": "code",
   "execution_count": 8,
   "id": "37160994-3722-46cf-a639-a2f1632d0dca",
   "metadata": {},
   "outputs": [
    {
     "name": "stdout",
     "output_type": "stream",
     "text": [
      "                            OLS Regression Results                            \n",
      "==============================================================================\n",
      "Dep. Variable:                 target   R-squared:                       0.697\n",
      "Model:                            OLS   Adj. R-squared:                  0.695\n",
      "Method:                 Least Squares   F-statistic:                     349.9\n",
      "Date:                Fri, 10 May 2024   Prob (F-statistic):          6.16e-309\n",
      "Time:                        17:17:14   Log-Likelihood:                -2362.8\n",
      "No. Observations:                1224   AIC:                             4744.\n",
      "Df Residuals:                    1215   BIC:                             4790.\n",
      "Df Model:                           8                                         \n",
      "Covariance Type:            nonrobust                                         \n",
      "==============================================================================\n",
      "                 coef    std err          t      P>|t|      [0.025      0.975]\n",
      "------------------------------------------------------------------------------\n",
      "age            0.1286      0.003     37.434      0.000       0.122       0.135\n",
      "sex           -0.2586      0.096     -2.697      0.007      -0.447      -0.070\n",
      "bmi            0.0372      0.009      4.349      0.000       0.020       0.054\n",
      "children       0.3450      0.039      8.739      0.000       0.268       0.422\n",
      "smoker         5.6813      0.146     38.923      0.000       5.395       5.968\n",
      "northeast     11.9879      0.296     40.564      0.000      11.408      12.568\n",
      "northwest     11.7733      0.296     39.739      0.000      11.192      12.355\n",
      "southeast     11.4013      0.321     35.493      0.000      10.771      12.032\n",
      "southwest     11.5174      0.306     37.698      0.000      10.918      12.117\n",
      "==============================================================================\n",
      "Omnibus:                      549.905   Durbin-Watson:                   2.057\n",
      "Prob(Omnibus):                  0.000   Jarque-Bera (JB):             2383.823\n",
      "Skew:                           2.163   Prob(JB):                         0.00\n",
      "Kurtosis:                       8.295   Cond. No.                         622.\n",
      "==============================================================================\n",
      "\n",
      "Notes:\n",
      "[1] Standard Errors assume that the covariance matrix of the errors is correctly specified.\n"
     ]
    }
   ],
   "source": [
    "from statsmodels.api import OLS\n",
    "\n",
    "# 데이터 세트 분리\n",
    "# 피처, 타겟 데이터 분리\n",
    "features, targets = enc_m_df.iloc[:, :-1], enc_m_df.iloc[:, -1]\n",
    "\n",
    "# OLS 객체 생성\n",
    "model = OLS(targets, features)\n",
    "# 모델 훈련 및 정보 출력\n",
    "print(model.fit().summary())"
   ]
  },
  {
   "cell_type": "code",
   "execution_count": 9,
   "id": "5d656675-548c-4195-8fc1-dea50529ba31",
   "metadata": {},
   "outputs": [],
   "source": [
    "from statsmodels.stats.outliers_influence import variance_inflation_factor\n",
    "\n",
    "def get_vif(features):\n",
    "    vif = pd.DataFrame()\n",
    "    vif['vif_score'] = [variance_inflation_factor(features, i) for i in range(features.shape[1])]\n",
    "    vif['features'] = features.columns\n",
    "    return vif"
   ]
  },
  {
   "cell_type": "code",
   "execution_count": 10,
   "id": "8234e123-ed24-4880-9a67-b6d3c0046569",
   "metadata": {},
   "outputs": [
    {
     "data": {
      "text/html": [
       "<div>\n",
       "<style scoped>\n",
       "    .dataframe tbody tr th:only-of-type {\n",
       "        vertical-align: middle;\n",
       "    }\n",
       "\n",
       "    .dataframe tbody tr th {\n",
       "        vertical-align: top;\n",
       "    }\n",
       "\n",
       "    .dataframe thead th {\n",
       "        text-align: right;\n",
       "    }\n",
       "</style>\n",
       "<table border=\"1\" class=\"dataframe\">\n",
       "  <thead>\n",
       "    <tr style=\"text-align: right;\">\n",
       "      <th></th>\n",
       "      <th>vif_score</th>\n",
       "      <th>features</th>\n",
       "    </tr>\n",
       "  </thead>\n",
       "  <tbody>\n",
       "    <tr>\n",
       "      <th>0</th>\n",
       "      <td>1.025340</td>\n",
       "      <td>age</td>\n",
       "    </tr>\n",
       "    <tr>\n",
       "      <th>1</th>\n",
       "      <td>1.004046</td>\n",
       "      <td>sex</td>\n",
       "    </tr>\n",
       "    <tr>\n",
       "      <th>2</th>\n",
       "      <td>1.142205</td>\n",
       "      <td>bmi</td>\n",
       "    </tr>\n",
       "    <tr>\n",
       "      <th>3</th>\n",
       "      <td>1.003564</td>\n",
       "      <td>children</td>\n",
       "    </tr>\n",
       "    <tr>\n",
       "      <th>4</th>\n",
       "      <td>1.063161</td>\n",
       "      <td>smoker</td>\n",
       "    </tr>\n",
       "    <tr>\n",
       "      <th>5</th>\n",
       "      <td>9.350937</td>\n",
       "      <td>northeast</td>\n",
       "    </tr>\n",
       "    <tr>\n",
       "      <th>6</th>\n",
       "      <td>9.585279</td>\n",
       "      <td>northwest</td>\n",
       "    </tr>\n",
       "    <tr>\n",
       "      <th>7</th>\n",
       "      <td>11.636787</td>\n",
       "      <td>southeast</td>\n",
       "    </tr>\n",
       "    <tr>\n",
       "      <th>8</th>\n",
       "      <td>10.060127</td>\n",
       "      <td>southwest</td>\n",
       "    </tr>\n",
       "  </tbody>\n",
       "</table>\n",
       "</div>"
      ],
      "text/plain": [
       "   vif_score   features\n",
       "0   1.025340        age\n",
       "1   1.004046        sex\n",
       "2   1.142205        bmi\n",
       "3   1.003564   children\n",
       "4   1.063161     smoker\n",
       "5   9.350937  northeast\n",
       "6   9.585279  northwest\n",
       "7  11.636787  southeast\n",
       "8  10.060127  southwest"
      ]
     },
     "execution_count": 10,
     "metadata": {},
     "output_type": "execute_result"
    }
   ],
   "source": [
    "# VIF 확인\n",
    "get_vif(features)"
   ]
  },
  {
   "cell_type": "code",
   "execution_count": 11,
   "id": "1f712356-5646-4d99-a4ae-3ab490c82d3f",
   "metadata": {},
   "outputs": [
    {
     "data": {
      "text/plain": [
       "smoker       0.546188\n",
       "age          0.542972\n",
       "children     0.151047\n",
       "northeast    0.063126\n",
       "northwest    0.015186\n",
       "bmi         -0.017568\n",
       "sex         -0.034228\n",
       "southwest   -0.034363\n",
       "southeast   -0.043222\n",
       "Name: target, dtype: float64"
      ]
     },
     "execution_count": 11,
     "metadata": {},
     "output_type": "execute_result"
    }
   ],
   "source": [
    "# 상관관계 확인\n",
    "enc_m_df.corr()['target'].sort_values(ascending=False)[1:]"
   ]
  },
  {
   "cell_type": "code",
   "execution_count": 12,
   "id": "c9381dd0-3b71-47a6-9ab3-a1f4c9192383",
   "metadata": {},
   "outputs": [
    {
     "data": {
      "text/plain": [
       "<Axes: >"
      ]
     },
     "execution_count": 12,
     "metadata": {},
     "output_type": "execute_result"
    },
    {
     "data": {
      "image/png": "[encoded data removed]",
      "text/plain": [
       "<Figure size 640x480 with 2 Axes>"
      ]
     },
     "metadata": {},
     "output_type": "display_data"
    }
   ],
   "source": [
    "import seaborn as sns\n",
    "\n",
    "# 상관관계 히트맵 확인\n",
    "sns.heatmap(features.corr())"
   ]
  },
  {
   "cell_type": "markdown",
   "id": "f8d88cea-bfe7-48d2-a9c7-ee31d62999fd",
   "metadata": {},
   "source": [
    "#### 🚩 결과\n",
    "- 상관관계가 낮고 다중 공산성이 높은 피처 제거\n",
    "- northeast, northwest, southeast, southwest, sex 제거"
   ]
  },
  {
   "cell_type": "code",
   "execution_count": 13,
   "id": "7d5a9f23-ab01-4b8f-ba7f-25625f7bb446",
   "metadata": {},
   "outputs": [
    {
     "data": {
      "text/html": [
       "<div>\n",
       "<style scoped>\n",
       "    .dataframe tbody tr th:only-of-type {\n",
       "        vertical-align: middle;\n",
       "    }\n",
       "\n",
       "    .dataframe tbody tr th {\n",
       "        vertical-align: top;\n",
       "    }\n",
       "\n",
       "    .dataframe thead th {\n",
       "        text-align: right;\n",
       "    }\n",
       "</style>\n",
       "<table border=\"1\" class=\"dataframe\">\n",
       "  <thead>\n",
       "    <tr style=\"text-align: right;\">\n",
       "      <th></th>\n",
       "      <th>age</th>\n",
       "      <th>bmi</th>\n",
       "      <th>children</th>\n",
       "      <th>smoker</th>\n",
       "      <th>target</th>\n",
       "    </tr>\n",
       "  </thead>\n",
       "  <tbody>\n",
       "    <tr>\n",
       "      <th>0</th>\n",
       "      <td>19</td>\n",
       "      <td>27.900</td>\n",
       "      <td>0</td>\n",
       "      <td>1</td>\n",
       "      <td>21.670016</td>\n",
       "    </tr>\n",
       "    <tr>\n",
       "      <th>1</th>\n",
       "      <td>18</td>\n",
       "      <td>33.770</td>\n",
       "      <td>1</td>\n",
       "      <td>0</td>\n",
       "      <td>13.555550</td>\n",
       "    </tr>\n",
       "    <tr>\n",
       "      <th>2</th>\n",
       "      <td>28</td>\n",
       "      <td>33.000</td>\n",
       "      <td>3</td>\n",
       "      <td>0</td>\n",
       "      <td>16.598254</td>\n",
       "    </tr>\n",
       "    <tr>\n",
       "      <th>3</th>\n",
       "      <td>33</td>\n",
       "      <td>22.705</td>\n",
       "      <td>0</td>\n",
       "      <td>0</td>\n",
       "      <td>22.797186</td>\n",
       "    </tr>\n",
       "    <tr>\n",
       "      <th>4</th>\n",
       "      <td>32</td>\n",
       "      <td>28.880</td>\n",
       "      <td>0</td>\n",
       "      <td>0</td>\n",
       "      <td>16.120202</td>\n",
       "    </tr>\n",
       "    <tr>\n",
       "      <th>...</th>\n",
       "      <td>...</td>\n",
       "      <td>...</td>\n",
       "      <td>...</td>\n",
       "      <td>...</td>\n",
       "      <td>...</td>\n",
       "    </tr>\n",
       "    <tr>\n",
       "      <th>1219</th>\n",
       "      <td>50</td>\n",
       "      <td>30.970</td>\n",
       "      <td>3</td>\n",
       "      <td>0</td>\n",
       "      <td>19.785499</td>\n",
       "    </tr>\n",
       "    <tr>\n",
       "      <th>1220</th>\n",
       "      <td>18</td>\n",
       "      <td>31.920</td>\n",
       "      <td>0</td>\n",
       "      <td>0</td>\n",
       "      <td>14.304192</td>\n",
       "    </tr>\n",
       "    <tr>\n",
       "      <th>1221</th>\n",
       "      <td>18</td>\n",
       "      <td>36.850</td>\n",
       "      <td>0</td>\n",
       "      <td>0</td>\n",
       "      <td>13.385460</td>\n",
       "    </tr>\n",
       "    <tr>\n",
       "      <th>1222</th>\n",
       "      <td>21</td>\n",
       "      <td>25.800</td>\n",
       "      <td>0</td>\n",
       "      <td>0</td>\n",
       "      <td>14.014294</td>\n",
       "    </tr>\n",
       "    <tr>\n",
       "      <th>1223</th>\n",
       "      <td>61</td>\n",
       "      <td>29.070</td>\n",
       "      <td>0</td>\n",
       "      <td>1</td>\n",
       "      <td>24.050173</td>\n",
       "    </tr>\n",
       "  </tbody>\n",
       "</table>\n",
       "<p>1224 rows × 5 columns</p>\n",
       "</div>"
      ],
      "text/plain": [
       "      age     bmi  children  smoker     target\n",
       "0      19  27.900         0       1  21.670016\n",
       "1      18  33.770         1       0  13.555550\n",
       "2      28  33.000         3       0  16.598254\n",
       "3      33  22.705         0       0  22.797186\n",
       "4      32  28.880         0       0  16.120202\n",
       "...   ...     ...       ...     ...        ...\n",
       "1219   50  30.970         3       0  19.785499\n",
       "1220   18  31.920         0       0  14.304192\n",
       "1221   18  36.850         0       0  13.385460\n",
       "1222   21  25.800         0       0  14.014294\n",
       "1223   61  29.070         0       1  24.050173\n",
       "\n",
       "[1224 rows x 5 columns]"
      ]
     },
     "execution_count": 13,
     "metadata": {},
     "output_type": "execute_result"
    }
   ],
   "source": [
    "# 피처 제거\n",
    "columns = ['northeast', 'northwest', 'southeast', 'southwest', 'sex']\n",
    "\n",
    "enc_m_df = enc_m_df.drop(columns=columns, axis=1)\n",
    "enc_m_df"
   ]
  },
  {
   "cell_type": "code",
   "execution_count": 14,
   "id": "906a6fa4-51f6-468c-83f0-6b3ee5071f9a",
   "metadata": {},
   "outputs": [
    {
     "name": "stdout",
     "output_type": "stream",
     "text": [
      "                                 OLS Regression Results                                \n",
      "=======================================================================================\n",
      "Dep. Variable:                 target   R-squared (uncentered):                   0.981\n",
      "Model:                            OLS   Adj. R-squared (uncentered):              0.981\n",
      "Method:                 Least Squares   F-statistic:                          1.581e+04\n",
      "Date:                Fri, 10 May 2024   Prob (F-statistic):                        0.00\n",
      "Time:                        17:17:15   Log-Likelihood:                         -2913.6\n",
      "No. Observations:                1224   AIC:                                      5835.\n",
      "Df Residuals:                    1220   BIC:                                      5856.\n",
      "Df Model:                           4                                                  \n",
      "Covariance Type:            nonrobust                                                  \n",
      "==============================================================================\n",
      "                 coef    std err          t      P>|t|      [0.025      0.975]\n",
      "------------------------------------------------------------------------------\n",
      "age            0.1860      0.005     37.728      0.000       0.176       0.196\n",
      "bmi            0.3191      0.007     47.241      0.000       0.306       0.332\n",
      "children       0.5700      0.061      9.319      0.000       0.450       0.690\n",
      "smoker         7.4220      0.218     34.071      0.000       6.995       7.849\n",
      "==============================================================================\n",
      "Omnibus:                       92.967   Durbin-Watson:                   2.005\n",
      "Prob(Omnibus):                  0.000   Jarque-Bera (JB):              160.482\n",
      "Skew:                           0.541   Prob(JB):                     1.42e-35\n",
      "Kurtosis:                       4.405   Cond. No.                         147.\n",
      "==============================================================================\n",
      "\n",
      "Notes:\n",
      "[1] R² is computed without centering (uncentered) since the model does not contain a constant.\n",
      "[2] Standard Errors assume that the covariance matrix of the errors is correctly specified.\n"
     ]
    }
   ],
   "source": [
    "from statsmodels.api import OLS\n",
    "\n",
    "features, targets = enc_m_df.iloc[:, :-1], enc_m_df.iloc[:, -1]\n",
    "\n",
    "model = OLS(targets, features)\n",
    "print(model.fit().summary())"
   ]
  },
  {
   "cell_type": "code",
   "execution_count": 15,
   "id": "b8819e6e-5651-4ae7-b70e-1a7a7eb6f717",
   "metadata": {},
   "outputs": [],
   "source": [
    "from statsmodels.stats.outliers_influence import variance_inflation_factor\n",
    "\n",
    "def get_vif(features):\n",
    "    vif = pd.DataFrame()\n",
    "    vif['vif_score'] = [variance_inflation_factor(features, i) for i in range(features.shape[1])]\n",
    "    vif['features'] = features.columns\n",
    "    return vif"
   ]
  },
  {
   "cell_type": "code",
   "execution_count": 16,
   "id": "e5c3168c-ee3f-4454-a255-428449ee8ed8",
   "metadata": {},
   "outputs": [
    {
     "data": {
      "text/html": [
       "<div>\n",
       "<style scoped>\n",
       "    .dataframe tbody tr th:only-of-type {\n",
       "        vertical-align: middle;\n",
       "    }\n",
       "\n",
       "    .dataframe tbody tr th {\n",
       "        vertical-align: top;\n",
       "    }\n",
       "\n",
       "    .dataframe thead th {\n",
       "        text-align: right;\n",
       "    }\n",
       "</style>\n",
       "<table border=\"1\" class=\"dataframe\">\n",
       "  <thead>\n",
       "    <tr style=\"text-align: right;\">\n",
       "      <th></th>\n",
       "      <th>vif_score</th>\n",
       "      <th>features</th>\n",
       "    </tr>\n",
       "  </thead>\n",
       "  <tbody>\n",
       "    <tr>\n",
       "      <th>0</th>\n",
       "      <td>7.385025</td>\n",
       "      <td>age</td>\n",
       "    </tr>\n",
       "    <tr>\n",
       "      <th>1</th>\n",
       "      <td>7.691248</td>\n",
       "      <td>bmi</td>\n",
       "    </tr>\n",
       "    <tr>\n",
       "      <th>2</th>\n",
       "      <td>1.762004</td>\n",
       "      <td>children</td>\n",
       "    </tr>\n",
       "    <tr>\n",
       "      <th>3</th>\n",
       "      <td>1.113228</td>\n",
       "      <td>smoker</td>\n",
       "    </tr>\n",
       "  </tbody>\n",
       "</table>\n",
       "</div>"
      ],
      "text/plain": [
       "   vif_score  features\n",
       "0   7.385025       age\n",
       "1   7.691248       bmi\n",
       "2   1.762004  children\n",
       "3   1.113228    smoker"
      ]
     },
     "execution_count": 16,
     "metadata": {},
     "output_type": "execute_result"
    }
   ],
   "source": [
    "get_vif(features)"
   ]
  },
  {
   "cell_type": "code",
   "execution_count": 17,
   "id": "5ee1e174-4628-4b44-9df0-aba9ec955053",
   "metadata": {},
   "outputs": [
    {
     "data": {
      "text/plain": [
       "smoker      0.546188\n",
       "age         0.542972\n",
       "children    0.151047\n",
       "bmi        -0.017568\n",
       "Name: target, dtype: float64"
      ]
     },
     "execution_count": 17,
     "metadata": {},
     "output_type": "execute_result"
    }
   ],
   "source": [
    "enc_m_df.corr()['target'].sort_values(ascending=False)[1:]"
   ]
  },
  {
   "cell_type": "code",
   "execution_count": 18,
   "id": "6b740c73-4ef3-495e-8fb3-343a66cc2d5d",
   "metadata": {},
   "outputs": [
    {
     "data": {
      "text/plain": [
       "<Axes: >"
      ]
     },
     "execution_count": 18,
     "metadata": {},
     "output_type": "execute_result"
    },
    {
     "data": {
      "image/png": "[encoded data removed]",
      "text/plain": [
       "<Figure size 640x480 with 2 Axes>"
      ]
     },
     "metadata": {},
     "output_type": "display_data"
    }
   ],
   "source": [
    "import seaborn as sns\n",
    "\n",
    "# 상관관계 히트맵 확인\n",
    "sns.heatmap(features.corr())"
   ]
  },
  {
   "cell_type": "code",
   "execution_count": 19,
   "id": "92fc36d5-dc09-4280-b471-5b0fe17ef2f2",
   "metadata": {},
   "outputs": [
    {
     "data": {
      "text/html": [
       "<style>#sk-container-id-1 {color: black;background-color: white;}#sk-container-id-1 pre{padding: 0;}#sk-container-id-1 div.sk-toggleable {background-color: white;}#sk-container-id-1 label.sk-toggleable__label {cursor: pointer;display: block;width: 100%;margin-bottom: 0;padding: 0.3em;box-sizing: border-box;text-align: center;}#sk-container-id-1 label.sk-toggleable__label-arrow:before {content: \"▸\";float: left;margin-right: 0.25em;color: #696969;}#sk-container-id-1 label.sk-toggleable__label-arrow:hover:before {color: black;}#sk-container-id-1 div.sk-estimator:hover label.sk-toggleable__label-arrow:before {color: black;}#sk-container-id-1 div.sk-toggleable__content {max-height: 0;max-width: 0;overflow: hidden;text-align: left;background-color: #f0f8ff;}#sk-container-id-1 div.sk-toggleable__content pre {margin: 0.2em;color: black;border-radius: 0.25em;background-color: #f0f8ff;}#sk-container-id-1 input.sk-toggleable__control:checked~div.sk-toggleable__content {max-height: 200px;max-width: 100%;overflow: auto;}#sk-container-id-1 input.sk-toggleable__control:checked~label.sk-toggleable__label-arrow:before {content: \"▾\";}#sk-container-id-1 div.sk-estimator input.sk-toggleable__control:checked~label.sk-toggleable__label {background-color: #d4ebff;}#sk-container-id-1 div.sk-label input.sk-toggleable__control:checked~label.sk-toggleable__label {background-color: #d4ebff;}#sk-container-id-1 input.sk-hidden--visually {border: 0;clip: rect(1px 1px 1px 1px);clip: rect(1px, 1px, 1px, 1px);height: 1px;margin: -1px;overflow: hidden;padding: 0;position: absolute;width: 1px;}#sk-container-id-1 div.sk-estimator {font-family: monospace;background-color: #f0f8ff;border: 1px dotted black;border-radius: 0.25em;box-sizing: border-box;margin-bottom: 0.5em;}#sk-container-id-1 div.sk-estimator:hover {background-color: #d4ebff;}#sk-container-id-1 div.sk-parallel-item::after {content: \"\";width: 100%;border-bottom: 1px solid gray;flex-grow: 1;}#sk-container-id-1 div.sk-label:hover label.sk-toggleable__label {background-color: #d4ebff;}#sk-container-id-1 div.sk-serial::before {content: \"\";position: absolute;border-left: 1px solid gray;box-sizing: border-box;top: 0;bottom: 0;left: 50%;z-index: 0;}#sk-container-id-1 div.sk-serial {display: flex;flex-direction: column;align-items: center;background-color: white;padding-right: 0.2em;padding-left: 0.2em;position: relative;}#sk-container-id-1 div.sk-item {position: relative;z-index: 1;}#sk-container-id-1 div.sk-parallel {display: flex;align-items: stretch;justify-content: center;background-color: white;position: relative;}#sk-container-id-1 div.sk-item::before, #sk-container-id-1 div.sk-parallel-item::before {content: \"\";position: absolute;border-left: 1px solid gray;box-sizing: border-box;top: 0;bottom: 0;left: 50%;z-index: -1;}#sk-container-id-1 div.sk-parallel-item {display: flex;flex-direction: column;z-index: 1;position: relative;background-color: white;}#sk-container-id-1 div.sk-parallel-item:first-child::after {align-self: flex-end;width: 50%;}#sk-container-id-1 div.sk-parallel-item:last-child::after {align-self: flex-start;width: 50%;}#sk-container-id-1 div.sk-parallel-item:only-child::after {width: 0;}#sk-container-id-1 div.sk-dashed-wrapped {border: 1px dashed gray;margin: 0 0.4em 0.5em 0.4em;box-sizing: border-box;padding-bottom: 0.4em;background-color: white;}#sk-container-id-1 div.sk-label label {font-family: monospace;font-weight: bold;display: inline-block;line-height: 1.2em;}#sk-container-id-1 div.sk-label-container {text-align: center;}#sk-container-id-1 div.sk-container {/* jupyter's `normalize.less` sets `[hidden] { display: none; }` but bootstrap.min.css set `[hidden] { display: none !important; }` so we also need the `!important` here to be able to override the default hidden behavior on the sphinx rendered scikit-learn.org. See: https://github.com/scikit-learn/scikit-learn/issues/21755 */display: inline-block !important;position: relative;}#sk-container-id-1 div.sk-text-repr-fallback {display: none;}</style><div id=\"sk-container-id-1\" class=\"sk-top-container\"><div class=\"sk-text-repr-fallback\"><pre>GradientBoostingRegressor(random_state=124)</pre><b>In a Jupyter environment, please rerun this cell to show the HTML representation or trust the notebook. <br />On GitHub, the HTML representation is unable to render, please try loading this page with nbviewer.org.</b></div><div class=\"sk-container\" hidden><div class=\"sk-item\"><div class=\"sk-estimator sk-toggleable\"><input class=\"sk-toggleable__control sk-hidden--visually\" id=\"sk-estimator-id-1\" type=\"checkbox\" checked><label for=\"sk-estimator-id-1\" class=\"sk-toggleable__label sk-toggleable__label-arrow\">GradientBoostingRegressor</label><div class=\"sk-toggleable__content\"><pre>GradientBoostingRegressor(random_state=124)</pre></div></div></div></div></div>"
      ],
      "text/plain": [
       "GradientBoostingRegressor(random_state=124)"
      ]
     },
     "execution_count": 19,
     "metadata": {},
     "output_type": "execute_result"
    }
   ],
   "source": [
    "from sklearn.model_selection import GridSearchCV\n",
    "from sklearn.ensemble import GradientBoostingRegressor\n",
    "from sklearn.model_selection import train_test_split\n",
    "\n",
    "# 데이터 세트 분리\n",
    "# 피처, 타겟 데이터 분리\n",
    "features, targets = enc_m_df.iloc[:, :-1], enc_m_df.iloc[:, -1]\n",
    "\n",
    "# 학습/테스트 및 문제/정답 데이터 세트 분리\n",
    "X_train, X_test, y_train, y_test = \\\n",
    "train_test_split(features, targets, test_size=0.2, random_state=124)\n",
    "\n",
    "# 가장 성능이 높았던 모델 가져오기\n",
    "gb_r = GradientBoostingRegressor(random_state=124)\n",
    "\n",
    "# 훈련\n",
    "gb_r.fit(X_train, y_train)"
   ]
  },
  {
   "cell_type": "code",
   "execution_count": 20,
   "id": "7fe421a5-c2ab-4d40-a7c6-31258e32dc2f",
   "metadata": {},
   "outputs": [],
   "source": [
    "import numpy as np\n",
    "from sklearn.metrics import mean_squared_log_error, mean_squared_error, r2_score\n",
    "\n",
    "def get_evaluation(y_test, prediction):\n",
    "    MSE = mean_squared_error(y_test, prediction)\n",
    "    RMSE = np.sqrt(MSE)\n",
    "    MSLE = mean_squared_log_error(y_test, prediction)\n",
    "    RMSLE = np.sqrt(MSLE)\n",
    "    R2 = r2_score(y_test, prediction)\n",
    "    print('MSE: {:.4f}, RMSE: {:.4f}, MSLE: {:.4f}, RMSLE: {:.4f}, R2: {:.4f}'\\\n",
    "         .format(MSE, RMSE, MSLE, RMSLE, R2))"
   ]
  },
  {
   "cell_type": "code",
   "execution_count": 21,
   "id": "9135a9e7-7120-42a0-8c2c-7d44da805b16",
   "metadata": {},
   "outputs": [
    {
     "name": "stdout",
     "output_type": "stream",
     "text": [
      "MSE: 2.0182, RMSE: 1.4206, MSLE: 0.0054, RMSLE: 0.0733, R2: 0.7322\n"
     ]
    }
   ],
   "source": [
    "# 예측\n",
    "prediction = gb_r.predict(X_test)\n",
    "# 평가\n",
    "get_evaluation(y_test, prediction)"
   ]
  },
  {
   "cell_type": "markdown",
   "id": "11c165e5-08d0-4b3b-9916-89a9b227935d",
   "metadata": {},
   "source": [
    "#### 📊 시각화"
   ]
  },
  {
   "cell_type": "code",
   "execution_count": 22,
   "id": "d777b67d-d5cf-4042-b3e4-4e2fb69f7bfe",
   "metadata": {},
   "outputs": [],
   "source": [
    "cycle2_data = {\n",
    "    'model': ['회귀모델(gb_r)', '전처리 후 회귀모델(gb_r)'],\n",
    "    'R2': [0.7401, 0.7322],\n",
    "}\n",
    "\n",
    "cycle2 = pd.DataFrame(cycle2_data)"
   ]
  },
  {
   "cell_type": "code",
   "execution_count": 23,
   "id": "193bd2f2-ccb6-46e1-8de1-ec6006e37df1",
   "metadata": {},
   "outputs": [
    {
     "data": {
      "image/png": "[encoded data removed]",
      "text/plain": [
       "<Figure size 1200x600 with 1 Axes>"
      ]
     },
     "metadata": {},
     "output_type": "display_data"
    }
   ],
   "source": [
    "import matplotlib.pyplot as plt\n",
    "import numpy as np\n",
    "\n",
    "# 한글 폰트 경로 설정\n",
    "plt.rcParams['font.family'] ='Malgun Gothic'\n",
    "plt.rcParams['axes.unicode_minus'] =False\n",
    "\n",
    "# 그래프 그리기\n",
    "plt.figure(figsize=(12, 6))\n",
    "\n",
    "# 컬러맵 가져오기\n",
    "cmap = plt.get_cmap('Pastel1')\n",
    "\n",
    "plt.bar(cycle2['model'], cycle2['R2'], color=cmap(np.array([0, 1, 2])), edgecolor='black', width=0.2)\n",
    "plt.title('2Cycle 성능 비교')\n",
    "plt.xlabel('Model')\n",
    "plt.ylabel('R2 Score')\n",
    "plt.grid(True)\n",
    "\n",
    "# y축의 범위 지정\n",
    "plt.ylim(0.5, 0.8)\n",
    "\n",
    "plt.tight_layout()\n",
    "plt.show()"
   ]
  },
  {
   "cell_type": "markdown",
   "id": "cbbf2d14-af6e-4ba1-b121-342307c17007",
   "metadata": {},
   "source": [
    "#### 🚩 1Cycle 결과\n",
    "- 회귀 모델(GradientBoostingRegressor)  \n",
    "**MSE: 1.9586, RMSE: 1.3995, MSLE: 0.0053, RMSLE: 0.0727, R2: 0.7401**\n",
    "\n",
    "#### 🚩 2Cycle 결과\n",
    "- 전처리 후 회귀 모델(GradientBoostingRegressor)  \n",
    "**MSE: 2.0182, RMSE: 1.4206, MSLE: 0.0054, RMSLE: 0.0733, R2: 0.7322**\n",
    "\n",
    "#### 💡 분석\n",
    "- 상관관계가 낮은 피처 제거 후 성능이 매우 근소한 차이로 저하된 것을 확인하였지만, 다중 공산성을 해결하기 위해 제거하기로 함.\n",
    "- validation 분리 후 훈련하여 성능평가를 재진행하기로 함."
   ]
  }
 ],
 "metadata": {
  "kernelspec": {
   "display_name": "Python 3 (ipykernel)",
   "language": "python",
   "name": "python3"
  },
  "language_info": {
   "codemirror_mode": {
    "name": "ipython",
    "version": 3
   },
   "file_extension": ".py",
   "mimetype": "text/x-python",
   "name": "python",
   "nbconvert_exporter": "python",
   "pygments_lexer": "ipython3",
   "version": "3.11.8"
  }
 },
 "nbformat": 4,
 "nbformat_minor": 5
}
