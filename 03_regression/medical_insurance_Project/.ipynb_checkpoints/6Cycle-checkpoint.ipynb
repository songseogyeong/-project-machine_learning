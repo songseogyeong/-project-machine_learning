{
 "cells": [
  {
   "cell_type": "code",
   "execution_count": 8,
   "id": "5783d1df-da25-4ab6-ae64-c7482aae88a3",
   "metadata": {},
   "outputs": [
    {
     "data": {
      "text/html": [
       "<div>\n",
       "<style scoped>\n",
       "    .dataframe tbody tr th:only-of-type {\n",
       "        vertical-align: middle;\n",
       "    }\n",
       "\n",
       "    .dataframe tbody tr th {\n",
       "        vertical-align: top;\n",
       "    }\n",
       "\n",
       "    .dataframe thead th {\n",
       "        text-align: right;\n",
       "    }\n",
       "</style>\n",
       "<table border=\"1\" class=\"dataframe\">\n",
       "  <thead>\n",
       "    <tr style=\"text-align: right;\">\n",
       "      <th></th>\n",
       "      <th>age</th>\n",
       "      <th>sex</th>\n",
       "      <th>bmi</th>\n",
       "      <th>children</th>\n",
       "      <th>smoker</th>\n",
       "      <th>region</th>\n",
       "      <th>charges</th>\n",
       "    </tr>\n",
       "  </thead>\n",
       "  <tbody>\n",
       "    <tr>\n",
       "      <th>0</th>\n",
       "      <td>19</td>\n",
       "      <td>female</td>\n",
       "      <td>27.900</td>\n",
       "      <td>0</td>\n",
       "      <td>yes</td>\n",
       "      <td>southwest</td>\n",
       "      <td>16884.92400</td>\n",
       "    </tr>\n",
       "    <tr>\n",
       "      <th>1</th>\n",
       "      <td>18</td>\n",
       "      <td>male</td>\n",
       "      <td>33.770</td>\n",
       "      <td>1</td>\n",
       "      <td>no</td>\n",
       "      <td>southeast</td>\n",
       "      <td>1725.55230</td>\n",
       "    </tr>\n",
       "    <tr>\n",
       "      <th>2</th>\n",
       "      <td>28</td>\n",
       "      <td>male</td>\n",
       "      <td>33.000</td>\n",
       "      <td>3</td>\n",
       "      <td>no</td>\n",
       "      <td>southeast</td>\n",
       "      <td>4449.46200</td>\n",
       "    </tr>\n",
       "    <tr>\n",
       "      <th>3</th>\n",
       "      <td>33</td>\n",
       "      <td>male</td>\n",
       "      <td>22.705</td>\n",
       "      <td>0</td>\n",
       "      <td>no</td>\n",
       "      <td>northwest</td>\n",
       "      <td>21984.47061</td>\n",
       "    </tr>\n",
       "    <tr>\n",
       "      <th>4</th>\n",
       "      <td>32</td>\n",
       "      <td>male</td>\n",
       "      <td>28.880</td>\n",
       "      <td>0</td>\n",
       "      <td>no</td>\n",
       "      <td>northwest</td>\n",
       "      <td>3866.85520</td>\n",
       "    </tr>\n",
       "    <tr>\n",
       "      <th>...</th>\n",
       "      <td>...</td>\n",
       "      <td>...</td>\n",
       "      <td>...</td>\n",
       "      <td>...</td>\n",
       "      <td>...</td>\n",
       "      <td>...</td>\n",
       "      <td>...</td>\n",
       "    </tr>\n",
       "    <tr>\n",
       "      <th>2767</th>\n",
       "      <td>47</td>\n",
       "      <td>female</td>\n",
       "      <td>45.320</td>\n",
       "      <td>1</td>\n",
       "      <td>no</td>\n",
       "      <td>southeast</td>\n",
       "      <td>8569.86180</td>\n",
       "    </tr>\n",
       "    <tr>\n",
       "      <th>2768</th>\n",
       "      <td>21</td>\n",
       "      <td>female</td>\n",
       "      <td>34.600</td>\n",
       "      <td>0</td>\n",
       "      <td>no</td>\n",
       "      <td>southwest</td>\n",
       "      <td>2020.17700</td>\n",
       "    </tr>\n",
       "    <tr>\n",
       "      <th>2769</th>\n",
       "      <td>19</td>\n",
       "      <td>male</td>\n",
       "      <td>26.030</td>\n",
       "      <td>1</td>\n",
       "      <td>yes</td>\n",
       "      <td>northwest</td>\n",
       "      <td>16450.89470</td>\n",
       "    </tr>\n",
       "    <tr>\n",
       "      <th>2770</th>\n",
       "      <td>23</td>\n",
       "      <td>male</td>\n",
       "      <td>18.715</td>\n",
       "      <td>0</td>\n",
       "      <td>no</td>\n",
       "      <td>northwest</td>\n",
       "      <td>21595.38229</td>\n",
       "    </tr>\n",
       "    <tr>\n",
       "      <th>2771</th>\n",
       "      <td>54</td>\n",
       "      <td>male</td>\n",
       "      <td>31.600</td>\n",
       "      <td>0</td>\n",
       "      <td>no</td>\n",
       "      <td>southwest</td>\n",
       "      <td>9850.43200</td>\n",
       "    </tr>\n",
       "  </tbody>\n",
       "</table>\n",
       "<p>2772 rows × 7 columns</p>\n",
       "</div>"
      ],
      "text/plain": [
       "      age     sex     bmi  children smoker     region      charges\n",
       "0      19  female  27.900         0    yes  southwest  16884.92400\n",
       "1      18    male  33.770         1     no  southeast   1725.55230\n",
       "2      28    male  33.000         3     no  southeast   4449.46200\n",
       "3      33    male  22.705         0     no  northwest  21984.47061\n",
       "4      32    male  28.880         0     no  northwest   3866.85520\n",
       "...   ...     ...     ...       ...    ...        ...          ...\n",
       "2767   47  female  45.320         1     no  southeast   8569.86180\n",
       "2768   21  female  34.600         0     no  southwest   2020.17700\n",
       "2769   19    male  26.030         1    yes  northwest  16450.89470\n",
       "2770   23    male  18.715         0     no  northwest  21595.38229\n",
       "2771   54    male  31.600         0     no  southwest   9850.43200\n",
       "\n",
       "[2772 rows x 7 columns]"
      ]
     },
     "execution_count": 8,
     "metadata": {},
     "output_type": "execute_result"
    }
   ],
   "source": [
    "import pandas as pd\n",
    "\n",
    "# 데이터 세트 호출\n",
    "m_df = pd.read_csv('./datasets/medical_insurance.csv', low_memory=False)\n",
    "m_df"
   ]
  },
  {
   "cell_type": "markdown",
   "id": "12a4a4c3-d7ea-4823-bf83-ee5b17f8a9ed",
   "metadata": {},
   "source": [
    "#### 📊 데이터 전처리"
   ]
  },
  {
   "cell_type": "code",
   "execution_count": 9,
   "id": "8339f9f1-97d0-4f96-b57c-e8775638ff80",
   "metadata": {},
   "outputs": [],
   "source": [
    "# 중복행 제거\n",
    "pre_m_df = m_df.drop_duplicates().reset_index(drop=True)"
   ]
  },
  {
   "cell_type": "code",
   "execution_count": 10,
   "id": "84783e60-e946-4888-9ea2-bd83160ce249",
   "metadata": {},
   "outputs": [],
   "source": [
    "# 타겟 컬럼 분포 변환\n",
    "from sklearn.preprocessing import PowerTransformer\n",
    "\n",
    "ptf = PowerTransformer(standardize=False)\n",
    "pre_m_df['charges'] = ptf.fit_transform(pre_m_df[['charges']])"
   ]
  },
  {
   "cell_type": "code",
   "execution_count": 11,
   "id": "04395286-256e-41b3-8eb5-0699f8d5a460",
   "metadata": {},
   "outputs": [],
   "source": [
    "from sklearn.preprocessing import LabelEncoder\n",
    "\n",
    "# 데이터 프레임 복제\n",
    "enc_m_df = pre_m_df.copy()\n",
    "encoders = {}\n",
    "\n",
    "# 문자열 컬럼 추출\n",
    "columns = ['sex', 'smoker']\n",
    "\n",
    "# 반복하여 컬럼 인코딩 처리:\n",
    "for column in columns:\n",
    "    # 레이블인코더 객체 생성\n",
    "    encoder = LabelEncoder()\n",
    "    # 문자열 데이터 정수로 형변환\n",
    "    result = encoder.fit_transform(enc_m_df[column])\n",
    "    # 형변환 값으로 대체\n",
    "    enc_m_df[column] = result\n",
    "    # 원본 데이터 담기\n",
    "    encoders[column] = encoder.classes_"
   ]
  },
  {
   "cell_type": "code",
   "execution_count": 12,
   "id": "54fb7789-029b-4943-acef-56d3aa4e4157",
   "metadata": {},
   "outputs": [],
   "source": [
    "import numpy as np\n",
    "from sklearn.preprocessing import OneHotEncoder\n",
    "\n",
    "# 원 핫 인코더 객체 생성\n",
    "# sparse_output: False = 밀집행렬(실제 값으로 채워진 행렬) 반환\n",
    "one_hot_encoder = OneHotEncoder(sparse_output=False)\n",
    "# 지역 피처 인코딩 처리\n",
    "result = one_hot_encoder.fit_transform(enc_m_df[['region']])\n",
    "\n",
    "# 인코딩 값 데이터 프레임으로 생성하고 정수로 형변환한 뒤, 기존 데이터 프레임과 병합\n",
    "enc_m_df = pd.concat([enc_m_df, pd.DataFrame(result, columns=one_hot_encoder.categories_).astype(np.int8)], axis=1)\n",
    "\n",
    "# 사용이 끝난 데이터 제거\n",
    "enc_m_df = enc_m_df.drop(labels='region', axis=1)\n",
    "\n",
    "# 원 핫 인코딩 컬럼명 변경\n",
    "enc_m_df.rename(columns={\n",
    "    ('northeast',): 'northeast',\n",
    "    ('northwest',): 'northwest',\n",
    "    ('southeast',): 'southeast',\n",
    "    ('southwest',): 'southwest',\n",
    "}, inplace=True)"
   ]
  },
  {
   "cell_type": "code",
   "execution_count": 13,
   "id": "dfcf0451-f818-4e88-bb10-1e5051eb3aa4",
   "metadata": {},
   "outputs": [],
   "source": [
    "# 타겟 컬럼 위치 변경을 위해 새로운 컬럼에 데이터 담기\n",
    "enc_m_df['target'] = enc_m_df.charges\n",
    "# 기존 컬럼은 제거\n",
    "enc_m_df = enc_m_df.drop(labels='charges', axis=1)"
   ]
  },
  {
   "cell_type": "markdown",
   "id": "df502426-56a0-4bb6-955c-1b98cf723f92",
   "metadata": {},
   "source": [
    "### 🌟 1Cycle"
   ]
  },
  {
   "cell_type": "markdown",
   "id": "fb0c75aa-67c0-4045-b793-7cf717f3eb86",
   "metadata": {},
   "source": [
    "#### 🚩 1Cycle 결과\n",
    "- 회귀  \n",
    "**MSE: 0.4515, RMSE: 0.6719, MSLE: 0.0030, RMSLE: 0.0552, R2: 0.7668**\n",
    "\n",
    "- 다중 회귀  \n",
    "**MSE: 0.3475, RMSE: 0.5895, MSLE: 0.0024, RMSLE: 0.0490, R2: 0.8206**\n",
    "\n",
    "- 회귀 모델(GradientBoostingRegressor)  \n",
    "**MSE: 0.3334, RMSE: 0.5774, MSLE: 0.0023, RMSLE: 0.0482, R2: 0.8278**\n",
    "\n",
    "#### 💡 분석\n",
    "- 회귀 분석 결과 R2 점수가 약 0.76이 나옴에 따라 선형 패턴을 지니고 있다고 보여졌으나,  \n",
    "  다중 회귀로 곡선을 부여하였을 때 약 R2 점수가 0.82로 상승함에 따라 완전한 선형은 아니고 비선형의 패턴도 띄고 있음을 확인함.\n",
    "- 회귀 모델 중 GradientBoostingRegressor을 사용하였을 때, 가장 좋은 성능을 보임에 따라 해당 모델을 선택하는 것이 적합하다고 판단됨."
   ]
  },
  {
   "cell_type": "markdown",
   "id": "13579aea-8d69-46b0-9167-bd13396c1ab5",
   "metadata": {},
   "source": [
    "### 🌟 2Cycle"
   ]
  },
  {
   "cell_type": "code",
   "execution_count": 14,
   "id": "7f1dc1b6-ed65-4adf-8caa-f1eab7c91b0e",
   "metadata": {},
   "outputs": [],
   "source": [
    "# 피처 제거\n",
    "columns = ['northeast', 'northwest', 'southeast', 'southwest', 'sex']\n",
    "\n",
    "enc_m_df = enc_m_df.drop(columns=columns, axis=1)"
   ]
  },
  {
   "cell_type": "markdown",
   "id": "cbbf2d14-af6e-4ba1-b121-342307c17007",
   "metadata": {},
   "source": [
    "#### 🚩 1Cycle 결과\n",
    "- 회귀 모델(GradientBoostingRegressor)  \n",
    "**MSE: 0.3334, RMSE: 0.5774, MSLE: 0.0023, RMSLE: 0.0482, R2: 0.8278**\n",
    "\n",
    "#### 🚩 2Cycle 결과\n",
    "- 전처리 후 회귀 모델(GradientBoostingRegressor)  \n",
    "**MSE: 0.3478, RMSE: 0.5897, MSLE: 0.0025, RMSLE: 0.0495, R2: 0.8204**\n",
    "\n",
    "#### 💡 분석\n",
    "- 상관관계가 낮은 피처 제거 후 오히려 성능이 저하된 것을 확인하였지만,  \n",
    "  과적합을 방지하기 위해 상관관계가 낮은 피처를 제거하여 진행하기로 함.\n",
    "- validation 분리 후 훈련하여 성능평가를 재진행하기로 함."
   ]
  },
  {
   "cell_type": "markdown",
   "id": "ea4146ba-aae6-4fdf-983e-ae20c179867b",
   "metadata": {},
   "source": [
    "### 🌟 3Cycle"
   ]
  },
  {
   "cell_type": "markdown",
   "id": "79eea32f-6269-4e6a-a6e1-eb18bfbb9caa",
   "metadata": {},
   "source": [
    "#### 🚩 2Cycle 결과\n",
    "- 전처리 후 회귀 모델(GradientBoostingRegressor)  \n",
    "**MSE: 0.3478, RMSE: 0.5897, MSLE: 0.0025, RMSLE: 0.0495, R2: 0.8204**\n",
    "  \n",
    "#### 🚩 3Cycle 결과\n",
    "- Validation (cv)  \n",
    "**MSE: 0.3282, RMSE: 0.5729, MSLE: 0.0023, RMSLE: 0.0480, R2: 0.8305**\n",
    "\n",
    "- Validation (K-Fold)  \n",
    "**MSE: 0.3282, RMSE: 0.5729, MSLE: 0.0023, RMSLE: 0.0480, R2: 0.8305**\n",
    "\n",
    "#### 💡 분석\n",
    "- validation 후 성능이 더 향상된 것으로 나타났으며, 5-폴드와 k-폴드의 성능이 동일한 것으로 나타남.\n",
    "- 차원 축소 시 성능이 어떻게 조정되는지 확인하기로 함."
   ]
  },
  {
   "cell_type": "markdown",
   "id": "fccf6890-f2c5-46da-bfb3-1f12466be289",
   "metadata": {},
   "source": [
    "### 🌟 4Cycle"
   ]
  },
  {
   "cell_type": "markdown",
   "id": "80bd1b9d-9404-49ce-b068-dbbe0f635489",
   "metadata": {},
   "source": [
    "#### 🚩 3Cycle 결과\n",
    "- Validation (cv)  \n",
    "**MSE: 0.3282, RMSE: 0.5729, MSLE: 0.0023, RMSLE: 0.0480, R2: 0.8305**\n",
    "\n",
    "#### 🚩 4Cycle 결과\n",
    "- 차원축소 (2차원)  \n",
    "**MSE: 1.5630, RMSE: 1.2502, MSLE: 0.0105, RMSLE: 0.1023, R2: 0.1928**\n",
    "  \n",
    "- 차원축소 (4차원 = 원래와 동일한 차원)  \n",
    "**MSE: 0.3661, RMSE: 0.6051, MSLE: 0.0026, RMSLE: 0.0509, R2: 0.8109**\n",
    "\n",
    "#### 💡 분석\n",
    "- 차원 축소 시 성능이 훨씬 저하된다는 것을 확인함.\n",
    "- 정규화 추가 진행 후 성능이 어떻게 변화하는지 더 확인해 보기로 함."
   ]
  },
  {
   "cell_type": "markdown",
   "id": "e529166d-58fa-4685-ad6d-3661cfbafeff",
   "metadata": {},
   "source": [
    "### 🌟 5Cycle"
   ]
  },
  {
   "cell_type": "markdown",
   "id": "169ff98c-9f01-46d1-a249-cb398d4bab83",
   "metadata": {},
   "source": [
    "#### 🚩 3Cycle 결과\n",
    "- Validation (cv)  \n",
    "**MSE: 0.3282, RMSE: 0.5729, MSLE: 0.0023, RMSLE: 0.0480, R2: 0.8305**\n",
    "\n",
    "#### 🚩 4Cycle 결과\n",
    "- 차원축소 (2차원)  \n",
    "**MSE: 1.5630, RMSE: 1.2502, MSLE: 0.0105, RMSLE: 0.1023, R2: 0.1928**\n",
    "\n",
    "- 차원축소 (4차원 = 원래와 동일한 차원)  \n",
    "**MSE: 0.3661, RMSE: 0.6051, MSLE: 0.0026, RMSLE: 0.0509, R2: 0.8109**\n",
    "\n",
    "#### 🚩 5Cycle 결과\n",
    "- 정규화 처리 후 차원축소 (2차원)  \n",
    "**MSE: 1.3590, RMSE: 1.1658, MSLE: 0.0089, RMSLE: 0.0944, R2: 0.2982**\n",
    "\n",
    "- 차원축소 (4차원 = 원래와 동일한 차원)  \n",
    "**MSE: 0.3648, RMSE: 0.6040, MSLE: 0.0026, RMSLE: 0.0507, R2: 0.8116**\n",
    "\n",
    "#### 💡 분석\n",
    "- 전처리 후 성능이 더 향상은 되었으나, 차원 축소 전 성능이 훨씬 우세하다는 것을 확인함."
   ]
  },
  {
   "cell_type": "markdown",
   "id": "6e7f0565-0f51-44f3-999c-37c8e7585311",
   "metadata": {},
   "source": [
    "### 🌟 6Cycle\n",
    "- 과적합은 아니지만, 확인해보고 싶어 추가 진행..."
   ]
  },
  {
   "cell_type": "markdown",
   "id": "0fdb6865-9369-4150-99bb-1d9460fb95ec",
   "metadata": {},
   "source": [
    "#### 📊 lasso"
   ]
  },
  {
   "cell_type": "code",
   "execution_count": 16,
   "id": "421df995-ffd9-4136-b5e0-1d71eec2f1e0",
   "metadata": {},
   "outputs": [],
   "source": [
    "from sklearn.model_selection import train_test_split\n",
    "\n",
    "# 데이터 세트 분리\n",
    "# 피처, 타겟 데이터 분리\n",
    "features, targets = enc_m_df.iloc[:, :-1], enc_m_df.iloc[:, -1]\n",
    "\n",
    "# 문제/정답 및 훈련/테스트 데이터 분리\n",
    "X_train, X_test, y_train, y_test = \\\n",
    "train_test_split(features, targets, test_size=0.2, random_state=124)"
   ]
  },
  {
   "cell_type": "code",
   "execution_count": null,
   "id": "c3a65145-68b4-4821-90a4-8931d4afbdd6",
   "metadata": {},
   "outputs": [],
   "source": []
  },
  {
   "cell_type": "code",
   "execution_count": null,
   "id": "73c8e4d2-e74c-419a-bce9-5fa5b69b6df8",
   "metadata": {},
   "outputs": [],
   "source": []
  },
  {
   "cell_type": "code",
   "execution_count": null,
   "id": "72ef26c2-d4c9-43b9-8419-1a4c269405d6",
   "metadata": {},
   "outputs": [],
   "source": []
  },
  {
   "cell_type": "code",
   "execution_count": null,
   "id": "2a2df943-2e07-4d2f-8dc6-db184f87f540",
   "metadata": {},
   "outputs": [],
   "source": []
  },
  {
   "cell_type": "code",
   "execution_count": null,
   "id": "5e1853b1-67ca-43b1-a34c-9ffffd5dfcbb",
   "metadata": {},
   "outputs": [],
   "source": []
  },
  {
   "cell_type": "code",
   "execution_count": null,
   "id": "19fde1e8-4fb3-46ed-9d3f-4b617f4b6bbc",
   "metadata": {},
   "outputs": [],
   "source": []
  },
  {
   "cell_type": "code",
   "execution_count": null,
   "id": "7981b075-d81e-4406-9106-9817f2240d76",
   "metadata": {},
   "outputs": [],
   "source": []
  },
  {
   "cell_type": "code",
   "execution_count": null,
   "id": "5e78ec6f-8081-4eec-9137-2bd8ea3caf32",
   "metadata": {},
   "outputs": [],
   "source": []
  }
 ],
 "metadata": {
  "kernelspec": {
   "display_name": "Python 3 (ipykernel)",
   "language": "python",
   "name": "python3"
  },
  "language_info": {
   "codemirror_mode": {
    "name": "ipython",
    "version": 3
   },
   "file_extension": ".py",
   "mimetype": "text/x-python",
   "name": "python",
   "nbconvert_exporter": "python",
   "pygments_lexer": "ipython3",
   "version": "3.11.8"
  }
 },
 "nbformat": 4,
 "nbformat_minor": 5
}
