{
 "cells": [
  {
   "cell_type": "code",
   "execution_count": 1,
   "id": "5783d1df-da25-4ab6-ae64-c7482aae88a3",
   "metadata": {},
   "outputs": [
    {
     "data": {
      "text/html": [
       "<div>\n",
       "<style scoped>\n",
       "    .dataframe tbody tr th:only-of-type {\n",
       "        vertical-align: middle;\n",
       "    }\n",
       "\n",
       "    .dataframe tbody tr th {\n",
       "        vertical-align: top;\n",
       "    }\n",
       "\n",
       "    .dataframe thead th {\n",
       "        text-align: right;\n",
       "    }\n",
       "</style>\n",
       "<table border=\"1\" class=\"dataframe\">\n",
       "  <thead>\n",
       "    <tr style=\"text-align: right;\">\n",
       "      <th></th>\n",
       "      <th>age</th>\n",
       "      <th>sex</th>\n",
       "      <th>bmi</th>\n",
       "      <th>children</th>\n",
       "      <th>smoker</th>\n",
       "      <th>region</th>\n",
       "      <th>charges</th>\n",
       "    </tr>\n",
       "  </thead>\n",
       "  <tbody>\n",
       "    <tr>\n",
       "      <th>0</th>\n",
       "      <td>19</td>\n",
       "      <td>female</td>\n",
       "      <td>27.900</td>\n",
       "      <td>0</td>\n",
       "      <td>yes</td>\n",
       "      <td>southwest</td>\n",
       "      <td>16884.92400</td>\n",
       "    </tr>\n",
       "    <tr>\n",
       "      <th>1</th>\n",
       "      <td>18</td>\n",
       "      <td>male</td>\n",
       "      <td>33.770</td>\n",
       "      <td>1</td>\n",
       "      <td>no</td>\n",
       "      <td>southeast</td>\n",
       "      <td>1725.55230</td>\n",
       "    </tr>\n",
       "    <tr>\n",
       "      <th>2</th>\n",
       "      <td>28</td>\n",
       "      <td>male</td>\n",
       "      <td>33.000</td>\n",
       "      <td>3</td>\n",
       "      <td>no</td>\n",
       "      <td>southeast</td>\n",
       "      <td>4449.46200</td>\n",
       "    </tr>\n",
       "    <tr>\n",
       "      <th>3</th>\n",
       "      <td>33</td>\n",
       "      <td>male</td>\n",
       "      <td>22.705</td>\n",
       "      <td>0</td>\n",
       "      <td>no</td>\n",
       "      <td>northwest</td>\n",
       "      <td>21984.47061</td>\n",
       "    </tr>\n",
       "    <tr>\n",
       "      <th>4</th>\n",
       "      <td>32</td>\n",
       "      <td>male</td>\n",
       "      <td>28.880</td>\n",
       "      <td>0</td>\n",
       "      <td>no</td>\n",
       "      <td>northwest</td>\n",
       "      <td>3866.85520</td>\n",
       "    </tr>\n",
       "    <tr>\n",
       "      <th>...</th>\n",
       "      <td>...</td>\n",
       "      <td>...</td>\n",
       "      <td>...</td>\n",
       "      <td>...</td>\n",
       "      <td>...</td>\n",
       "      <td>...</td>\n",
       "      <td>...</td>\n",
       "    </tr>\n",
       "    <tr>\n",
       "      <th>2767</th>\n",
       "      <td>47</td>\n",
       "      <td>female</td>\n",
       "      <td>45.320</td>\n",
       "      <td>1</td>\n",
       "      <td>no</td>\n",
       "      <td>southeast</td>\n",
       "      <td>8569.86180</td>\n",
       "    </tr>\n",
       "    <tr>\n",
       "      <th>2768</th>\n",
       "      <td>21</td>\n",
       "      <td>female</td>\n",
       "      <td>34.600</td>\n",
       "      <td>0</td>\n",
       "      <td>no</td>\n",
       "      <td>southwest</td>\n",
       "      <td>2020.17700</td>\n",
       "    </tr>\n",
       "    <tr>\n",
       "      <th>2769</th>\n",
       "      <td>19</td>\n",
       "      <td>male</td>\n",
       "      <td>26.030</td>\n",
       "      <td>1</td>\n",
       "      <td>yes</td>\n",
       "      <td>northwest</td>\n",
       "      <td>16450.89470</td>\n",
       "    </tr>\n",
       "    <tr>\n",
       "      <th>2770</th>\n",
       "      <td>23</td>\n",
       "      <td>male</td>\n",
       "      <td>18.715</td>\n",
       "      <td>0</td>\n",
       "      <td>no</td>\n",
       "      <td>northwest</td>\n",
       "      <td>21595.38229</td>\n",
       "    </tr>\n",
       "    <tr>\n",
       "      <th>2771</th>\n",
       "      <td>54</td>\n",
       "      <td>male</td>\n",
       "      <td>31.600</td>\n",
       "      <td>0</td>\n",
       "      <td>no</td>\n",
       "      <td>southwest</td>\n",
       "      <td>9850.43200</td>\n",
       "    </tr>\n",
       "  </tbody>\n",
       "</table>\n",
       "<p>2772 rows × 7 columns</p>\n",
       "</div>"
      ],
      "text/plain": [
       "      age     sex     bmi  children smoker     region      charges\n",
       "0      19  female  27.900         0    yes  southwest  16884.92400\n",
       "1      18    male  33.770         1     no  southeast   1725.55230\n",
       "2      28    male  33.000         3     no  southeast   4449.46200\n",
       "3      33    male  22.705         0     no  northwest  21984.47061\n",
       "4      32    male  28.880         0     no  northwest   3866.85520\n",
       "...   ...     ...     ...       ...    ...        ...          ...\n",
       "2767   47  female  45.320         1     no  southeast   8569.86180\n",
       "2768   21  female  34.600         0     no  southwest   2020.17700\n",
       "2769   19    male  26.030         1    yes  northwest  16450.89470\n",
       "2770   23    male  18.715         0     no  northwest  21595.38229\n",
       "2771   54    male  31.600         0     no  southwest   9850.43200\n",
       "\n",
       "[2772 rows x 7 columns]"
      ]
     },
     "execution_count": 1,
     "metadata": {},
     "output_type": "execute_result"
    }
   ],
   "source": [
    "import pandas as pd\n",
    "\n",
    "# 데이터 세트 호출\n",
    "m_df = pd.read_csv('./datasets/medical_insurance.csv', low_memory=False)\n",
    "m_df"
   ]
  },
  {
   "cell_type": "markdown",
   "id": "12a4a4c3-d7ea-4823-bf83-ee5b17f8a9ed",
   "metadata": {},
   "source": [
    "#### 📊 데이터 전처리"
   ]
  },
  {
   "cell_type": "code",
   "execution_count": 2,
   "id": "8339f9f1-97d0-4f96-b57c-e8775638ff80",
   "metadata": {},
   "outputs": [],
   "source": [
    "# 중복행 제거\n",
    "pre_m_df = m_df.drop_duplicates().reset_index(drop=True)"
   ]
  },
  {
   "cell_type": "code",
   "execution_count": 3,
   "id": "84783e60-e946-4888-9ea2-bd83160ce249",
   "metadata": {},
   "outputs": [],
   "source": [
    "# 타겟 컬럼 분포 변환\n",
    "from sklearn.preprocessing import PowerTransformer\n",
    "\n",
    "ptf = PowerTransformer(standardize=False)\n",
    "pre_m_df['charges'] = ptf.fit_transform(pre_m_df[['charges']])"
   ]
  },
  {
   "cell_type": "code",
   "execution_count": 4,
   "id": "04395286-256e-41b3-8eb5-0699f8d5a460",
   "metadata": {},
   "outputs": [],
   "source": [
    "from sklearn.preprocessing import LabelEncoder\n",
    "\n",
    "# 데이터 프레임 복제\n",
    "enc_m_df = pre_m_df.copy()\n",
    "encoders = {}\n",
    "\n",
    "# 문자열 컬럼 추출\n",
    "columns = ['sex', 'smoker']\n",
    "\n",
    "# 반복하여 컬럼 인코딩 처리:\n",
    "for column in columns:\n",
    "    # 레이블인코더 객체 생성\n",
    "    encoder = LabelEncoder()\n",
    "    # 문자열 데이터 정수로 형변환\n",
    "    result = encoder.fit_transform(enc_m_df[column])\n",
    "    # 형변환 값으로 대체\n",
    "    enc_m_df[column] = result\n",
    "    # 원본 데이터 담기\n",
    "    encoders[column] = encoder.classes_"
   ]
  },
  {
   "cell_type": "code",
   "execution_count": 5,
   "id": "54fb7789-029b-4943-acef-56d3aa4e4157",
   "metadata": {},
   "outputs": [],
   "source": [
    "import numpy as np\n",
    "from sklearn.preprocessing import OneHotEncoder\n",
    "\n",
    "# 원 핫 인코더 객체 생성\n",
    "# sparse_output: False = 밀집행렬(실제 값으로 채워진 행렬) 반환\n",
    "one_hot_encoder = OneHotEncoder(sparse_output=False)\n",
    "# 지역 피처 인코딩 처리\n",
    "result = one_hot_encoder.fit_transform(enc_m_df[['region']])\n",
    "\n",
    "# 인코딩 값 데이터 프레임으로 생성하고 정수로 형변환한 뒤, 기존 데이터 프레임과 병합\n",
    "enc_m_df = pd.concat([enc_m_df, pd.DataFrame(result, columns=one_hot_encoder.categories_).astype(np.int8)], axis=1)\n",
    "\n",
    "# 사용이 끝난 데이터 제거\n",
    "enc_m_df = enc_m_df.drop(labels='region', axis=1)\n",
    "\n",
    "# 원 핫 인코딩 컬럼명 변경\n",
    "enc_m_df.rename(columns={\n",
    "    ('northeast',): 'northeast',\n",
    "    ('northwest',): 'northwest',\n",
    "    ('southeast',): 'southeast',\n",
    "    ('southwest',): 'southwest',\n",
    "}, inplace=True)"
   ]
  },
  {
   "cell_type": "code",
   "execution_count": 6,
   "id": "dfcf0451-f818-4e88-bb10-1e5051eb3aa4",
   "metadata": {},
   "outputs": [],
   "source": [
    "# 타겟 컬럼 위치 변경을 위해 새로운 컬럼에 데이터 담기\n",
    "enc_m_df['target'] = enc_m_df.charges\n",
    "# 기존 컬럼은 제거\n",
    "enc_m_df = enc_m_df.drop(labels='charges', axis=1)"
   ]
  },
  {
   "cell_type": "markdown",
   "id": "df502426-56a0-4bb6-955c-1b98cf723f92",
   "metadata": {},
   "source": [
    "### 🌟 1Cycle"
   ]
  },
  {
   "cell_type": "markdown",
   "id": "fb0c75aa-67c0-4045-b793-7cf717f3eb86",
   "metadata": {},
   "source": [
    "#### 🚩 1Cycle 결과\n",
    "- 회귀  \n",
    "**MSE: 0.4515, RMSE: 0.6719, MSLE: 0.0030, RMSLE: 0.0552, R2: 0.7668**\n",
    "\n",
    "- 다중 회귀  \n",
    "**MSE: 0.3475, RMSE: 0.5895, MSLE: 0.0024, RMSLE: 0.0490, R2: 0.8206**\n",
    "\n",
    "- 회귀 모델(GradientBoostingRegressor)  \n",
    "**MSE: 0.3193, RMSE: 0.5651, MSLE: 0.0022, RMSLE: 0.0471, R2: 0.8351**\n",
    "\n",
    "#### 💡 분석\n",
    "- 회귀 분석 결과 R2 점수가 약 0.76이 나옴에 따라 선형 패턴을 지니고 있다고 보여졌으나,  \n",
    "  다중 회귀로 곡선을 부여하였을 때 약 R2 점수가 0.82로 상승함에 따라 완전한 선형은 아니고 비선형의 패턴도 띄고 있음을 확인함.\n",
    "- 회귀 모델 중 GradientBoostingRegressor을 사용하였을 때, 가장 좋은 성능을 보임에 따라 해당 모델을 선택하는 것이 적합하다고 판단됨."
   ]
  },
  {
   "cell_type": "code",
   "execution_count": 7,
   "id": "c76286b9-dcf3-49a4-b044-4db2956a8d6e",
   "metadata": {},
   "outputs": [
    {
     "name": "stderr",
     "output_type": "stream",
     "text": [
      "C:\\Users\\LEGION\\anaconda3\\Lib\\site-packages\\seaborn\\_oldcore.py:1119: FutureWarning: use_inf_as_na option is deprecated and will be removed in a future version. Convert inf values to NaN before operating instead.\n",
      "  with pd.option_context('mode.use_inf_as_na', True):\n",
      "C:\\Users\\LEGION\\anaconda3\\Lib\\site-packages\\seaborn\\_oldcore.py:1119: FutureWarning: use_inf_as_na option is deprecated and will be removed in a future version. Convert inf values to NaN before operating instead.\n",
      "  with pd.option_context('mode.use_inf_as_na', True):\n"
     ]
    },
    {
     "data": {
      "image/png": "[encoded data removed]",
      "text/plain": [
       "<Figure size 500x500 with 6 Axes>"
      ]
     },
     "metadata": {},
     "output_type": "display_data"
    }
   ],
   "source": [
    "import seaborn as sns\n",
    "import matplotlib.pyplot as plt\n",
    "\n",
    "# 데이터프레임에서 'target' 열 제외\n",
    "columns = ['age', 'bmi']\n",
    "\n",
    "# 산점도 행렬 시각화\n",
    "sns.pairplot(enc_m_df[columns], kind=\"reg\")\n",
    "plt.show()"
   ]
  },
  {
   "cell_type": "markdown",
   "id": "4d9ec6dd-b69f-44b2-899c-5340797f1705",
   "metadata": {},
   "source": [
    "#### 🚩 결과\n",
    "- 다중 공선성의 문제가 없는 것을 확인함."
   ]
  },
  {
   "cell_type": "markdown",
   "id": "13579aea-8d69-46b0-9167-bd13396c1ab5",
   "metadata": {},
   "source": [
    "### 🌟 2Cycle"
   ]
  },
  {
   "cell_type": "markdown",
   "id": "cbbf2d14-af6e-4ba1-b121-342307c17007",
   "metadata": {},
   "source": [
    "#### 🚩 1Cycle 결과\n",
    "- 회귀 모델(GradientBoostingRegressor)  \n",
    "**MSE: 0.3193, RMSE: 0.5651, MSLE: 0.0022, RMSLE: 0.0471, R2: 0.8351**\n",
    "\n",
    "#### 🚩 2Cycle 결과\n",
    "- 전처리 후 회귀 모델(GradientBoostingRegressor)  \n",
    "**MSE: 0.3282, RMSE: 0.5729, MSLE: 0.0023, RMSLE: 0.0480, R2: 0.8305**\n",
    "\n",
    "#### 💡 분석\n",
    "- 상관관계가 낮은 피처 제거 후 오히려 성능이 저하된 것을 확인함.\n",
    "- 피처 제거하지 않고 진행하고 validation 분리 후 훈련을 다시 진행하고자 함."
   ]
  },
  {
   "cell_type": "markdown",
   "id": "ea4146ba-aae6-4fdf-983e-ae20c179867b",
   "metadata": {},
   "source": [
    "### 🌟 3Cycle"
   ]
  },
  {
   "cell_type": "code",
   "execution_count": 10,
   "id": "062217ef-a704-47f3-8aa6-79aa7e82f4a0",
   "metadata": {},
   "outputs": [],
   "source": [
    "import numpy as np\n",
    "from sklearn.metrics import mean_squared_error, mean_squared_log_error, r2_score\n",
    "\n",
    "def get_evaluation(y_test, prediction):\n",
    "    MSE = mean_squared_error(y_test, prediction)\n",
    "    RMSE = np.sqrt(MSE)\n",
    "    MSLE = mean_squared_log_error(y_test, prediction)\n",
    "    RMSLE = np.sqrt(MSLE)\n",
    "    R2 = r2_score(y_test, prediction)\n",
    "    print('MSE: {:.4f}, RMSE: {:.4f}, MSLE: {:.4f}, RMSLE: {:.4f}, R2: {:.4f}'\\\n",
    "         .format(MSE, RMSE, MSLE, RMSLE, R2))"
   ]
  },
  {
   "cell_type": "code",
   "execution_count": null,
   "id": "23e3feb0-e777-49c9-9608-0a55ffc6dae8",
   "metadata": {},
   "outputs": [],
   "source": [
    "from sklearn.model_selection import GridSearchCV\n",
    "from sklearn.ensemble import GradientBoostingRegressor\n",
    "from sklearn.model_selection import train_test_split\n",
    "\n",
    "# 데이터 세트 분리\n",
    "# 피처, 타겟 데이터 분리\n",
    "features, targets = enc_m_df.iloc[:, :-1], enc_m_df.iloc[:, -1]\n",
    "\n",
    "# 학습/테스트 및 문제/정답 데이터 세트 분리\n",
    "X_train, X_test, y_train, y_test = \\\n",
    "train_test_split(features, targets, test_size=0.2, random_state=124)\n",
    "\n",
    "# 가장 성능으로 높았던 모델 가져오기\n",
    "cv_gb_r = GradientBoostingRegressor(random_state=124)\n",
    "\n",
    "# 파라미터 값 조정\n",
    "parameters = {'max_depth': [3, 4, 5], 'min_samples_split': [50, 60, 70], 'n_estimators': [40, 50, 60]}\n",
    "\n",
    "# 하이퍼 파라미터 조정\n",
    "grid_cv_gb_r = GridSearchCV(cv_gb_r, param_grid=parameters, cv=5, n_jobs=-1)\n",
    "\n",
    "# 훈련\n",
    "grid_cv_gb_r.fit(X_train, y_train)"
   ]
  },
  {
   "cell_type": "code",
   "execution_count": null,
   "id": "27471c56-4a60-45ab-bd8d-1839d28b0115",
   "metadata": {},
   "outputs": [],
   "source": [
    "# 훈련 결과 확인\n",
    "result_df = pd.DataFrame(grid_cv_gb_r.cv_results_)[['params', 'mean_test_score', 'rank_test_score']]\n",
    "display(result_df)"
   ]
  },
  {
   "cell_type": "code",
   "execution_count": null,
   "id": "f7781535-31c1-4afd-a265-2c35f02849e2",
   "metadata": {},
   "outputs": [],
   "source": [
    "# 최적의 모델 담기\n",
    "cv_gb_r = grid_cv_gb_r.best_estimator_\n",
    "\n",
    "# 예측\n",
    "prediction = cv_gb_r.predict(X_test)\n",
    "# 평가\n",
    "get_evaluation(y_test, prediction)"
   ]
  },
  {
   "cell_type": "code",
   "execution_count": 8,
   "id": "09a37632-4b14-4495-a2f5-067c0cdc078b",
   "metadata": {},
   "outputs": [],
   "source": [
    "from sklearn.model_selection import train_test_split\n",
    "from sklearn.ensemble import GradientBoostingRegressor\n",
    "from sklearn.model_selection import GridSearchCV\n",
    "from sklearn.model_selection import KFold\n",
    "\n",
    "# 데이터 세트 분리\n",
    "# 피처, 타겟 데이터 분리\n",
    "features, targets = enc_m_df.iloc[:, :-1], enc_m_df.iloc[:, -1]\n",
    "\n",
    "# 문제/정답 및 학습/훈련 데이터 분리\n",
    "X_train, X_test, y_train, y_test = \\\n",
    "train_test_split(features, targets, test_size=0.2, random_state=124)\n",
    "\n",
    "# 가장 성능이 우수한 모델 담기\n",
    "kf_gb_r = GradientBoostingRegressor(random_state=124)\n",
    "\n",
    "# 파라미터 값 조정\n",
    "parameters = {'max_depth': [3, 4], 'min_samples_split': [50, 60, 70], 'n_estimators': [40, 50, 60]}\n",
    "\n",
    "# 교차검증\n",
    "# n_splits: 데이터를 몇 개의 폴드로 나눌지를 결정 (일반적으로 5 또는 10)\n",
    "# shuffle: 분할 전 데이터 혼합 여부 \n",
    "kfold = KFold(n_splits=10, random_state=124, shuffle=True)\n",
    "\n",
    "# 학습 및 교차 검증 모델 설정\n",
    "grid_kf_gb_r = GridSearchCV(kf_gb_r, param_grid=parameters, cv=kfold, n_jobs=-1)\n",
    "\n",
    "# 훈련\n",
    "grid_kf_gb_r.fit(X_train, y_train)"
   ]
  },
  {
   "cell_type": "code",
   "execution_count": 9,
   "id": "0af39f6c-b5ea-42a8-a483-45b9c43b0aea",
   "metadata": {},
   "outputs": [],
   "source": [
    "# 훈련 결과 확인\n",
    "result_df = pd.DataFrame(grid_kf_gb_r.cv_results_)[['params', 'mean_test_score', 'rank_test_score']]\n",
    "display(result_df)"
   ]
  },
  {
   "cell_type": "code",
   "execution_count": 16,
   "id": "2545ad21-8f9c-4af5-9574-e6860c119c55",
   "metadata": {},
   "outputs": [
    {
     "name": "stdout",
     "output_type": "stream",
     "text": [
      "MSE: 0.3334, RMSE: 0.5774, MSLE: 0.0023, RMSLE: 0.0482, R2: 0.8278\n"
     ]
    }
   ],
   "source": [
    "# 최적의 모델 담기\n",
    "kf_gb_r = grid_kf_gb_r.best_estimator_\n",
    "\n",
    "# 예측\n",
    "prediction = kf_gb_r.predict(X_test)\n",
    "# 평가\n",
    "get_evaluation(y_test, prediction)"
   ]
  },
  {
   "cell_type": "code",
   "execution_count": null,
   "id": "d6863f8d-3cba-44c5-968b-6a223a945b1d",
   "metadata": {},
   "outputs": [],
   "source": []
  }
 ],
 "metadata": {
  "kernelspec": {
   "display_name": "Python 3 (ipykernel)",
   "language": "python",
   "name": "python3"
  },
  "language_info": {
   "codemirror_mode": {
    "name": "ipython",
    "version": 3
   },
   "file_extension": ".py",
   "mimetype": "text/x-python",
   "name": "python",
   "nbconvert_exporter": "python",
   "pygments_lexer": "ipython3",
   "version": "3.11.8"
  }
 },
 "nbformat": 4,
 "nbformat_minor": 5
}
