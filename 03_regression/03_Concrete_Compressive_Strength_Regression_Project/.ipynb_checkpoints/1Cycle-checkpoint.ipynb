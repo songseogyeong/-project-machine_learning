{
 "cells": [
  {
   "cell_type": "markdown",
   "id": "2731bc06-6b97-4912-a723-dc9d382d57f8",
   "metadata": {},
   "source": [
    "# Concrete Compressive Strength Regression Project\n",
    "## 콘크리트 압축 강도 회귀 분석\n",
    "https://www.kaggle.com/datasets/niteshyadav3103/concrete-compressive-strength\n",
    "\n",
    "<br>\n",
    "\n",
    "#### feature (6개)\n",
    "- Cement: 시멘트 양 (kg/m^3)\n",
    "- BlastFurnaceSlag: 고로 슬래그 양 (kg/m^3)\n",
    "- FlyAsh: 플라이 애시(불연재) 양 (kg/m^3)\n",
    "- Water: 물 양 (kg/m^3)\n",
    "- Superplasticizer: 고성능 플라스틱화제 양 (kg/m^3)\n",
    "- CoarseAggregate: 거친 골재 양 (kg/m^3)\n",
    "- FineAggregate: 미분 골재 양 (kg/m^3)\n",
    "- Age: 콘크리트의 나이 (일)\n",
    "\n",
    "\n",
    "<br>\n",
    "\n",
    "#### target\n",
    "- Concretecompressivestrength: 콘크리트의 압축 강도 (MPa)"
   ]
  },
  {
   "cell_type": "code",
   "execution_count": 1,
   "id": "517daba9-9105-44a7-a06f-871852d4b772",
   "metadata": {},
   "outputs": [],
   "source": [
    "import matplotlib.pyplot as plt\n",
    "import numpy as np\n",
    "\n",
    "# 컬러맵 가져오기\n",
    "cmap = plt.get_cmap('Pastel1')\n",
    "\n",
    "# 한글 폰트 경로 설정\n",
    "plt.rcParams['font.family'] ='Malgun Gothic'\n",
    "plt.rcParams['axes.unicode_minus'] =False"
   ]
  },
  {
   "cell_type": "code",
   "execution_count": 2,
   "id": "54602f60-ba68-4fcf-ae51-9c56ada3ef83",
   "metadata": {},
   "outputs": [
    {
     "data": {
      "text/html": [
       "<div>\n",
       "<style scoped>\n",
       "    .dataframe tbody tr th:only-of-type {\n",
       "        vertical-align: middle;\n",
       "    }\n",
       "\n",
       "    .dataframe tbody tr th {\n",
       "        vertical-align: top;\n",
       "    }\n",
       "\n",
       "    .dataframe thead th {\n",
       "        text-align: right;\n",
       "    }\n",
       "</style>\n",
       "<table border=\"1\" class=\"dataframe\">\n",
       "  <thead>\n",
       "    <tr style=\"text-align: right;\">\n",
       "      <th></th>\n",
       "      <th>Cement</th>\n",
       "      <th>Blast Furnace Slag</th>\n",
       "      <th>Fly Ash</th>\n",
       "      <th>Water</th>\n",
       "      <th>Superplasticizer</th>\n",
       "      <th>Coarse Aggregate</th>\n",
       "      <th>Fine Aggregate</th>\n",
       "      <th>Age (day)</th>\n",
       "      <th>Concrete compressive strength</th>\n",
       "    </tr>\n",
       "  </thead>\n",
       "  <tbody>\n",
       "    <tr>\n",
       "      <th>0</th>\n",
       "      <td>540.0</td>\n",
       "      <td>0.0</td>\n",
       "      <td>0.0</td>\n",
       "      <td>162.0</td>\n",
       "      <td>2.5</td>\n",
       "      <td>1040.0</td>\n",
       "      <td>676.0</td>\n",
       "      <td>28</td>\n",
       "      <td>79.986111</td>\n",
       "    </tr>\n",
       "    <tr>\n",
       "      <th>1</th>\n",
       "      <td>540.0</td>\n",
       "      <td>0.0</td>\n",
       "      <td>0.0</td>\n",
       "      <td>162.0</td>\n",
       "      <td>2.5</td>\n",
       "      <td>1055.0</td>\n",
       "      <td>676.0</td>\n",
       "      <td>28</td>\n",
       "      <td>61.887366</td>\n",
       "    </tr>\n",
       "    <tr>\n",
       "      <th>2</th>\n",
       "      <td>332.5</td>\n",
       "      <td>142.5</td>\n",
       "      <td>0.0</td>\n",
       "      <td>228.0</td>\n",
       "      <td>0.0</td>\n",
       "      <td>932.0</td>\n",
       "      <td>594.0</td>\n",
       "      <td>270</td>\n",
       "      <td>40.269535</td>\n",
       "    </tr>\n",
       "    <tr>\n",
       "      <th>3</th>\n",
       "      <td>332.5</td>\n",
       "      <td>142.5</td>\n",
       "      <td>0.0</td>\n",
       "      <td>228.0</td>\n",
       "      <td>0.0</td>\n",
       "      <td>932.0</td>\n",
       "      <td>594.0</td>\n",
       "      <td>365</td>\n",
       "      <td>41.052780</td>\n",
       "    </tr>\n",
       "    <tr>\n",
       "      <th>4</th>\n",
       "      <td>198.6</td>\n",
       "      <td>132.4</td>\n",
       "      <td>0.0</td>\n",
       "      <td>192.0</td>\n",
       "      <td>0.0</td>\n",
       "      <td>978.4</td>\n",
       "      <td>825.5</td>\n",
       "      <td>360</td>\n",
       "      <td>44.296075</td>\n",
       "    </tr>\n",
       "    <tr>\n",
       "      <th>...</th>\n",
       "      <td>...</td>\n",
       "      <td>...</td>\n",
       "      <td>...</td>\n",
       "      <td>...</td>\n",
       "      <td>...</td>\n",
       "      <td>...</td>\n",
       "      <td>...</td>\n",
       "      <td>...</td>\n",
       "      <td>...</td>\n",
       "    </tr>\n",
       "    <tr>\n",
       "      <th>1025</th>\n",
       "      <td>276.4</td>\n",
       "      <td>116.0</td>\n",
       "      <td>90.3</td>\n",
       "      <td>179.6</td>\n",
       "      <td>8.9</td>\n",
       "      <td>870.1</td>\n",
       "      <td>768.3</td>\n",
       "      <td>28</td>\n",
       "      <td>44.284354</td>\n",
       "    </tr>\n",
       "    <tr>\n",
       "      <th>1026</th>\n",
       "      <td>322.2</td>\n",
       "      <td>0.0</td>\n",
       "      <td>115.6</td>\n",
       "      <td>196.0</td>\n",
       "      <td>10.4</td>\n",
       "      <td>817.9</td>\n",
       "      <td>813.4</td>\n",
       "      <td>28</td>\n",
       "      <td>31.178794</td>\n",
       "    </tr>\n",
       "    <tr>\n",
       "      <th>1027</th>\n",
       "      <td>148.5</td>\n",
       "      <td>139.4</td>\n",
       "      <td>108.6</td>\n",
       "      <td>192.7</td>\n",
       "      <td>6.1</td>\n",
       "      <td>892.4</td>\n",
       "      <td>780.0</td>\n",
       "      <td>28</td>\n",
       "      <td>23.696601</td>\n",
       "    </tr>\n",
       "    <tr>\n",
       "      <th>1028</th>\n",
       "      <td>159.1</td>\n",
       "      <td>186.7</td>\n",
       "      <td>0.0</td>\n",
       "      <td>175.6</td>\n",
       "      <td>11.3</td>\n",
       "      <td>989.6</td>\n",
       "      <td>788.9</td>\n",
       "      <td>28</td>\n",
       "      <td>32.768036</td>\n",
       "    </tr>\n",
       "    <tr>\n",
       "      <th>1029</th>\n",
       "      <td>260.9</td>\n",
       "      <td>100.5</td>\n",
       "      <td>78.3</td>\n",
       "      <td>200.6</td>\n",
       "      <td>8.6</td>\n",
       "      <td>864.5</td>\n",
       "      <td>761.5</td>\n",
       "      <td>28</td>\n",
       "      <td>32.401235</td>\n",
       "    </tr>\n",
       "  </tbody>\n",
       "</table>\n",
       "<p>1030 rows × 9 columns</p>\n",
       "</div>"
      ],
      "text/plain": [
       "      Cement  Blast Furnace Slag  Fly Ash  Water  Superplasticizer  \\\n",
       "0      540.0                 0.0      0.0  162.0               2.5   \n",
       "1      540.0                 0.0      0.0  162.0               2.5   \n",
       "2      332.5               142.5      0.0  228.0               0.0   \n",
       "3      332.5               142.5      0.0  228.0               0.0   \n",
       "4      198.6               132.4      0.0  192.0               0.0   \n",
       "...      ...                 ...      ...    ...               ...   \n",
       "1025   276.4               116.0     90.3  179.6               8.9   \n",
       "1026   322.2                 0.0    115.6  196.0              10.4   \n",
       "1027   148.5               139.4    108.6  192.7               6.1   \n",
       "1028   159.1               186.7      0.0  175.6              11.3   \n",
       "1029   260.9               100.5     78.3  200.6               8.6   \n",
       "\n",
       "      Coarse Aggregate  Fine Aggregate  Age (day)  \\\n",
       "0               1040.0           676.0         28   \n",
       "1               1055.0           676.0         28   \n",
       "2                932.0           594.0        270   \n",
       "3                932.0           594.0        365   \n",
       "4                978.4           825.5        360   \n",
       "...                ...             ...        ...   \n",
       "1025             870.1           768.3         28   \n",
       "1026             817.9           813.4         28   \n",
       "1027             892.4           780.0         28   \n",
       "1028             989.6           788.9         28   \n",
       "1029             864.5           761.5         28   \n",
       "\n",
       "      Concrete compressive strength   \n",
       "0                          79.986111  \n",
       "1                          61.887366  \n",
       "2                          40.269535  \n",
       "3                          41.052780  \n",
       "4                          44.296075  \n",
       "...                              ...  \n",
       "1025                       44.284354  \n",
       "1026                       31.178794  \n",
       "1027                       23.696601  \n",
       "1028                       32.768036  \n",
       "1029                       32.401235  \n",
       "\n",
       "[1030 rows x 9 columns]"
      ]
     },
     "execution_count": 2,
     "metadata": {},
     "output_type": "execute_result"
    }
   ],
   "source": [
    "import pandas as pd\n",
    "\n",
    "# 데이터 호출\n",
    "c_df = pd.read_csv('./datasets/ConcreteCompressiveStrength.csv', low_memory=False)\n",
    "c_df"
   ]
  },
  {
   "cell_type": "markdown",
   "id": "0fbca1f5-4494-4564-a096-f5208f79cdfb",
   "metadata": {},
   "source": [
    "## Ⅰ. 데이터 탐색"
   ]
  },
  {
   "cell_type": "markdown",
   "id": "f3fc566d-17a2-4134-b2e6-d439f517e9d6",
   "metadata": {},
   "source": [
    "#### 📊 데이터 탐색"
   ]
  },
  {
   "cell_type": "code",
   "execution_count": 3,
   "id": "87aa2ffb-dd72-46db-9c27-62e38e5bc4d0",
   "metadata": {},
   "outputs": [
    {
     "name": "stdout",
     "output_type": "stream",
     "text": [
      "<class 'pandas.core.frame.DataFrame'>\n",
      "RangeIndex: 1030 entries, 0 to 1029\n",
      "Data columns (total 9 columns):\n",
      " #   Column                          Non-Null Count  Dtype  \n",
      "---  ------                          --------------  -----  \n",
      " 0   Cement                          1030 non-null   float64\n",
      " 1   Blast Furnace Slag              1030 non-null   float64\n",
      " 2   Fly Ash                         1030 non-null   float64\n",
      " 3   Water                           1030 non-null   float64\n",
      " 4   Superplasticizer                1030 non-null   float64\n",
      " 5   Coarse Aggregate                1030 non-null   float64\n",
      " 6   Fine Aggregate                  1030 non-null   float64\n",
      " 7   Age (day)                       1030 non-null   int64  \n",
      " 8   Concrete compressive strength   1030 non-null   float64\n",
      "dtypes: float64(8), int64(1)\n",
      "memory usage: 72.6 KB\n"
     ]
    }
   ],
   "source": [
    "# 데이터 정보 확인\n",
    "c_df.info()"
   ]
  },
  {
   "cell_type": "code",
   "execution_count": 4,
   "id": "0bd2cbec-9161-4a5e-9280-24ba01925e97",
   "metadata": {},
   "outputs": [
    {
     "data": {
      "text/plain": [
       "(1030, 9)"
      ]
     },
     "execution_count": 4,
     "metadata": {},
     "output_type": "execute_result"
    }
   ],
   "source": [
    "# 데이터 크기 확인\n",
    "c_df.shape"
   ]
  },
  {
   "cell_type": "markdown",
   "id": "af87e036-3be9-4806-af40-0cd273aba277",
   "metadata": {},
   "source": [
    "## Ⅱ. 전처리"
   ]
  },
  {
   "cell_type": "markdown",
   "id": "51709f48-d9ae-4eb7-993b-942e9a26b5a4",
   "metadata": {},
   "source": [
    "#### 📊 데이터 전처리"
   ]
  },
  {
   "cell_type": "code",
   "execution_count": 5,
   "id": "ef0ce41d-8432-4724-a419-b7f00a679f8d",
   "metadata": {},
   "outputs": [
    {
     "data": {
      "text/plain": [
       "Cement                            0\n",
       "Blast Furnace Slag                0\n",
       "Fly Ash                           0\n",
       "Water                             0\n",
       "Superplasticizer                  0\n",
       "Coarse Aggregate                  0\n",
       "Fine Aggregate                    0\n",
       "Age (day)                         0\n",
       "Concrete compressive strength     0\n",
       "dtype: int64"
      ]
     },
     "execution_count": 5,
     "metadata": {},
     "output_type": "execute_result"
    }
   ],
   "source": [
    "# 결측치 확인\n",
    "c_df.isna().sum()"
   ]
  },
  {
   "cell_type": "code",
   "execution_count": 6,
   "id": "8b39d2d5-d94c-40d2-aa67-3aeb02545779",
   "metadata": {},
   "outputs": [
    {
     "data": {
      "text/plain": [
       "Cement                            0\n",
       "Blast Furnace Slag                0\n",
       "Fly Ash                           0\n",
       "Water                             0\n",
       "Superplasticizer                  0\n",
       "Coarse Aggregate                  0\n",
       "Fine Aggregate                    0\n",
       "Age (day)                         0\n",
       "Concrete compressive strength     0\n",
       "dtype: int64"
      ]
     },
     "execution_count": 6,
     "metadata": {},
     "output_type": "execute_result"
    }
   ],
   "source": [
    "# null 값 확인\n",
    "c_df.isnull().sum()"
   ]
  },
  {
   "cell_type": "code",
   "execution_count": 7,
   "id": "4e049178-6c99-41b2-a0c9-2076d3d3b23a",
   "metadata": {},
   "outputs": [
    {
     "data": {
      "text/plain": [
       "25"
      ]
     },
     "execution_count": 7,
     "metadata": {},
     "output_type": "execute_result"
    }
   ],
   "source": [
    "# 중복행 확인\n",
    "c_df.duplicated().sum()"
   ]
  },
  {
   "cell_type": "code",
   "execution_count": 8,
   "id": "4b5a968c-4487-42ea-8c01-ffecc3c3ba40",
   "metadata": {},
   "outputs": [
    {
     "data": {
      "text/plain": [
       "0"
      ]
     },
     "execution_count": 8,
     "metadata": {},
     "output_type": "execute_result"
    }
   ],
   "source": [
    "# 중복행 제거 \n",
    "pre_c_df = c_df.drop_duplicates().reset_index(drop=True)\n",
    "# 제거 확인\n",
    "pre_c_df.duplicated().sum()"
   ]
  },
  {
   "cell_type": "code",
   "execution_count": 9,
   "id": "4f0c7e18-2021-4402-997b-24b8e9e57f24",
   "metadata": {},
   "outputs": [],
   "source": [
    "# 컬럼명 변경\n",
    "pre_c_df.columns = ['Cement', 'BlastFurnaceSlag', 'FlyAsh', 'Water', 'Superplasticizer',\n",
    "                    'CoarseAggregate', 'FineAggregate', 'Age', 'Concretecompressivestrength']"
   ]
  },
  {
   "cell_type": "code",
   "execution_count": 10,
   "id": "9c28c8ee-c5e8-4389-b180-14b804fe8b4d",
   "metadata": {},
   "outputs": [
    {
     "data": {
      "image/png": "[encoded data removed]",
      "text/plain": [
       "<Figure size 1200x1000 with 9 Axes>"
      ]
     },
     "metadata": {},
     "output_type": "display_data"
    }
   ],
   "source": [
    "# 컬럼 분포 확인\n",
    "pre_c_df.hist(figsize=(12, 10), color=cmap(np.array([1])), edgecolor='black')\n",
    "plt.tight_layout()\n",
    "plt.show()"
   ]
  },
  {
   "cell_type": "code",
   "execution_count": 11,
   "id": "edf4fbdd-02c3-4324-beea-977efe633b5f",
   "metadata": {},
   "outputs": [
    {
     "data": {
      "text/html": [
       "<div>\n",
       "<style scoped>\n",
       "    .dataframe tbody tr th:only-of-type {\n",
       "        vertical-align: middle;\n",
       "    }\n",
       "\n",
       "    .dataframe tbody tr th {\n",
       "        vertical-align: top;\n",
       "    }\n",
       "\n",
       "    .dataframe thead th {\n",
       "        text-align: right;\n",
       "    }\n",
       "</style>\n",
       "<table border=\"1\" class=\"dataframe\">\n",
       "  <thead>\n",
       "    <tr style=\"text-align: right;\">\n",
       "      <th></th>\n",
       "      <th>Cement</th>\n",
       "      <th>BlastFurnaceSlag</th>\n",
       "      <th>FlyAsh</th>\n",
       "      <th>Water</th>\n",
       "      <th>Superplasticizer</th>\n",
       "      <th>CoarseAggregate</th>\n",
       "      <th>FineAggregate</th>\n",
       "      <th>Age</th>\n",
       "      <th>Concretecompressivestrength</th>\n",
       "    </tr>\n",
       "  </thead>\n",
       "  <tbody>\n",
       "    <tr>\n",
       "      <th>0</th>\n",
       "      <td>540.0</td>\n",
       "      <td>0.0</td>\n",
       "      <td>0.0</td>\n",
       "      <td>162.0</td>\n",
       "      <td>2.5</td>\n",
       "      <td>1055.0</td>\n",
       "      <td>676.0</td>\n",
       "      <td>28</td>\n",
       "      <td>61.887366</td>\n",
       "    </tr>\n",
       "    <tr>\n",
       "      <th>1</th>\n",
       "      <td>332.5</td>\n",
       "      <td>142.5</td>\n",
       "      <td>0.0</td>\n",
       "      <td>228.0</td>\n",
       "      <td>0.0</td>\n",
       "      <td>932.0</td>\n",
       "      <td>594.0</td>\n",
       "      <td>270</td>\n",
       "      <td>40.269535</td>\n",
       "    </tr>\n",
       "    <tr>\n",
       "      <th>2</th>\n",
       "      <td>332.5</td>\n",
       "      <td>142.5</td>\n",
       "      <td>0.0</td>\n",
       "      <td>228.0</td>\n",
       "      <td>0.0</td>\n",
       "      <td>932.0</td>\n",
       "      <td>594.0</td>\n",
       "      <td>365</td>\n",
       "      <td>41.052780</td>\n",
       "    </tr>\n",
       "    <tr>\n",
       "      <th>3</th>\n",
       "      <td>198.6</td>\n",
       "      <td>132.4</td>\n",
       "      <td>0.0</td>\n",
       "      <td>192.0</td>\n",
       "      <td>0.0</td>\n",
       "      <td>978.4</td>\n",
       "      <td>825.5</td>\n",
       "      <td>360</td>\n",
       "      <td>44.296075</td>\n",
       "    </tr>\n",
       "    <tr>\n",
       "      <th>4</th>\n",
       "      <td>266.0</td>\n",
       "      <td>114.0</td>\n",
       "      <td>0.0</td>\n",
       "      <td>228.0</td>\n",
       "      <td>0.0</td>\n",
       "      <td>932.0</td>\n",
       "      <td>670.0</td>\n",
       "      <td>90</td>\n",
       "      <td>47.029847</td>\n",
       "    </tr>\n",
       "    <tr>\n",
       "      <th>...</th>\n",
       "      <td>...</td>\n",
       "      <td>...</td>\n",
       "      <td>...</td>\n",
       "      <td>...</td>\n",
       "      <td>...</td>\n",
       "      <td>...</td>\n",
       "      <td>...</td>\n",
       "      <td>...</td>\n",
       "      <td>...</td>\n",
       "    </tr>\n",
       "    <tr>\n",
       "      <th>959</th>\n",
       "      <td>276.4</td>\n",
       "      <td>116.0</td>\n",
       "      <td>90.3</td>\n",
       "      <td>179.6</td>\n",
       "      <td>8.9</td>\n",
       "      <td>870.1</td>\n",
       "      <td>768.3</td>\n",
       "      <td>28</td>\n",
       "      <td>44.284354</td>\n",
       "    </tr>\n",
       "    <tr>\n",
       "      <th>960</th>\n",
       "      <td>322.2</td>\n",
       "      <td>0.0</td>\n",
       "      <td>115.6</td>\n",
       "      <td>196.0</td>\n",
       "      <td>10.4</td>\n",
       "      <td>817.9</td>\n",
       "      <td>813.4</td>\n",
       "      <td>28</td>\n",
       "      <td>31.178794</td>\n",
       "    </tr>\n",
       "    <tr>\n",
       "      <th>961</th>\n",
       "      <td>148.5</td>\n",
       "      <td>139.4</td>\n",
       "      <td>108.6</td>\n",
       "      <td>192.7</td>\n",
       "      <td>6.1</td>\n",
       "      <td>892.4</td>\n",
       "      <td>780.0</td>\n",
       "      <td>28</td>\n",
       "      <td>23.696601</td>\n",
       "    </tr>\n",
       "    <tr>\n",
       "      <th>962</th>\n",
       "      <td>159.1</td>\n",
       "      <td>186.7</td>\n",
       "      <td>0.0</td>\n",
       "      <td>175.6</td>\n",
       "      <td>11.3</td>\n",
       "      <td>989.6</td>\n",
       "      <td>788.9</td>\n",
       "      <td>28</td>\n",
       "      <td>32.768036</td>\n",
       "    </tr>\n",
       "    <tr>\n",
       "      <th>963</th>\n",
       "      <td>260.9</td>\n",
       "      <td>100.5</td>\n",
       "      <td>78.3</td>\n",
       "      <td>200.6</td>\n",
       "      <td>8.6</td>\n",
       "      <td>864.5</td>\n",
       "      <td>761.5</td>\n",
       "      <td>28</td>\n",
       "      <td>32.401235</td>\n",
       "    </tr>\n",
       "  </tbody>\n",
       "</table>\n",
       "<p>964 rows × 9 columns</p>\n",
       "</div>"
      ],
      "text/plain": [
       "     Cement  BlastFurnaceSlag  FlyAsh  Water  Superplasticizer  \\\n",
       "0     540.0               0.0     0.0  162.0               2.5   \n",
       "1     332.5             142.5     0.0  228.0               0.0   \n",
       "2     332.5             142.5     0.0  228.0               0.0   \n",
       "3     198.6             132.4     0.0  192.0               0.0   \n",
       "4     266.0             114.0     0.0  228.0               0.0   \n",
       "..      ...               ...     ...    ...               ...   \n",
       "959   276.4             116.0    90.3  179.6               8.9   \n",
       "960   322.2               0.0   115.6  196.0              10.4   \n",
       "961   148.5             139.4   108.6  192.7               6.1   \n",
       "962   159.1             186.7     0.0  175.6              11.3   \n",
       "963   260.9             100.5    78.3  200.6               8.6   \n",
       "\n",
       "     CoarseAggregate  FineAggregate  Age  Concretecompressivestrength  \n",
       "0             1055.0          676.0   28                    61.887366  \n",
       "1              932.0          594.0  270                    40.269535  \n",
       "2              932.0          594.0  365                    41.052780  \n",
       "3              978.4          825.5  360                    44.296075  \n",
       "4              932.0          670.0   90                    47.029847  \n",
       "..               ...            ...  ...                          ...  \n",
       "959            870.1          768.3   28                    44.284354  \n",
       "960            817.9          813.4   28                    31.178794  \n",
       "961            892.4          780.0   28                    23.696601  \n",
       "962            989.6          788.9   28                    32.768036  \n",
       "963            864.5          761.5   28                    32.401235  \n",
       "\n",
       "[964 rows x 9 columns]"
      ]
     },
     "execution_count": 11,
     "metadata": {},
     "output_type": "execute_result"
    }
   ],
   "source": [
    "# 타겟 데이터 이상치 제거\n",
    "from sklearn.preprocessing import StandardScaler\n",
    "\n",
    "# 표준화 객체 생성\n",
    "std = StandardScaler()\n",
    "# 데이터 표준화 변환\n",
    "result = std.fit_transform(pre_c_df[['Concretecompressivestrength']])\n",
    "# 표준화 데이터 프레임 생성\n",
    "std_c_df = pd.DataFrame(result, columns=['Concretecompressivestrength'])\n",
    "\n",
    "# 타겟 데이터 이상치 제거\n",
    "std_c_df = std_c_df[std_c_df.Concretecompressivestrength.between(-1.96, 1.96)]\n",
    "\n",
    "# 이상치 제거후 유지되는 인덱스를 대조하여 원본 데이터 이상치 제거\n",
    "pre_c_df = pre_c_df.iloc[std_c_df.index].reset_index(drop=True)\n",
    "pre_c_df"
   ]
  },
  {
   "cell_type": "code",
   "execution_count": 12,
   "id": "5d430a60-45cb-484d-a14a-229190f1de75",
   "metadata": {},
   "outputs": [
    {
     "data": {
      "image/png": "[encoded data removed]",
      "text/plain": [
       "<Figure size 640x480 with 1 Axes>"
      ]
     },
     "metadata": {},
     "output_type": "display_data"
    }
   ],
   "source": [
    "# 타겟 컬럼 분포 확인\n",
    "pre_c_df.Concretecompressivestrength.hist(color=cmap(np.array([1])), edgecolor='black')\n",
    "plt.tight_layout()\n",
    "plt.show()"
   ]
  },
  {
   "cell_type": "markdown",
   "id": "fb51994e-6f9e-419f-91f9-04e77ece2a61",
   "metadata": {},
   "source": [
    "## Ⅲ. 분석"
   ]
  },
  {
   "cell_type": "markdown",
   "id": "6e6d5861-1a89-4a52-b130-7823dc123a88",
   "metadata": {},
   "source": [
    "### 🌟 1Cycle"
   ]
  },
  {
   "cell_type": "code",
   "execution_count": 13,
   "id": "e6c7503f-b18b-495d-badd-e9c42cb28e24",
   "metadata": {},
   "outputs": [],
   "source": [
    "import numpy as np\n",
    "from sklearn.metrics import mean_squared_error, mean_squared_log_error, r2_score\n",
    "\n",
    "def get_evaluation(y_test, prediction):\n",
    "    MSE = mean_squared_error(y_test, prediction)\n",
    "    RMSE = np.sqrt(MSE)\n",
    "    MSLE = mean_squared_log_error(y_test, prediction)\n",
    "    RMSLE = np.sqrt(MSLE)\n",
    "    R2 = r2_score(y_test, prediction)\n",
    "    print('MSE: {:.4f}, RMSE: {:.4f}, MSLE: {:.4f}, RMSLE: {:.4f}, R2: {:.4f}'\\\n",
    "         .format(MSE, RMSE, MSLE, RMSLE, R2))"
   ]
  },
  {
   "cell_type": "markdown",
   "id": "8bf310c2-3b97-4798-887a-6025b86228cd",
   "metadata": {},
   "source": [
    "#### 📊 선형 회귀 (sklearn)"
   ]
  },
  {
   "cell_type": "code",
   "execution_count": 14,
   "id": "07b9bb60-12d9-443d-8946-796cbbbf5085",
   "metadata": {},
   "outputs": [
    {
     "data": {
      "text/html": [
       "<style>#sk-container-id-1 {color: black;background-color: white;}#sk-container-id-1 pre{padding: 0;}#sk-container-id-1 div.sk-toggleable {background-color: white;}#sk-container-id-1 label.sk-toggleable__label {cursor: pointer;display: block;width: 100%;margin-bottom: 0;padding: 0.3em;box-sizing: border-box;text-align: center;}#sk-container-id-1 label.sk-toggleable__label-arrow:before {content: \"▸\";float: left;margin-right: 0.25em;color: #696969;}#sk-container-id-1 label.sk-toggleable__label-arrow:hover:before {color: black;}#sk-container-id-1 div.sk-estimator:hover label.sk-toggleable__label-arrow:before {color: black;}#sk-container-id-1 div.sk-toggleable__content {max-height: 0;max-width: 0;overflow: hidden;text-align: left;background-color: #f0f8ff;}#sk-container-id-1 div.sk-toggleable__content pre {margin: 0.2em;color: black;border-radius: 0.25em;background-color: #f0f8ff;}#sk-container-id-1 input.sk-toggleable__control:checked~div.sk-toggleable__content {max-height: 200px;max-width: 100%;overflow: auto;}#sk-container-id-1 input.sk-toggleable__control:checked~label.sk-toggleable__label-arrow:before {content: \"▾\";}#sk-container-id-1 div.sk-estimator input.sk-toggleable__control:checked~label.sk-toggleable__label {background-color: #d4ebff;}#sk-container-id-1 div.sk-label input.sk-toggleable__control:checked~label.sk-toggleable__label {background-color: #d4ebff;}#sk-container-id-1 input.sk-hidden--visually {border: 0;clip: rect(1px 1px 1px 1px);clip: rect(1px, 1px, 1px, 1px);height: 1px;margin: -1px;overflow: hidden;padding: 0;position: absolute;width: 1px;}#sk-container-id-1 div.sk-estimator {font-family: monospace;background-color: #f0f8ff;border: 1px dotted black;border-radius: 0.25em;box-sizing: border-box;margin-bottom: 0.5em;}#sk-container-id-1 div.sk-estimator:hover {background-color: #d4ebff;}#sk-container-id-1 div.sk-parallel-item::after {content: \"\";width: 100%;border-bottom: 1px solid gray;flex-grow: 1;}#sk-container-id-1 div.sk-label:hover label.sk-toggleable__label {background-color: #d4ebff;}#sk-container-id-1 div.sk-serial::before {content: \"\";position: absolute;border-left: 1px solid gray;box-sizing: border-box;top: 0;bottom: 0;left: 50%;z-index: 0;}#sk-container-id-1 div.sk-serial {display: flex;flex-direction: column;align-items: center;background-color: white;padding-right: 0.2em;padding-left: 0.2em;position: relative;}#sk-container-id-1 div.sk-item {position: relative;z-index: 1;}#sk-container-id-1 div.sk-parallel {display: flex;align-items: stretch;justify-content: center;background-color: white;position: relative;}#sk-container-id-1 div.sk-item::before, #sk-container-id-1 div.sk-parallel-item::before {content: \"\";position: absolute;border-left: 1px solid gray;box-sizing: border-box;top: 0;bottom: 0;left: 50%;z-index: -1;}#sk-container-id-1 div.sk-parallel-item {display: flex;flex-direction: column;z-index: 1;position: relative;background-color: white;}#sk-container-id-1 div.sk-parallel-item:first-child::after {align-self: flex-end;width: 50%;}#sk-container-id-1 div.sk-parallel-item:last-child::after {align-self: flex-start;width: 50%;}#sk-container-id-1 div.sk-parallel-item:only-child::after {width: 0;}#sk-container-id-1 div.sk-dashed-wrapped {border: 1px dashed gray;margin: 0 0.4em 0.5em 0.4em;box-sizing: border-box;padding-bottom: 0.4em;background-color: white;}#sk-container-id-1 div.sk-label label {font-family: monospace;font-weight: bold;display: inline-block;line-height: 1.2em;}#sk-container-id-1 div.sk-label-container {text-align: center;}#sk-container-id-1 div.sk-container {/* jupyter's `normalize.less` sets `[hidden] { display: none; }` but bootstrap.min.css set `[hidden] { display: none !important; }` so we also need the `!important` here to be able to override the default hidden behavior on the sphinx rendered scikit-learn.org. See: https://github.com/scikit-learn/scikit-learn/issues/21755 */display: inline-block !important;position: relative;}#sk-container-id-1 div.sk-text-repr-fallback {display: none;}</style><div id=\"sk-container-id-1\" class=\"sk-top-container\"><div class=\"sk-text-repr-fallback\"><pre>LinearRegression()</pre><b>In a Jupyter environment, please rerun this cell to show the HTML representation or trust the notebook. <br />On GitHub, the HTML representation is unable to render, please try loading this page with nbviewer.org.</b></div><div class=\"sk-container\" hidden><div class=\"sk-item\"><div class=\"sk-estimator sk-toggleable\"><input class=\"sk-toggleable__control sk-hidden--visually\" id=\"sk-estimator-id-1\" type=\"checkbox\" checked><label for=\"sk-estimator-id-1\" class=\"sk-toggleable__label sk-toggleable__label-arrow\">LinearRegression</label><div class=\"sk-toggleable__content\"><pre>LinearRegression()</pre></div></div></div></div></div>"
      ],
      "text/plain": [
       "LinearRegression()"
      ]
     },
     "execution_count": 14,
     "metadata": {},
     "output_type": "execute_result"
    }
   ],
   "source": [
    "import numpy as np\n",
    "from sklearn.linear_model import LinearRegression\n",
    "from sklearn.model_selection import train_test_split\n",
    "\n",
    "# 데이터 세트 분리\n",
    "# 피처, 타겟 데이터 분리\n",
    "features, targets = pre_c_df.iloc[:, :-1], pre_c_df.iloc[:, -1]\n",
    "\n",
    "# 학습/테스트 및 문제/정답 데이터 세트 분리\n",
    "X_train, X_test, y_train, y_test = \\\n",
    "train_test_split(features, targets, test_size=0.2, random_state=124)\n",
    "\n",
    "# 선형 회귀 모델\n",
    "l_r = LinearRegression()\n",
    "# 훈련\n",
    "l_r.fit(X_train, y_train)"
   ]
  },
  {
   "cell_type": "code",
   "execution_count": 15,
   "id": "7567d215-012b-4e64-9663-3d322909bd51",
   "metadata": {},
   "outputs": [
    {
     "name": "stdout",
     "output_type": "stream",
     "text": [
      "MSE: 95.7657, RMSE: 9.7860, MSLE: 0.1077, RMSLE: 0.3282, R2: 0.4975\n"
     ]
    }
   ],
   "source": [
    "# 예측\n",
    "prediction = l_r.predict(X_test)\n",
    "# 평가\n",
    "get_evaluation(y_test, prediction)"
   ]
  },
  {
   "cell_type": "markdown",
   "id": "0a99b84c-8e46-43b4-989a-8edd374672d0",
   "metadata": {},
   "source": [
    "#### 📊 다중 회귀"
   ]
  },
  {
   "cell_type": "code",
   "execution_count": 16,
   "id": "363278d5-177d-4088-8750-64ca03975d7f",
   "metadata": {},
   "outputs": [
    {
     "data": {
      "text/html": [
       "<style>#sk-container-id-2 {color: black;background-color: white;}#sk-container-id-2 pre{padding: 0;}#sk-container-id-2 div.sk-toggleable {background-color: white;}#sk-container-id-2 label.sk-toggleable__label {cursor: pointer;display: block;width: 100%;margin-bottom: 0;padding: 0.3em;box-sizing: border-box;text-align: center;}#sk-container-id-2 label.sk-toggleable__label-arrow:before {content: \"▸\";float: left;margin-right: 0.25em;color: #696969;}#sk-container-id-2 label.sk-toggleable__label-arrow:hover:before {color: black;}#sk-container-id-2 div.sk-estimator:hover label.sk-toggleable__label-arrow:before {color: black;}#sk-container-id-2 div.sk-toggleable__content {max-height: 0;max-width: 0;overflow: hidden;text-align: left;background-color: #f0f8ff;}#sk-container-id-2 div.sk-toggleable__content pre {margin: 0.2em;color: black;border-radius: 0.25em;background-color: #f0f8ff;}#sk-container-id-2 input.sk-toggleable__control:checked~div.sk-toggleable__content {max-height: 200px;max-width: 100%;overflow: auto;}#sk-container-id-2 input.sk-toggleable__control:checked~label.sk-toggleable__label-arrow:before {content: \"▾\";}#sk-container-id-2 div.sk-estimator input.sk-toggleable__control:checked~label.sk-toggleable__label {background-color: #d4ebff;}#sk-container-id-2 div.sk-label input.sk-toggleable__control:checked~label.sk-toggleable__label {background-color: #d4ebff;}#sk-container-id-2 input.sk-hidden--visually {border: 0;clip: rect(1px 1px 1px 1px);clip: rect(1px, 1px, 1px, 1px);height: 1px;margin: -1px;overflow: hidden;padding: 0;position: absolute;width: 1px;}#sk-container-id-2 div.sk-estimator {font-family: monospace;background-color: #f0f8ff;border: 1px dotted black;border-radius: 0.25em;box-sizing: border-box;margin-bottom: 0.5em;}#sk-container-id-2 div.sk-estimator:hover {background-color: #d4ebff;}#sk-container-id-2 div.sk-parallel-item::after {content: \"\";width: 100%;border-bottom: 1px solid gray;flex-grow: 1;}#sk-container-id-2 div.sk-label:hover label.sk-toggleable__label {background-color: #d4ebff;}#sk-container-id-2 div.sk-serial::before {content: \"\";position: absolute;border-left: 1px solid gray;box-sizing: border-box;top: 0;bottom: 0;left: 50%;z-index: 0;}#sk-container-id-2 div.sk-serial {display: flex;flex-direction: column;align-items: center;background-color: white;padding-right: 0.2em;padding-left: 0.2em;position: relative;}#sk-container-id-2 div.sk-item {position: relative;z-index: 1;}#sk-container-id-2 div.sk-parallel {display: flex;align-items: stretch;justify-content: center;background-color: white;position: relative;}#sk-container-id-2 div.sk-item::before, #sk-container-id-2 div.sk-parallel-item::before {content: \"\";position: absolute;border-left: 1px solid gray;box-sizing: border-box;top: 0;bottom: 0;left: 50%;z-index: -1;}#sk-container-id-2 div.sk-parallel-item {display: flex;flex-direction: column;z-index: 1;position: relative;background-color: white;}#sk-container-id-2 div.sk-parallel-item:first-child::after {align-self: flex-end;width: 50%;}#sk-container-id-2 div.sk-parallel-item:last-child::after {align-self: flex-start;width: 50%;}#sk-container-id-2 div.sk-parallel-item:only-child::after {width: 0;}#sk-container-id-2 div.sk-dashed-wrapped {border: 1px dashed gray;margin: 0 0.4em 0.5em 0.4em;box-sizing: border-box;padding-bottom: 0.4em;background-color: white;}#sk-container-id-2 div.sk-label label {font-family: monospace;font-weight: bold;display: inline-block;line-height: 1.2em;}#sk-container-id-2 div.sk-label-container {text-align: center;}#sk-container-id-2 div.sk-container {/* jupyter's `normalize.less` sets `[hidden] { display: none; }` but bootstrap.min.css set `[hidden] { display: none !important; }` so we also need the `!important` here to be able to override the default hidden behavior on the sphinx rendered scikit-learn.org. See: https://github.com/scikit-learn/scikit-learn/issues/21755 */display: inline-block !important;position: relative;}#sk-container-id-2 div.sk-text-repr-fallback {display: none;}</style><div id=\"sk-container-id-2\" class=\"sk-top-container\"><div class=\"sk-text-repr-fallback\"><pre>LinearRegression()</pre><b>In a Jupyter environment, please rerun this cell to show the HTML representation or trust the notebook. <br />On GitHub, the HTML representation is unable to render, please try loading this page with nbviewer.org.</b></div><div class=\"sk-container\" hidden><div class=\"sk-item\"><div class=\"sk-estimator sk-toggleable\"><input class=\"sk-toggleable__control sk-hidden--visually\" id=\"sk-estimator-id-2\" type=\"checkbox\" checked><label for=\"sk-estimator-id-2\" class=\"sk-toggleable__label sk-toggleable__label-arrow\">LinearRegression</label><div class=\"sk-toggleable__content\"><pre>LinearRegression()</pre></div></div></div></div></div>"
      ],
      "text/plain": [
       "LinearRegression()"
      ]
     },
     "execution_count": 16,
     "metadata": {},
     "output_type": "execute_result"
    }
   ],
   "source": [
    "import numpy as np\n",
    "from sklearn.linear_model import LinearRegression\n",
    "from sklearn.model_selection import train_test_split\n",
    "from sklearn.preprocessing import PolynomialFeatures\n",
    "\n",
    "# 데이터 세트 분리\n",
    "# 피처, 타겟 데이터 분리\n",
    "features, targets = pre_c_df.iloc[:, :-1], pre_c_df.iloc[:, -1]\n",
    "\n",
    "# 차수 확장\n",
    "poly_features = PolynomialFeatures(degree=3).fit_transform(features)\n",
    "\n",
    "# 학습/테스트 및 문제/정답 데이터 세트 분리\n",
    "X_train, X_test, y_train, y_test = \\\n",
    "train_test_split(poly_features, targets, test_size=0.2, random_state=124)\n",
    "\n",
    "# 선형 회귀 모델\n",
    "l_r = LinearRegression()\n",
    "# 훈련\n",
    "l_r.fit(X_train, y_train)"
   ]
  },
  {
   "cell_type": "code",
   "execution_count": 17,
   "id": "e15dcf95-3a13-43da-8514-081ae1000023",
   "metadata": {},
   "outputs": [
    {
     "name": "stdout",
     "output_type": "stream",
     "text": [
      "MSE: 39.6896, RMSE: 6.3000, MSLE: 0.0451, RMSLE: 0.2123, R2: 0.7917\n"
     ]
    }
   ],
   "source": [
    "# 예측\n",
    "prediction = l_r.predict(X_test)\n",
    "# 평가\n",
    "get_evaluation(y_test, prediction)"
   ]
  },
  {
   "cell_type": "markdown",
   "id": "1c8481f5-ead0-4b1f-aa9f-0770340dedfd",
   "metadata": {},
   "source": [
    "####  📊 회귀 모델"
   ]
  },
  {
   "cell_type": "code",
   "execution_count": 18,
   "id": "825bdd53-c7bf-4af3-a9e0-3969d2733bd4",
   "metadata": {},
   "outputs": [
    {
     "name": "stdout",
     "output_type": "stream",
     "text": [
      "DecisionTreeRegressor\n",
      "MSE: 37.8513, RMSE: 6.1523, MSLE: 0.0409, RMSLE: 0.2023, R2: 0.8014\n",
      "RandomForestRegressor\n",
      "MSE: 22.4852, RMSE: 4.7419, MSLE: 0.0319, RMSLE: 0.1787, R2: 0.8820\n",
      "GradientBoostingRegressor\n",
      "MSE: 25.9433, RMSE: 5.0935, MSLE: 0.0337, RMSLE: 0.1837, R2: 0.8639\n",
      "XGBRegressor\n",
      "MSE: 22.7336, RMSE: 4.7680, MSLE: 0.0295, RMSLE: 0.1717, R2: 0.8807\n",
      "[LightGBM] [Info] Auto-choosing col-wise multi-threading, the overhead of testing was 0.001194 seconds.\n",
      "You can set `force_col_wise=true` to remove the overhead.\n",
      "[LightGBM] [Info] Total Bins 968\n",
      "[LightGBM] [Info] Number of data points in the train set: 771, number of used features: 8\n",
      "[LightGBM] [Info] Start training from score 34.036860\n",
      "[LightGBM] [Warning] No further splits with positive gain, best gain: -inf\n",
      "[LightGBM] [Warning] No further splits with positive gain, best gain: -inf\n",
      "[LightGBM] [Warning] No further splits with positive gain, best gain: -inf\n",
      "[LightGBM] [Warning] No further splits with positive gain, best gain: -inf\n",
      "[LightGBM] [Warning] No further splits with positive gain, best gain: -inf\n",
      "[LightGBM] [Warning] No further splits with positive gain, best gain: -inf\n",
      "[LightGBM] [Warning] No further splits with positive gain, best gain: -inf\n",
      "[LightGBM] [Warning] No further splits with positive gain, best gain: -inf\n",
      "[LightGBM] [Warning] No further splits with positive gain, best gain: -inf\n",
      "[LightGBM] [Warning] No further splits with positive gain, best gain: -inf\n",
      "[LightGBM] [Warning] No further splits with positive gain, best gain: -inf\n",
      "[LightGBM] [Warning] No further splits with positive gain, best gain: -inf\n",
      "[LightGBM] [Warning] No further splits with positive gain, best gain: -inf\n",
      "[LightGBM] [Warning] No further splits with positive gain, best gain: -inf\n",
      "[LightGBM] [Warning] No further splits with positive gain, best gain: -inf\n",
      "[LightGBM] [Warning] No further splits with positive gain, best gain: -inf\n",
      "[LightGBM] [Warning] No further splits with positive gain, best gain: -inf\n",
      "[LightGBM] [Warning] No further splits with positive gain, best gain: -inf\n",
      "[LightGBM] [Warning] No further splits with positive gain, best gain: -inf\n",
      "[LightGBM] [Warning] No further splits with positive gain, best gain: -inf\n",
      "[LightGBM] [Warning] No further splits with positive gain, best gain: -inf\n",
      "[LightGBM] [Warning] No further splits with positive gain, best gain: -inf\n",
      "[LightGBM] [Warning] No further splits with positive gain, best gain: -inf\n",
      "[LightGBM] [Warning] No further splits with positive gain, best gain: -inf\n",
      "[LightGBM] [Warning] No further splits with positive gain, best gain: -inf\n",
      "[LightGBM] [Warning] No further splits with positive gain, best gain: -inf\n",
      "[LightGBM] [Warning] No further splits with positive gain, best gain: -inf\n",
      "[LightGBM] [Warning] No further splits with positive gain, best gain: -inf\n",
      "[LightGBM] [Warning] No further splits with positive gain, best gain: -inf\n",
      "[LightGBM] [Warning] No further splits with positive gain, best gain: -inf\n",
      "[LightGBM] [Warning] No further splits with positive gain, best gain: -inf\n",
      "[LightGBM] [Warning] No further splits with positive gain, best gain: -inf\n",
      "[LightGBM] [Warning] No further splits with positive gain, best gain: -inf\n",
      "[LightGBM] [Warning] No further splits with positive gain, best gain: -inf\n",
      "[LightGBM] [Warning] No further splits with positive gain, best gain: -inf\n",
      "[LightGBM] [Warning] No further splits with positive gain, best gain: -inf\n",
      "[LightGBM] [Warning] No further splits with positive gain, best gain: -inf\n",
      "[LightGBM] [Warning] No further splits with positive gain, best gain: -inf\n",
      "[LightGBM] [Warning] No further splits with positive gain, best gain: -inf\n",
      "[LightGBM] [Warning] No further splits with positive gain, best gain: -inf\n",
      "[LightGBM] [Warning] No further splits with positive gain, best gain: -inf\n",
      "[LightGBM] [Warning] No further splits with positive gain, best gain: -inf\n",
      "[LightGBM] [Warning] No further splits with positive gain, best gain: -inf\n",
      "[LightGBM] [Warning] No further splits with positive gain, best gain: -inf\n",
      "[LightGBM] [Warning] No further splits with positive gain, best gain: -inf\n",
      "[LightGBM] [Warning] No further splits with positive gain, best gain: -inf\n",
      "[LightGBM] [Warning] No further splits with positive gain, best gain: -inf\n",
      "[LightGBM] [Warning] No further splits with positive gain, best gain: -inf\n",
      "[LightGBM] [Warning] No further splits with positive gain, best gain: -inf\n",
      "[LightGBM] [Warning] No further splits with positive gain, best gain: -inf\n",
      "[LightGBM] [Warning] No further splits with positive gain, best gain: -inf\n",
      "[LightGBM] [Warning] No further splits with positive gain, best gain: -inf\n",
      "[LightGBM] [Warning] No further splits with positive gain, best gain: -inf\n",
      "[LightGBM] [Warning] No further splits with positive gain, best gain: -inf\n",
      "[LightGBM] [Warning] No further splits with positive gain, best gain: -inf\n",
      "[LightGBM] [Warning] No further splits with positive gain, best gain: -inf\n",
      "[LightGBM] [Warning] No further splits with positive gain, best gain: -inf\n",
      "[LightGBM] [Warning] No further splits with positive gain, best gain: -inf\n",
      "[LightGBM] [Warning] No further splits with positive gain, best gain: -inf\n",
      "[LightGBM] [Warning] No further splits with positive gain, best gain: -inf\n",
      "[LightGBM] [Warning] No further splits with positive gain, best gain: -inf\n",
      "[LightGBM] [Warning] No further splits with positive gain, best gain: -inf\n",
      "[LightGBM] [Warning] No further splits with positive gain, best gain: -inf\n",
      "[LightGBM] [Warning] No further splits with positive gain, best gain: -inf\n",
      "[LightGBM] [Warning] No further splits with positive gain, best gain: -inf\n",
      "[LightGBM] [Warning] No further splits with positive gain, best gain: -inf\n",
      "[LightGBM] [Warning] No further splits with positive gain, best gain: -inf\n",
      "[LightGBM] [Warning] No further splits with positive gain, best gain: -inf\n",
      "[LightGBM] [Warning] No further splits with positive gain, best gain: -inf\n",
      "[LightGBM] [Warning] No further splits with positive gain, best gain: -inf\n",
      "[LightGBM] [Warning] No further splits with positive gain, best gain: -inf\n",
      "[LightGBM] [Warning] No further splits with positive gain, best gain: -inf\n",
      "[LightGBM] [Warning] No further splits with positive gain, best gain: -inf\n",
      "[LightGBM] [Warning] No further splits with positive gain, best gain: -inf\n",
      "[LightGBM] [Warning] No further splits with positive gain, best gain: -inf\n",
      "LGBMRegressor\n",
      "MSE: 20.8537, RMSE: 4.5666, MSLE: 0.0284, RMSLE: 0.1686, R2: 0.8906\n"
     ]
    }
   ],
   "source": [
    "from sklearn.tree import DecisionTreeRegressor\n",
    "from sklearn.ensemble import RandomForestRegressor\n",
    "from sklearn.ensemble import GradientBoostingRegressor\n",
    "from xgboost import XGBRegressor\n",
    "from lightgbm import LGBMRegressor\n",
    "from sklearn.model_selection import train_test_split\n",
    "\n",
    "# 데이터 세트 분리\n",
    "# 피처, 타겟 데이터 분리\n",
    "features, targets = pre_c_df.iloc[:, :-1], pre_c_df.iloc[:, -1]\n",
    "\n",
    "# 학습/테스트 및 문제/정답 데이터 세트 분리\n",
    "X_train, X_test, y_train, y_test = \\\n",
    "train_test_split(features, targets, test_size=0.2, random_state=124)\n",
    "\n",
    "# 회귀 모델 담기\n",
    "dt_r = DecisionTreeRegressor(random_state=124)\n",
    "rf_r = RandomForestRegressor(random_state=124, n_estimators=1000)\n",
    "gb_r = GradientBoostingRegressor(random_state=124)\n",
    "xgb_r = XGBRegressor(random_state=124)\n",
    "lgb_r = LGBMRegressor(random_state=124)\n",
    "\n",
    "models = [dt_r, rf_r, gb_r, xgb_r, lgb_r]\n",
    "\n",
    "# 모델 별 학습 진행:\n",
    "for model in models:\n",
    "    # 모델 학습\n",
    "    model.fit(X_train, y_train)\n",
    "    # 예측\n",
    "    prediction = model.predict(X_test)\n",
    "    # 모델명 출력 (모델명과 평가 결과가 같이 출력되도록)\n",
    "    print(model.__class__.__name__)\n",
    "    # 평가\n",
    "    get_evaluation(y_test, prediction)"
   ]
  },
  {
   "cell_type": "markdown",
   "id": "5128898d-9d0e-4a7f-aad2-ebae676c006b",
   "metadata": {},
   "source": [
    "#### 📊 시각화"
   ]
  },
  {
   "cell_type": "code",
   "execution_count": 19,
   "id": "663f812a-3033-46b6-b0be-75148906c043",
   "metadata": {},
   "outputs": [],
   "source": [
    "cycle1_data = {\n",
    "    'model': ['회귀', '다중회귀', '회귀모델(lgbm_r)'],\n",
    "    'R2': [0.4975, 0.7917, 0.8906],\n",
    "}\n",
    "\n",
    "cycle1 = pd.DataFrame(cycle1_data)"
   ]
  },
  {
   "cell_type": "code",
   "execution_count": 20,
   "id": "7592f745-1de4-4b88-9371-5c82c200fda9",
   "metadata": {},
   "outputs": [
    {
     "data": {
      "image/png": "[encoded data removed]",
      "text/plain": [
       "<Figure size 1200x600 with 1 Axes>"
      ]
     },
     "metadata": {},
     "output_type": "display_data"
    },
    {
     "data": {
      "text/html": [
       "<div>\n",
       "<style scoped>\n",
       "    .dataframe tbody tr th:only-of-type {\n",
       "        vertical-align: middle;\n",
       "    }\n",
       "\n",
       "    .dataframe tbody tr th {\n",
       "        vertical-align: top;\n",
       "    }\n",
       "\n",
       "    .dataframe thead th {\n",
       "        text-align: right;\n",
       "    }\n",
       "</style>\n",
       "<table border=\"1\" class=\"dataframe\">\n",
       "  <thead>\n",
       "    <tr style=\"text-align: right;\">\n",
       "      <th></th>\n",
       "      <th>model</th>\n",
       "      <th>R2</th>\n",
       "    </tr>\n",
       "  </thead>\n",
       "  <tbody>\n",
       "    <tr>\n",
       "      <th>0</th>\n",
       "      <td>회귀</td>\n",
       "      <td>0.4975</td>\n",
       "    </tr>\n",
       "    <tr>\n",
       "      <th>1</th>\n",
       "      <td>다중회귀</td>\n",
       "      <td>0.7917</td>\n",
       "    </tr>\n",
       "    <tr>\n",
       "      <th>2</th>\n",
       "      <td>회귀모델(lgbm_r)</td>\n",
       "      <td>0.8906</td>\n",
       "    </tr>\n",
       "  </tbody>\n",
       "</table>\n",
       "</div>"
      ],
      "text/plain": [
       "          model      R2\n",
       "0            회귀  0.4975\n",
       "1          다중회귀  0.7917\n",
       "2  회귀모델(lgbm_r)  0.8906"
      ]
     },
     "metadata": {},
     "output_type": "display_data"
    }
   ],
   "source": [
    "import matplotlib.pyplot as plt\n",
    "import numpy as np\n",
    "\n",
    "# 그래프 그리기\n",
    "plt.figure(figsize=(12, 6))\n",
    "\n",
    "# 컬러맵 가져오기\n",
    "cmap = plt.get_cmap('Pastel1')\n",
    "\n",
    "plt.bar(cycle1['model'], cycle1['R2'], color=cmap(np.array([0, 1, 2])), edgecolor='black', width=0.4)\n",
    "plt.title('1Cycle 성능 비교')\n",
    "plt.xlabel('Model')\n",
    "plt.ylabel('R2 Score')\n",
    "plt.grid(True)\n",
    "\n",
    "# # y축의 범위 지정\n",
    "# plt.ylim(0.45, 0.95)\n",
    "\n",
    "plt.tight_layout()\n",
    "plt.show()\n",
    "\n",
    "display(cycle1)"
   ]
  },
  {
   "cell_type": "markdown",
   "id": "34eea708-ec55-4e2a-8bc1-4a5db1256409",
   "metadata": {},
   "source": [
    "#### 🚩 1Cycle 결과\n",
    "- 선형 회귀  \n",
    "**MSE: 95.7657, RMSE: 9.7860, MSLE: 0.1077, RMSLE: 0.3282, R2: 0.4975**\n",
    "\n",
    "- 다중 회귀  \n",
    "**MSE: 39.6896, RMSE: 6.3000, MSLE: 0.0451, RMSLE: 0.2123, R2: 0.7917**\n",
    "\n",
    "- 회귀 모델(LGBMRegressor)  \n",
    "**MSE: 20.8537, RMSE: 4.5666, MSLE: 0.0284, RMSLE: 0.1686, R2: 0.8906**\n",
    "\n",
    "#### 💡 분석\n",
    "- 선형 회귀 분석 결과 R2 점수가 0.4975로 나타나는 반면, 다중회귀 시 R2 점수가 0.7917로 나타남에 따라 비선형 패턴을 띄고 있음을 확인함.\n",
    "- 회귀 모델 중 LGBM 사용 시 R2 점수가 0.8906까지 상승함에 따라, 해당 모델을 선택하는 것이 적합하다고 판단됨."
   ]
  }
 ],
 "metadata": {
  "kernelspec": {
   "display_name": "Python 3 (ipykernel)",
   "language": "python",
   "name": "python3"
  },
  "language_info": {
   "codemirror_mode": {
    "name": "ipython",
    "version": 3
   },
   "file_extension": ".py",
   "mimetype": "text/x-python",
   "name": "python",
   "nbconvert_exporter": "python",
   "pygments_lexer": "ipython3",
   "version": "3.11.8"
  }
 },
 "nbformat": 4,
 "nbformat_minor": 5
}
